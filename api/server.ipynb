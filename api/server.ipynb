{
 "cells": [
  {
   "cell_type": "code",
   "execution_count": 1,
   "metadata": {},
   "outputs": [
    {
     "name": "stdout",
     "output_type": "stream",
     "text": [
      " * Serving Flask app '__main__'\n",
      " * Debug mode: off\n"
     ]
    },
    {
     "name": "stderr",
     "output_type": "stream",
     "text": [
      "WARNING: This is a development server. Do not use it in a production deployment. Use a production WSGI server instead.\n",
      " * Running on http://127.0.0.1:8080\n",
      "Press CTRL+C to quit\n",
      "127.0.0.1 - - [06/Apr/2023 19:47:53] \"GET /api/v1.0/detect HTTP/1.1\" 405 -\n",
      "127.0.0.1 - - [06/Apr/2023 19:47:53] \"GET /favicon.ico HTTP/1.1\" 404 -\n",
      "[2023-04-06 19:48:02,378] ERROR in app: Exception on /api/v1.0/detect [POST]\n",
      "Traceback (most recent call last):\n",
      "  File \"/Users/sergiocuencanunez/opt/miniconda3/envs/tensorflow/lib/python3.9/site-packages/flask/app.py\", line 2525, in wsgi_app\n",
      "    response = self.full_dispatch_request()\n",
      "  File \"/Users/sergiocuencanunez/opt/miniconda3/envs/tensorflow/lib/python3.9/site-packages/flask/app.py\", line 1822, in full_dispatch_request\n",
      "    rv = self.handle_user_exception(e)\n",
      "  File \"/Users/sergiocuencanunez/opt/miniconda3/envs/tensorflow/lib/python3.9/site-packages/flask/app.py\", line 1820, in full_dispatch_request\n",
      "    rv = self.dispatch_request()\n",
      "  File \"/Users/sergiocuencanunez/opt/miniconda3/envs/tensorflow/lib/python3.9/site-packages/flask/app.py\", line 1796, in dispatch_request\n",
      "    return self.ensure_sync(self.view_functions[rule.endpoint])(**view_args)\n",
      "  File \"/var/folders/ps/6sp6yv3x0ls96dst6g5f8sn00000gp/T/ipykernel_47410/4276654359.py\", line 24, in new_user\n",
      "    image = request.form.getlist('image')[0].split(\",\")[1]\n",
      "IndexError: list index out of range\n",
      "127.0.0.1 - - [06/Apr/2023 19:48:02] \"POST /api/v1.0/detect HTTP/1.1\" 500 -\n",
      "127.0.0.1 - - [06/Apr/2023 19:57:05] \"GET /api/v1.0/version HTTP/1.1\" 200 -\n",
      "127.0.0.1 - - [06/Apr/2023 19:57:17] \"GET /api/v1.0/version HTTP/1.1\" 200 -\n",
      "127.0.0.1 - - [06/Apr/2023 19:59:20] \"GET /api/v1.0/detect HTTP/1.1\" 405 -\n"
     ]
    }
   ],
   "source": [
    "#!flask/bin/python\n",
    "from flask import Flask, jsonify, request\n",
    "import base64\n",
    "import json\n",
    "from PIL import Image\n",
    "import cv2\n",
    "import io\n",
    "import numpy as np\n",
    "import matplotlib.pyplot as plt\n",
    "\n",
    "app = Flask(__name__)\n",
    "version=\"Face recogniser v1.0\"\n",
    "\n",
    "@app.route('/api/v1.0/version', methods=['GET'])\n",
    "def get_data():\n",
    "    #http://127.0.0.1:6878/api/v1.0/version\n",
    "    if request.method == 'GET':\n",
    "        return jsonify({'version': version})\n",
    "\n",
    "@app.route('/api/v1.0/detect', methods = ['POST'])\n",
    "def new_user():\n",
    "    #http://127.0.0.1:6878/api/v1.0/detect\n",
    "    if request.method == 'POST':\n",
    "        image = request.form.getlist('image')[0].split(\",\")[1]\n",
    "        imgdata = base64.b64decode(image)\n",
    "        img = Image.open(io.BytesIO(imgdata))\n",
    "        opencv_img= cv2.cvtColor(np.array(img), cv2.COLOR_BGR2RGB)\n",
    "        #\n",
    "        # ==========================\n",
    "        # IMPLEMENT FACE RECOGNITION\n",
    "        # ==========================\n",
    "        #\n",
    "        print(str(opencv_img.shape))\n",
    "        return jsonify({\"answer\":\"Pixels: \"+str(opencv_img.shape)})\n",
    "\n",
    "\n",
    "if __name__ == '__main__':\n",
    "    app.run(port=6878)"
   ]
  }
 ],
 "metadata": {
  "kernelspec": {
   "display_name": "tensorflow",
   "language": "python",
   "name": "python3"
  },
  "language_info": {
   "codemirror_mode": {
    "name": "ipython",
    "version": 3
   },
   "file_extension": ".py",
   "mimetype": "text/x-python",
   "name": "python",
   "nbconvert_exporter": "python",
   "pygments_lexer": "ipython3",
   "version": "3.9.13"
  },
  "orig_nbformat": 4
 },
 "nbformat": 4,
 "nbformat_minor": 2
}
