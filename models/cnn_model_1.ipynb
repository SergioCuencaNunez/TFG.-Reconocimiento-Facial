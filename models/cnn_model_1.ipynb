{
 "cells": [
  {
   "attachments": {},
   "cell_type": "markdown",
   "id": "e03c7b5e",
   "metadata": {},
   "source": [
    "# Face recognition"
   ]
  },
  {
   "cell_type": "code",
   "execution_count": 1,
   "id": "8b1c6cb6",
   "metadata": {},
   "outputs": [
    {
     "data": {
      "text/plain": [
       "''"
      ]
     },
     "execution_count": 1,
     "metadata": {},
     "output_type": "execute_result"
    }
   ],
   "source": [
    "from tensorflow.python.keras.layers import Dense,Conv2D,Flatten,MaxPooling2D,ZeroPadding2D,Dropout,Softmax\n",
    "from sklearn.model_selection import train_test_split\n",
    "from sklearn.metrics import classification_report\n",
    "from tensorflow.python.keras import Sequential\n",
    "from sklearn.datasets import fetch_lfw_people\n",
    "from sklearn.datasets import fetch_lfw_pairs\n",
    "from matplotlib import pyplot as plt\n",
    "import matplotlib.pyplot as plt\n",
    "import scikitplot as skplt\n",
    "import numpy as np\n",
    "import random\n",
    "\n",
    "# Commented out IPython magic to ensure Python compatibility.\n",
    "from __future__ import absolute_import, division, print_function, unicode_literals\n",
    "import tensorflow_datasets as tfds\n",
    "import tensorflow as tf\n",
    "tf.test.gpu_device_name()"
   ]
  },
  {
   "cell_type": "markdown",
   "id": "898550b2",
   "metadata": {},
   "source": [
    "## Fetch Data (FUNNELED FALSE)"
   ]
  },
  {
   "cell_type": "code",
   "execution_count": 2,
   "id": "a1c9bb8c",
   "metadata": {},
   "outputs": [],
   "source": [
    "data=fetch_lfw_people(resize=0.4,min_faces_per_person=40,funneled=False)"
   ]
  },
  {
   "cell_type": "code",
   "execution_count": 3,
   "id": "4e58949a",
   "metadata": {},
   "outputs": [
    {
     "name": "stdout",
     "output_type": "stream",
     "text": [
      "['data', 'images', 'target', 'target_names', 'DESCR']\n"
     ]
    }
   ],
   "source": [
    "l=list(data.keys())\n",
    "print(l)"
   ]
  },
  {
   "cell_type": "code",
   "execution_count": 4,
   "id": "f9065329",
   "metadata": {},
   "outputs": [],
   "source": [
    "X=data[\"data\"]\n",
    "Y=data[\"target\"]\n",
    "images=data[\"images\"]\n",
    "target_name=data[\"target_names\"]"
   ]
  },
  {
   "cell_type": "code",
   "execution_count": 5,
   "id": "11e3a4d9",
   "metadata": {},
   "outputs": [
    {
     "data": {
      "text/plain": [
       "(array([ 0,  1,  2,  3,  4,  5,  6,  7,  8,  9, 10, 11, 12, 13, 14, 15, 16,\n",
       "        17, 18], dtype=int64),\n",
       " array([ 77,  42, 236, 121, 530, 109,  44,  71,  52,  55,  42,  53,  60,\n",
       "         41,  41,  48,  52, 144,  49], dtype=int64))"
      ]
     },
     "execution_count": 5,
     "metadata": {},
     "output_type": "execute_result"
    }
   ],
   "source": [
    "np.unique(Y,return_counts=True)"
   ]
  },
  {
   "cell_type": "code",
   "execution_count": 6,
   "id": "01d1c32f",
   "metadata": {},
   "outputs": [
    {
     "data": {
      "text/plain": [
       "(array(['Ariel Sharon', 'Arnold Schwarzenegger', 'Colin Powell',\n",
       "        'Donald Rumsfeld', 'George W Bush', 'Gerhard Schroeder',\n",
       "        'Gloria Macapagal Arroyo', 'Hugo Chavez', 'Jacques Chirac',\n",
       "        'Jean Chretien', 'Jennifer Capriati', 'John Ashcroft',\n",
       "        'Junichiro Koizumi', 'Laura Bush', 'Lleyton Hewitt',\n",
       "        'Luiz Inacio Lula da Silva', 'Serena Williams', 'Tony Blair',\n",
       "        'Vladimir Putin'], dtype='<U25'),\n",
       " array([1, 1, 1, 1, 1, 1, 1, 1, 1, 1, 1, 1, 1, 1, 1, 1, 1, 1, 1],\n",
       "       dtype=int64))"
      ]
     },
     "execution_count": 6,
     "metadata": {},
     "output_type": "execute_result"
    }
   ],
   "source": [
    "np.unique(target_name,return_counts=True)"
   ]
  },
  {
   "cell_type": "code",
   "execution_count": 7,
   "id": "9681d6a8",
   "metadata": {},
   "outputs": [
    {
     "data": {
      "text/plain": [
       "<matplotlib.image.AxesImage at 0x2cb0f9f8400>"
      ]
     },
     "execution_count": 7,
     "metadata": {},
     "output_type": "execute_result"
    },
    {
     "data": {
      "image/png": "[encoded data removed]",
      "text/plain": [
       "<Figure size 432x288 with 1 Axes>"
      ]
     },
     "metadata": {
      "needs_background": "light"
     },
     "output_type": "display_data"
    }
   ],
   "source": [
    "target=list(target_name).index(\"Arnold Schwarzenegger\")\n",
    "indexes=np.where(Y == target)\n",
    "plt.imshow(images[indexes[0][0],:,:],cmap=\"gray\")"
   ]
  },
  {
   "cell_type": "code",
   "execution_count": 8,
   "id": "daf68993",
   "metadata": {},
   "outputs": [
    {
     "data": {
      "image/png": "[encoded data removed]",
      "text/plain": [
       "<Figure size 432x288 with 1 Axes>"
      ]
     },
     "metadata": {
      "needs_background": "light"
     },
     "output_type": "display_data"
    }
   ],
   "source": [
    "_=plt.hist(images[indexes[0][0],:,:].flatten())"
   ]
  },
  {
   "cell_type": "code",
   "execution_count": 9,
   "id": "5322abb8",
   "metadata": {},
   "outputs": [
    {
     "name": "stdout",
     "output_type": "stream",
     "text": [
      "Samples: 1867\n",
      "Features: 1850\n",
      "Classes: 19\n",
      "Dimension per image: (50, 37)\n"
     ]
    }
   ],
   "source": [
    "_,W,H=images.shape\n",
    "features = X.shape[1]\n",
    "m = X.shape[0]\n",
    "classes = target_name.shape[0]\n",
    "\n",
    "print(\"Samples:\",m)\n",
    "print(\"Features:\",features)\n",
    "print(\"Classes:\",classes)\n",
    "print(\"Dimension per image:\",(W,H))"
   ]
  },
  {
   "cell_type": "markdown",
   "id": "64801830",
   "metadata": {},
   "source": [
    "## Prepare Training"
   ]
  },
  {
   "cell_type": "code",
   "execution_count": 10,
   "id": "aacec4cc",
   "metadata": {},
   "outputs": [],
   "source": [
    "### Shuffling the data ###\n",
    "\n",
    "temp=list(zip(X,Y)) \n",
    "random.Random(42).shuffle(temp) \n",
    "X,Y=zip(*temp)\n",
    "\n",
    "X=np.array(X)\n",
    "Y=np.array(Y)"
   ]
  },
  {
   "cell_type": "code",
   "execution_count": 11,
   "id": "05a24f78",
   "metadata": {},
   "outputs": [],
   "source": [
    "####### Train and test splitting of data #######\n",
    "\n",
    "training_data_X,testing_data_X,training_data_Y,testing_data_Y=train_test_split(X,Y,test_size=0.20,random_state=42)"
   ]
  },
  {
   "cell_type": "code",
   "execution_count": 12,
   "id": "6216fe50",
   "metadata": {},
   "outputs": [
    {
     "name": "stdout",
     "output_type": "stream",
     "text": [
      "(1493, 1850)\n",
      "(1493,)\n",
      "(374, 1850)\n",
      "(374,)\n"
     ]
    }
   ],
   "source": [
    "print(training_data_X.shape)\n",
    "print(training_data_Y.shape)\n",
    "print(testing_data_X.shape)\n",
    "print(testing_data_Y.shape)"
   ]
  },
  {
   "cell_type": "markdown",
   "id": "7013cec5",
   "metadata": {},
   "source": [
    "## Create Model"
   ]
  },
  {
   "cell_type": "code",
   "execution_count": 13,
   "id": "fb051406",
   "metadata": {
    "scrolled": false
   },
   "outputs": [
    {
     "name": "stdout",
     "output_type": "stream",
     "text": [
      "(1493, 50, 37, 1)\n",
      "(1493, 19)\n",
      "(374, 50, 37, 1)\n",
      "(374, 19)\n",
      "Epoch 1/50\n",
      "15/15 [==============================] - 6s 370ms/step - loss: 13.5732 - accuracy: 0.1487 - val_loss: 2.8196 - val_accuracy: 0.1070\n",
      "Epoch 2/50\n",
      "15/15 [==============================] - 5s 342ms/step - loss: 2.6405 - accuracy: 0.2646 - val_loss: 2.5380 - val_accuracy: 0.2807\n",
      "Epoch 3/50\n",
      "15/15 [==============================] - 5s 340ms/step - loss: 2.4702 - accuracy: 0.3027 - val_loss: 2.4106 - val_accuracy: 0.2968\n",
      "Epoch 4/50\n",
      "15/15 [==============================] - 6s 379ms/step - loss: 2.3535 - accuracy: 0.3182 - val_loss: 2.2553 - val_accuracy: 0.3209\n",
      "Epoch 5/50\n",
      "15/15 [==============================] - 5s 349ms/step - loss: 2.2029 - accuracy: 0.3590 - val_loss: 2.0570 - val_accuracy: 0.3930\n",
      "Epoch 6/50\n",
      "15/15 [==============================] - 6s 374ms/step - loss: 1.9797 - accuracy: 0.4193 - val_loss: 1.8526 - val_accuracy: 0.4305\n",
      "Epoch 7/50\n",
      "15/15 [==============================] - 7s 447ms/step - loss: 1.7142 - accuracy: 0.4789 - val_loss: 1.6350 - val_accuracy: 0.5187\n",
      "Epoch 8/50\n",
      "15/15 [==============================] - 7s 448ms/step - loss: 1.4721 - accuracy: 0.5693 - val_loss: 1.3715 - val_accuracy: 0.5989\n",
      "Epoch 9/50\n",
      "15/15 [==============================] - 6s 395ms/step - loss: 1.2635 - accuracy: 0.6383 - val_loss: 1.2148 - val_accuracy: 0.6738\n",
      "Epoch 10/50\n",
      "15/15 [==============================] - 6s 412ms/step - loss: 1.0717 - accuracy: 0.6865 - val_loss: 1.1208 - val_accuracy: 0.6898\n",
      "Epoch 11/50\n",
      "15/15 [==============================] - 6s 412ms/step - loss: 0.9371 - accuracy: 0.7401 - val_loss: 0.9877 - val_accuracy: 0.7246\n",
      "Epoch 12/50\n",
      "15/15 [==============================] - 6s 436ms/step - loss: 0.7903 - accuracy: 0.7716 - val_loss: 0.9505 - val_accuracy: 0.7433\n",
      "Epoch 13/50\n",
      "15/15 [==============================] - 7s 440ms/step - loss: 0.6990 - accuracy: 0.7997 - val_loss: 0.7794 - val_accuracy: 0.7914\n",
      "Epoch 14/50\n",
      "15/15 [==============================] - 7s 443ms/step - loss: 0.5867 - accuracy: 0.8319 - val_loss: 0.7548 - val_accuracy: 0.7888\n",
      "Epoch 15/50\n",
      "15/15 [==============================] - 7s 501ms/step - loss: 0.5037 - accuracy: 0.8701 - val_loss: 0.6916 - val_accuracy: 0.8155\n",
      "Epoch 16/50\n",
      "15/15 [==============================] - 8s 515ms/step - loss: 0.4099 - accuracy: 0.8989 - val_loss: 0.6595 - val_accuracy: 0.8075\n",
      "Epoch 17/50\n",
      "15/15 [==============================] - 6s 420ms/step - loss: 0.3624 - accuracy: 0.9183 - val_loss: 0.6672 - val_accuracy: 0.8102\n",
      "Epoch 18/50\n",
      "15/15 [==============================] - 6s 424ms/step - loss: 0.3144 - accuracy: 0.9236 - val_loss: 0.6085 - val_accuracy: 0.8235\n",
      "Epoch 19/50\n",
      "15/15 [==============================] - 7s 482ms/step - loss: 0.2743 - accuracy: 0.9324 - val_loss: 0.5874 - val_accuracy: 0.8316\n",
      "Epoch 20/50\n",
      "15/15 [==============================] - 7s 434ms/step - loss: 0.2347 - accuracy: 0.9545 - val_loss: 0.5603 - val_accuracy: 0.8422\n",
      "Epoch 21/50\n",
      "15/15 [==============================] - 7s 441ms/step - loss: 0.2075 - accuracy: 0.9511 - val_loss: 0.5544 - val_accuracy: 0.8529\n",
      "Epoch 22/50\n",
      "15/15 [==============================] - 6s 413ms/step - loss: 0.1792 - accuracy: 0.9645 - val_loss: 0.4986 - val_accuracy: 0.8583\n",
      "Epoch 23/50\n",
      "15/15 [==============================] - 6s 394ms/step - loss: 0.1586 - accuracy: 0.9685 - val_loss: 0.5053 - val_accuracy: 0.8503\n",
      "Epoch 24/50\n",
      "15/15 [==============================] - 6s 419ms/step - loss: 0.1331 - accuracy: 0.9772 - val_loss: 0.5208 - val_accuracy: 0.8636\n",
      "Epoch 25/50\n",
      "15/15 [==============================] - 6s 417ms/step - loss: 0.1117 - accuracy: 0.9826 - val_loss: 0.4946 - val_accuracy: 0.8529\n",
      "Epoch 26/50\n",
      "15/15 [==============================] - 7s 501ms/step - loss: 0.1130 - accuracy: 0.9812 - val_loss: 0.4700 - val_accuracy: 0.8636\n",
      "Epoch 27/50\n",
      "15/15 [==============================] - 7s 440ms/step - loss: 0.0996 - accuracy: 0.9819 - val_loss: 0.5151 - val_accuracy: 0.8690\n",
      "Epoch 28/50\n",
      "15/15 [==============================] - 6s 419ms/step - loss: 0.0899 - accuracy: 0.9859 - val_loss: 0.5294 - val_accuracy: 0.8449\n",
      "Epoch 29/50\n",
      "15/15 [==============================] - 7s 455ms/step - loss: 0.0801 - accuracy: 0.9859 - val_loss: 0.4717 - val_accuracy: 0.8636\n",
      "Epoch 30/50\n",
      "15/15 [==============================] - 7s 443ms/step - loss: 0.0758 - accuracy: 0.9906 - val_loss: 0.5509 - val_accuracy: 0.8289\n",
      "Epoch 31/50\n",
      "15/15 [==============================] - 6s 426ms/step - loss: 0.0625 - accuracy: 0.9953 - val_loss: 0.4459 - val_accuracy: 0.8663\n",
      "Epoch 32/50\n",
      "15/15 [==============================] - 6s 435ms/step - loss: 0.0617 - accuracy: 0.9933 - val_loss: 0.4715 - val_accuracy: 0.8556\n",
      "Epoch 33/50\n",
      "15/15 [==============================] - 7s 435ms/step - loss: 0.0475 - accuracy: 0.9953 - val_loss: 0.4541 - val_accuracy: 0.8770\n",
      "Epoch 34/50\n",
      "15/15 [==============================] - 7s 445ms/step - loss: 0.0439 - accuracy: 0.9953 - val_loss: 0.4166 - val_accuracy: 0.8850\n",
      "Epoch 35/50\n",
      "15/15 [==============================] - 6s 427ms/step - loss: 0.0371 - accuracy: 0.9967 - val_loss: 0.4622 - val_accuracy: 0.8770\n",
      "Epoch 36/50\n",
      "15/15 [==============================] - 7s 427ms/step - loss: 0.0371 - accuracy: 0.9973 - val_loss: 0.4929 - val_accuracy: 0.8663\n",
      "Epoch 37/50\n",
      "15/15 [==============================] - 7s 488ms/step - loss: 0.0297 - accuracy: 0.9987 - val_loss: 0.4473 - val_accuracy: 0.8663\n",
      "Epoch 38/50\n",
      "15/15 [==============================] - 6s 426ms/step - loss: 0.0315 - accuracy: 0.9973 - val_loss: 0.4432 - val_accuracy: 0.8904\n",
      "Epoch 39/50\n",
      "15/15 [==============================] - 7s 460ms/step - loss: 0.0337 - accuracy: 0.9946 - val_loss: 0.4534 - val_accuracy: 0.8770\n",
      "Epoch 40/50\n",
      "15/15 [==============================] - 7s 444ms/step - loss: 0.0240 - accuracy: 0.9980 - val_loss: 0.4498 - val_accuracy: 0.8877\n",
      "Epoch 41/50\n",
      "15/15 [==============================] - 7s 445ms/step - loss: 0.0221 - accuracy: 0.9987 - val_loss: 0.4013 - val_accuracy: 0.8957\n",
      "Epoch 42/50\n",
      "15/15 [==============================] - 7s 467ms/step - loss: 0.0211 - accuracy: 0.9987 - val_loss: 0.4276 - val_accuracy: 0.8717\n",
      "Epoch 43/50\n",
      "15/15 [==============================] - 7s 451ms/step - loss: 0.0223 - accuracy: 0.9987 - val_loss: 0.4283 - val_accuracy: 0.8850\n",
      "Epoch 44/50\n",
      "15/15 [==============================] - 7s 434ms/step - loss: 0.0216 - accuracy: 0.9987 - val_loss: 0.4291 - val_accuracy: 0.8824\n",
      "Epoch 45/50\n",
      "15/15 [==============================] - 6s 421ms/step - loss: 0.0189 - accuracy: 0.9993 - val_loss: 0.4417 - val_accuracy: 0.8877\n",
      "Epoch 46/50\n",
      "15/15 [==============================] - 7s 448ms/step - loss: 0.0216 - accuracy: 0.9987 - val_loss: 0.4278 - val_accuracy: 0.8850\n",
      "Epoch 47/50\n",
      "15/15 [==============================] - 6s 425ms/step - loss: 0.0224 - accuracy: 0.9993 - val_loss: 0.4154 - val_accuracy: 0.8850\n",
      "Epoch 48/50\n",
      "15/15 [==============================] - 9s 631ms/step - loss: 0.0193 - accuracy: 0.9993 - val_loss: 0.4528 - val_accuracy: 0.8957\n",
      "Epoch 49/50\n",
      "15/15 [==============================] - 8s 550ms/step - loss: 0.0164 - accuracy: 0.9993 - val_loss: 0.4159 - val_accuracy: 0.8957\n",
      "Epoch 50/50\n",
      "15/15 [==============================] - 7s 474ms/step - loss: 0.0143 - accuracy: 0.9993 - val_loss: 0.4493 - val_accuracy: 0.8850\n",
      "###### Total Time Taken:  5 Minutes ######\n"
     ]
    }
   ],
   "source": [
    "from tensorflow.keras.utils import to_categorical\n",
    "import time\n",
    "\n",
    "####### CNN #######\n",
    "model=Sequential()\n",
    "\n",
    "model.add(Conv2D(64,kernel_size = 3,activation = 'relu',input_shape = (W,H,1)))\n",
    "model.add(MaxPooling2D((2,2),strides = (2,2)))\n",
    "model.add(Conv2D(128,kernel_size = 3,activation = 'relu'))\n",
    "model.add(MaxPooling2D((2,2),strides = (2,2)))\n",
    "model.add(Conv2D(256,kernel_size = 5,activation = 'relu'))\n",
    "model.add(MaxPooling2D((2,2),strides = (2,2)))\n",
    "model.add(Dropout(0.25))\n",
    "#model.add(Conv2D(512,kernel_size = 3,activation = 'relu'))\n",
    "#model.add(MaxPooling2D((2,2),strides = (2,2)))\n",
    "model.add(Flatten())\n",
    "model.add(Dense(classes,activation = 'softmax'))\n",
    "\n",
    "\n",
    "\n",
    "training_data_Y = to_categorical(training_data_Y)\n",
    "testing_data_Y = to_categorical(testing_data_Y)\n",
    "training_data_X = training_data_X.reshape(training_data_X.shape[0],W,H,1)\n",
    "testing_data_X = testing_data_X.reshape(testing_data_X.shape[0],W,H,1)\n",
    "\n",
    "print(training_data_X.shape)\n",
    "print(training_data_Y.shape)\n",
    "print(testing_data_X.shape)\n",
    "print(testing_data_Y.shape)\n",
    "\n",
    "# Measuring the time taken by the model to train\n",
    "start_time = time.time()\n",
    "model.compile(optimizer='Adamax',loss='categorical_crossentropy',metrics=['accuracy'])\n",
    "history = model.fit(training_data_X,training_data_Y,validation_data = (testing_data_X, testing_data_Y),batch_size = 100,epochs = 50)\n",
    "end_time = time.time()\n",
    "\n",
    "\n",
    "print(\"###### Total Time Taken: \", round((end_time - start_time)/60), 'Minutes ######')"
   ]
  },
  {
   "cell_type": "code",
   "execution_count": 14,
   "id": "ceefa088",
   "metadata": {},
   "outputs": [
    {
     "name": "stdout",
     "output_type": "stream",
     "text": [
      "88.5026752948761\n"
     ]
    }
   ],
   "source": [
    "score = model.evaluate(testing_data_X,testing_data_Y,verbose=0)\n",
    "print(score[1]*100)"
   ]
  },
  {
   "cell_type": "code",
   "execution_count": 15,
   "id": "bc372f81",
   "metadata": {},
   "outputs": [
    {
     "data": {
      "image/png": "[encoded data removed]",
      "text/plain": [
       "<Figure size 432x288 with 1 Axes>"
      ]
     },
     "metadata": {
      "needs_background": "light"
     },
     "output_type": "display_data"
    },
    {
     "data": {
      "image/png": "[encoded data removed]",
      "text/plain": [
       "<Figure size 432x288 with 1 Axes>"
      ]
     },
     "metadata": {
      "needs_background": "light"
     },
     "output_type": "display_data"
    }
   ],
   "source": [
    "accuracy = history.history[\"accuracy\"]\n",
    "val_accuracy = history.history[\"val_accuracy\"]\n",
    "loss = history.history[\"loss\"]\n",
    "val_loss = history.history[\"val_loss\"]\n",
    "epochs = range(1, len(accuracy) + 1)\n",
    "plt.plot(epochs, accuracy, \"bo\", label  =\"Training accuracy\") \n",
    "plt.plot(epochs, val_accuracy, \"b\", label = \"Validation accuracy\") \n",
    "plt.title(\"Training and validation accuracy\")\n",
    "plt.legend()\n",
    "plt.figure()\n",
    "plt.plot(epochs, loss, \"bo\", label = \"Training loss\") \n",
    "plt.plot(epochs, val_loss, \"b\", label = \"Validation loss\") \n",
    "plt.title(\"Training and validation loss\")\n",
    "plt.legend()\n",
    "plt.show()"
   ]
  },
  {
   "cell_type": "markdown",
   "id": "6ed40f0a",
   "metadata": {},
   "source": [
    "## Fetch Data (FUNNELED TRUE)\n",
    "\n",
    "parece que es una técnica de alineamiento de imágenes que mejora el resultado del reconocimiento:\n",
    "    \n",
    "    http://vis-www.cs.umass.edu/deep_funnel.html\n",
    "    \n",
    "Deberíamos tenerlo en cuenta de cara a tu reconocedor, y si metes imágenes para entrenar tu reconocedor, deberíamos alinearlas de la misma forma que en el dataset LFW.\n",
    "\n",
    "Sin embargo, al repetir todo el proceso para imágenes FUNNELED, el resultado es mucho peor...."
   ]
  },
  {
   "cell_type": "code",
   "execution_count": 16,
   "id": "b01492a4",
   "metadata": {},
   "outputs": [],
   "source": [
    "data2=fetch_lfw_people(resize=0.4,min_faces_per_person=40,funneled=True)"
   ]
  },
  {
   "cell_type": "code",
   "execution_count": 17,
   "id": "97ead116",
   "metadata": {},
   "outputs": [],
   "source": [
    "X2=data2[\"data\"]\n",
    "Y2=data2[\"target\"]\n",
    "images2=data2[\"images\"]\n",
    "target_name2=data2[\"target_names\"]"
   ]
  },
  {
   "cell_type": "code",
   "execution_count": 18,
   "id": "9c875e84",
   "metadata": {},
   "outputs": [
    {
     "data": {
      "text/plain": [
       "<matplotlib.image.AxesImage at 0x2cb1290f040>"
      ]
     },
     "execution_count": 18,
     "metadata": {},
     "output_type": "execute_result"
    },
    {
     "data": {
      "image/png": "[encoded data removed]",
      "text/plain": [
       "<Figure size 432x288 with 1 Axes>"
      ]
     },
     "metadata": {
      "needs_background": "light"
     },
     "output_type": "display_data"
    }
   ],
   "source": [
    "target2=list(target_name2).index(\"Arnold Schwarzenegger\")\n",
    "indexes2=np.where(Y2 == target2)\n",
    "plt.imshow(images2[indexes2[0][0],:,:],cmap=\"gray\")"
   ]
  },
  {
   "cell_type": "code",
   "execution_count": 19,
   "id": "44708e44",
   "metadata": {},
   "outputs": [
    {
     "name": "stdout",
     "output_type": "stream",
     "text": [
      "Samples: 1867\n",
      "Features: 1850\n",
      "Classes: 19\n",
      "Dimension per image: (50, 37)\n"
     ]
    }
   ],
   "source": [
    "_,W2,H2=images2.shape\n",
    "features2 = X2.shape[1]\n",
    "m2 = X2.shape[0]\n",
    "classes2 = target_name2.shape[0]\n",
    "\n",
    "print(\"Samples:\",m2)\n",
    "print(\"Features:\",features2)\n",
    "print(\"Classes:\",classes2)\n",
    "print(\"Dimension per image:\",(W2,H2))"
   ]
  },
  {
   "cell_type": "code",
   "execution_count": 20,
   "id": "5f1b1cde",
   "metadata": {},
   "outputs": [],
   "source": [
    "### Shuffling the data ###\n",
    "\n",
    "temp2=list(zip(X2,Y2)) \n",
    "random.Random(42).shuffle(temp2) \n",
    "X2,Y2=zip(*temp2)\n",
    "\n",
    "X2=np.array(X2)\n",
    "Y2=np.array(Y2)\n",
    "\n",
    "####### Train and test splitting of data #######\n",
    "\n",
    "training_data_X2,testing_data_X2,training_data_Y2,testing_data_Y2=train_test_split(X2,Y2,test_size=0.20,random_state=42)"
   ]
  },
  {
   "cell_type": "code",
   "execution_count": 21,
   "id": "09c9acfd",
   "metadata": {},
   "outputs": [
    {
     "name": "stdout",
     "output_type": "stream",
     "text": [
      "(1493, 1850)\n",
      "(1493,)\n",
      "(374, 1850)\n",
      "(374,)\n"
     ]
    }
   ],
   "source": [
    "print(training_data_X2.shape)\n",
    "print(training_data_Y2.shape)\n",
    "print(testing_data_X2.shape)\n",
    "print(testing_data_Y2.shape)"
   ]
  },
  {
   "cell_type": "code",
   "execution_count": 22,
   "id": "81c2b3cc",
   "metadata": {},
   "outputs": [],
   "source": [
    "from tensorflow.keras.utils import to_categorical\n",
    "import time\n",
    "\n",
    "####### CNN #######\n",
    "model2=Sequential()\n",
    "\n",
    "model2.add(Conv2D(64,kernel_size = 3,activation = 'relu',input_shape = (W2,H2,1)))\n",
    "model2.add(MaxPooling2D((2,2),strides = (2,2)))\n",
    "model2.add(Conv2D(128,kernel_size = 3,activation = 'relu'))\n",
    "model2.add(MaxPooling2D((2,2),strides = (2,2)))\n",
    "model2.add(Conv2D(256,kernel_size = 5,activation = 'relu'))\n",
    "model2.add(MaxPooling2D((2,2),strides = (2,2)))\n",
    "model2.add(Dropout(0.25))\n",
    "#model2.add(Conv2D(512,kernel_size = 3,activation = 'relu'))\n",
    "#model2.add(MaxPooling2D((2,2),strides = (2,2)))\n",
    "model2.add(Flatten())\n",
    "model2.add(Dense(classes2,activation = 'softmax'))\n",
    "\n",
    "\n",
    "\n",
    "training_data_Y2 = to_categorical(training_data_Y2)\n",
    "testing_data_Y2 = to_categorical(testing_data_Y2)\n",
    "training_data_X2 = training_data_X2.reshape(training_data_X2.shape[0],W2,H2,1)\n",
    "testing_data_X2 = testing_data_X2.reshape(testing_data_X2.shape[0],W2,H2,1)"
   ]
  },
  {
   "cell_type": "code",
   "execution_count": 23,
   "id": "686aa00f",
   "metadata": {},
   "outputs": [
    {
     "name": "stdout",
     "output_type": "stream",
     "text": [
      "(1493, 50, 37, 1)\n",
      "(1493, 19)\n",
      "(374, 50, 37, 1)\n",
      "(374, 19)\n"
     ]
    }
   ],
   "source": [
    "print(training_data_X2.shape)\n",
    "print(training_data_Y2.shape)\n",
    "print(testing_data_X2.shape)\n",
    "print(testing_data_Y2.shape)"
   ]
  },
  {
   "cell_type": "code",
   "execution_count": 24,
   "id": "bcd11864",
   "metadata": {
    "scrolled": false
   },
   "outputs": [
    {
     "name": "stdout",
     "output_type": "stream",
     "text": [
      "Epoch 1/50\n",
      "15/15 [==============================] - 6s 379ms/step - loss: 17.8170 - accuracy: 0.1366 - val_loss: 2.7966 - val_accuracy: 0.1497\n",
      "Epoch 2/50\n",
      "15/15 [==============================] - 5s 351ms/step - loss: 2.6466 - accuracy: 0.2592 - val_loss: 2.4892 - val_accuracy: 0.2834\n",
      "Epoch 3/50\n",
      "15/15 [==============================] - 5s 350ms/step - loss: 2.4662 - accuracy: 0.2981 - val_loss: 2.3587 - val_accuracy: 0.2968\n",
      "Epoch 4/50\n",
      "15/15 [==============================] - 5s 353ms/step - loss: 2.2622 - accuracy: 0.3463 - val_loss: 2.1670 - val_accuracy: 0.3663\n",
      "Epoch 5/50\n",
      "15/15 [==============================] - 6s 379ms/step - loss: 2.0391 - accuracy: 0.4005 - val_loss: 1.8602 - val_accuracy: 0.4519\n",
      "Epoch 6/50\n",
      "15/15 [==============================] - 6s 391ms/step - loss: 1.7916 - accuracy: 0.4735 - val_loss: 1.6000 - val_accuracy: 0.5348\n",
      "Epoch 7/50\n",
      "15/15 [==============================] - 6s 401ms/step - loss: 1.5757 - accuracy: 0.5412 - val_loss: 1.4574 - val_accuracy: 0.5775\n",
      "Epoch 8/50\n",
      "15/15 [==============================] - 6s 418ms/step - loss: 1.3958 - accuracy: 0.6008 - val_loss: 1.2572 - val_accuracy: 0.6658\n",
      "Epoch 9/50\n",
      "15/15 [==============================] - 6s 392ms/step - loss: 1.1874 - accuracy: 0.6611 - val_loss: 1.1152 - val_accuracy: 0.6818\n",
      "Epoch 10/50\n",
      "15/15 [==============================] - 6s 374ms/step - loss: 1.0661 - accuracy: 0.6966 - val_loss: 1.0735 - val_accuracy: 0.6898\n",
      "Epoch 11/50\n",
      "15/15 [==============================] - 6s 415ms/step - loss: 0.9417 - accuracy: 0.7314 - val_loss: 0.9347 - val_accuracy: 0.7433\n",
      "Epoch 12/50\n",
      "15/15 [==============================] - 6s 409ms/step - loss: 0.8259 - accuracy: 0.7662 - val_loss: 0.8824 - val_accuracy: 0.7406\n",
      "Epoch 13/50\n",
      "15/15 [==============================] - 6s 408ms/step - loss: 0.7291 - accuracy: 0.7870 - val_loss: 0.7884 - val_accuracy: 0.7888\n",
      "Epoch 14/50\n",
      "15/15 [==============================] - 6s 419ms/step - loss: 0.6272 - accuracy: 0.8265 - val_loss: 0.7263 - val_accuracy: 0.7968\n",
      "Epoch 15/50\n",
      "15/15 [==============================] - 6s 394ms/step - loss: 0.5368 - accuracy: 0.8553 - val_loss: 0.6935 - val_accuracy: 0.7995\n",
      "Epoch 16/50\n",
      "15/15 [==============================] - 6s 428ms/step - loss: 0.4644 - accuracy: 0.8808 - val_loss: 0.6998 - val_accuracy: 0.8155\n",
      "Epoch 17/50\n",
      "15/15 [==============================] - 6s 371ms/step - loss: 0.4307 - accuracy: 0.8821 - val_loss: 0.6399 - val_accuracy: 0.8182\n",
      "Epoch 18/50\n",
      "15/15 [==============================] - 6s 381ms/step - loss: 0.3549 - accuracy: 0.9123 - val_loss: 0.6009 - val_accuracy: 0.8449\n",
      "Epoch 19/50\n",
      "15/15 [==============================] - 6s 398ms/step - loss: 0.3117 - accuracy: 0.9270 - val_loss: 0.5781 - val_accuracy: 0.8449\n",
      "Epoch 20/50\n",
      "15/15 [==============================] - 6s 386ms/step - loss: 0.2791 - accuracy: 0.9337 - val_loss: 0.6169 - val_accuracy: 0.8289\n",
      "Epoch 21/50\n",
      "15/15 [==============================] - 6s 411ms/step - loss: 0.2408 - accuracy: 0.9431 - val_loss: 0.6284 - val_accuracy: 0.8369\n",
      "Epoch 22/50\n",
      "15/15 [==============================] - 6s 399ms/step - loss: 0.2116 - accuracy: 0.9518 - val_loss: 0.6399 - val_accuracy: 0.8262\n",
      "Epoch 23/50\n",
      "15/15 [==============================] - 7s 470ms/step - loss: 0.1939 - accuracy: 0.9551 - val_loss: 0.6256 - val_accuracy: 0.8449\n",
      "Epoch 24/50\n",
      "15/15 [==============================] - 7s 495ms/step - loss: 0.1780 - accuracy: 0.9558 - val_loss: 0.6193 - val_accuracy: 0.8449\n",
      "Epoch 25/50\n",
      "15/15 [==============================] - 7s 448ms/step - loss: 0.1473 - accuracy: 0.9719 - val_loss: 0.5773 - val_accuracy: 0.8529\n",
      "Epoch 26/50\n",
      "15/15 [==============================] - 7s 460ms/step - loss: 0.1322 - accuracy: 0.9712 - val_loss: 0.6182 - val_accuracy: 0.8476\n",
      "Epoch 27/50\n",
      "15/15 [==============================] - 7s 434ms/step - loss: 0.1283 - accuracy: 0.9759 - val_loss: 0.5699 - val_accuracy: 0.8529\n",
      "Epoch 28/50\n",
      "15/15 [==============================] - 6s 383ms/step - loss: 0.1046 - accuracy: 0.9833 - val_loss: 0.5430 - val_accuracy: 0.8717\n",
      "Epoch 29/50\n",
      "15/15 [==============================] - 6s 391ms/step - loss: 0.0964 - accuracy: 0.9806 - val_loss: 0.5615 - val_accuracy: 0.8529\n",
      "Epoch 30/50\n",
      "15/15 [==============================] - 6s 378ms/step - loss: 0.0864 - accuracy: 0.9866 - val_loss: 0.5244 - val_accuracy: 0.8636\n",
      "Epoch 31/50\n",
      "15/15 [==============================] - 6s 387ms/step - loss: 0.0805 - accuracy: 0.9886 - val_loss: 0.5960 - val_accuracy: 0.8503\n",
      "Epoch 32/50\n",
      "15/15 [==============================] - 6s 383ms/step - loss: 0.0745 - accuracy: 0.9893 - val_loss: 0.4932 - val_accuracy: 0.8877\n",
      "Epoch 33/50\n",
      "15/15 [==============================] - 6s 387ms/step - loss: 0.0509 - accuracy: 0.9960 - val_loss: 0.5615 - val_accuracy: 0.8663\n",
      "Epoch 34/50\n",
      "15/15 [==============================] - 6s 373ms/step - loss: 0.0527 - accuracy: 0.9960 - val_loss: 0.5255 - val_accuracy: 0.8797\n",
      "Epoch 35/50\n",
      "15/15 [==============================] - 6s 380ms/step - loss: 0.0477 - accuracy: 0.9940 - val_loss: 0.5528 - val_accuracy: 0.8743\n",
      "Epoch 36/50\n",
      "15/15 [==============================] - 6s 374ms/step - loss: 0.0404 - accuracy: 0.9967 - val_loss: 0.5232 - val_accuracy: 0.8717\n",
      "Epoch 37/50\n",
      "15/15 [==============================] - 6s 371ms/step - loss: 0.0448 - accuracy: 0.9933 - val_loss: 0.5047 - val_accuracy: 0.8690\n",
      "Epoch 38/50\n",
      "15/15 [==============================] - 6s 385ms/step - loss: 0.0310 - accuracy: 0.9967 - val_loss: 0.5547 - val_accuracy: 0.8636\n",
      "Epoch 39/50\n",
      "15/15 [==============================] - 6s 374ms/step - loss: 0.0391 - accuracy: 0.9933 - val_loss: 0.5366 - val_accuracy: 0.8636\n",
      "Epoch 40/50\n",
      "15/15 [==============================] - 6s 371ms/step - loss: 0.0374 - accuracy: 0.9953 - val_loss: 0.5446 - val_accuracy: 0.8690\n",
      "Epoch 41/50\n",
      "15/15 [==============================] - 6s 370ms/step - loss: 0.0331 - accuracy: 0.9967 - val_loss: 0.5079 - val_accuracy: 0.8770\n",
      "Epoch 42/50\n",
      "15/15 [==============================] - 6s 378ms/step - loss: 0.0289 - accuracy: 0.9980 - val_loss: 0.5415 - val_accuracy: 0.8690\n",
      "Epoch 43/50\n",
      "15/15 [==============================] - 6s 397ms/step - loss: 0.0227 - accuracy: 0.9987 - val_loss: 0.5399 - val_accuracy: 0.8877\n",
      "Epoch 44/50\n",
      "15/15 [==============================] - 6s 423ms/step - loss: 0.0261 - accuracy: 0.9980 - val_loss: 0.5443 - val_accuracy: 0.8503\n",
      "Epoch 45/50\n",
      "15/15 [==============================] - 6s 378ms/step - loss: 0.0306 - accuracy: 0.9967 - val_loss: 0.5645 - val_accuracy: 0.8663\n",
      "Epoch 46/50\n",
      "15/15 [==============================] - 6s 370ms/step - loss: 0.0285 - accuracy: 0.9946 - val_loss: 0.5347 - val_accuracy: 0.8770\n",
      "Epoch 47/50\n",
      "15/15 [==============================] - 6s 393ms/step - loss: 0.0339 - accuracy: 0.9953 - val_loss: 0.6576 - val_accuracy: 0.8503\n",
      "Epoch 48/50\n",
      "15/15 [==============================] - 6s 397ms/step - loss: 0.0382 - accuracy: 0.9900 - val_loss: 0.4780 - val_accuracy: 0.8770\n",
      "Epoch 49/50\n",
      "15/15 [==============================] - 6s 386ms/step - loss: 0.0279 - accuracy: 0.9960 - val_loss: 0.5139 - val_accuracy: 0.8770\n",
      "Epoch 50/50\n",
      "15/15 [==============================] - 6s 368ms/step - loss: 0.0213 - accuracy: 0.9980 - val_loss: 0.5335 - val_accuracy: 0.8743\n",
      "###### Total Time Taken:  5 Minutes ######\n"
     ]
    }
   ],
   "source": [
    "# Measuring the time taken by the model to train\n",
    "start_time2 = time.time()\n",
    "model2.compile(optimizer='Adamax',loss='categorical_crossentropy',metrics=['accuracy'])\n",
    "history2 = model2.fit(training_data_X2,training_data_Y2,validation_data = (testing_data_X2, testing_data_Y2),batch_size = 100,epochs = 50)\n",
    "end_time2 = time.time()\n",
    "\n",
    "\n",
    "print(\"###### Total Time Taken: \", round((end_time2 - start_time2)/60), 'Minutes ######')"
   ]
  },
  {
   "cell_type": "code",
   "execution_count": 25,
   "id": "4bae6869",
   "metadata": {},
   "outputs": [
    {
     "name": "stdout",
     "output_type": "stream",
     "text": [
      "87.4331533908844\n"
     ]
    }
   ],
   "source": [
    "score2 = model2.evaluate(testing_data_X2,testing_data_Y2,verbose=0)\n",
    "print(score2[1]*100)"
   ]
  },
  {
   "cell_type": "markdown",
   "id": "6723b4a0",
   "metadata": {},
   "source": [
    "Compruebo que con el modelo 1 (entrenado sin datos alineados) la precisión es similar, lo que me lleva a la conclusión de que probablemente, en este API, los datos con el funneled puesto a True y a False sean los mismos. Pero habrá que tenerlo en cuenta para tu aplicación."
   ]
  },
  {
   "cell_type": "code",
   "execution_count": 26,
   "id": "d5d42d0f",
   "metadata": {},
   "outputs": [
    {
     "name": "stdout",
     "output_type": "stream",
     "text": [
      "88.5026752948761\n"
     ]
    }
   ],
   "source": [
    "score = model.evaluate(testing_data_X,testing_data_Y,verbose=0)\n",
    "print(score[1]*100)"
   ]
  }
 ],
 "metadata": {
  "kernelspec": {
   "display_name": "Python 3.9 (tensorflow)",
   "language": "python",
   "name": "tensorflow"
  },
  "language_info": {
   "codemirror_mode": {
    "name": "ipython",
    "version": 3
   },
   "file_extension": ".py",
   "mimetype": "text/x-python",
   "name": "python",
   "nbconvert_exporter": "python",
   "pygments_lexer": "ipython3",
   "version": "3.9.13 | packaged by conda-forge | (main, May 27 2022, 17:00:33) \n[Clang 13.0.1 ]"
  }
 },
 "nbformat": 4,
 "nbformat_minor": 5
}
