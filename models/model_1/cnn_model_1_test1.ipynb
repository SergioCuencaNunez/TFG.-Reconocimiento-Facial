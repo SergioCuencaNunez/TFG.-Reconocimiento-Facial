{
  "cells": [
    {
      "cell_type": "markdown",
      "metadata": {
        "id": "e03c7b5e"
      },
      "source": [
        "# Face recognition"
      ],
      "id": "e03c7b5e"
    },
    {
      "cell_type": "code",
      "execution_count": 8,
      "metadata": {
        "colab": {
          "base_uri": "https://localhost:8080/",
          "height": 324
        },
        "id": "8b1c6cb6",
        "outputId": "7382a7d4-467b-4d9f-cb8a-90bfaec7a8e7"
      },
      "outputs": [
        {
          "output_type": "stream",
          "name": "stdout",
          "text": [
            "Looking in indexes: https://pypi.org/simple, https://us-python.pkg.dev/colab-wheels/public/simple/\n",
            "Requirement already satisfied: scikit-plot in /usr/local/lib/python3.10/dist-packages (0.3.7)\n",
            "Requirement already satisfied: matplotlib>=1.4.0 in /usr/local/lib/python3.10/dist-packages (from scikit-plot) (3.7.1)\n",
            "Requirement already satisfied: scikit-learn>=0.18 in /usr/local/lib/python3.10/dist-packages (from scikit-plot) (1.2.2)\n",
            "Requirement already satisfied: scipy>=0.9 in /usr/local/lib/python3.10/dist-packages (from scikit-plot) (1.10.1)\n",
            "Requirement already satisfied: joblib>=0.10 in /usr/local/lib/python3.10/dist-packages (from scikit-plot) (1.2.0)\n",
            "Requirement already satisfied: contourpy>=1.0.1 in /usr/local/lib/python3.10/dist-packages (from matplotlib>=1.4.0->scikit-plot) (1.0.7)\n",
            "Requirement already satisfied: cycler>=0.10 in /usr/local/lib/python3.10/dist-packages (from matplotlib>=1.4.0->scikit-plot) (0.11.0)\n",
            "Requirement already satisfied: fonttools>=4.22.0 in /usr/local/lib/python3.10/dist-packages (from matplotlib>=1.4.0->scikit-plot) (4.39.3)\n",
            "Requirement already satisfied: kiwisolver>=1.0.1 in /usr/local/lib/python3.10/dist-packages (from matplotlib>=1.4.0->scikit-plot) (1.4.4)\n",
            "Requirement already satisfied: numpy>=1.20 in /usr/local/lib/python3.10/dist-packages (from matplotlib>=1.4.0->scikit-plot) (1.22.4)\n",
            "Requirement already satisfied: packaging>=20.0 in /usr/local/lib/python3.10/dist-packages (from matplotlib>=1.4.0->scikit-plot) (23.1)\n",
            "Requirement already satisfied: pillow>=6.2.0 in /usr/local/lib/python3.10/dist-packages (from matplotlib>=1.4.0->scikit-plot) (8.4.0)\n",
            "Requirement already satisfied: pyparsing>=2.3.1 in /usr/local/lib/python3.10/dist-packages (from matplotlib>=1.4.0->scikit-plot) (3.0.9)\n",
            "Requirement already satisfied: python-dateutil>=2.7 in /usr/local/lib/python3.10/dist-packages (from matplotlib>=1.4.0->scikit-plot) (2.8.2)\n",
            "Requirement already satisfied: threadpoolctl>=2.0.0 in /usr/local/lib/python3.10/dist-packages (from scikit-learn>=0.18->scikit-plot) (3.1.0)\n",
            "Requirement already satisfied: six>=1.5 in /usr/local/lib/python3.10/dist-packages (from python-dateutil>=2.7->matplotlib>=1.4.0->scikit-plot) (1.16.0)\n"
          ]
        },
        {
          "output_type": "execute_result",
          "data": {
            "text/plain": [
              "''"
            ],
            "application/vnd.google.colaboratory.intrinsic+json": {
              "type": "string"
            }
          },
          "metadata": {},
          "execution_count": 8
        }
      ],
      "source": [
        "from tensorflow.python.keras.layers import Dense,Conv2D,Flatten,MaxPooling2D,ZeroPadding2D,Dropout,Softmax\n",
        "from sklearn.model_selection import train_test_split\n",
        "from sklearn.metrics import classification_report\n",
        "from tensorflow.python.keras import Sequential\n",
        "from sklearn.datasets import fetch_lfw_people\n",
        "from sklearn.datasets import fetch_lfw_pairs\n",
        "from matplotlib import pyplot as plt\n",
        "import matplotlib.pyplot as plt\n",
        "!pip install scikit-plot\n",
        "import scikitplot as skplt\n",
        "import numpy as np\n",
        "import random\n",
        "\n",
        "# Commented out IPython magic to ensure Python compatibility.\n",
        "from __future__ import absolute_import, division, print_function, unicode_literals\n",
        "import tensorflow_datasets as tfds\n",
        "import tensorflow as tf\n",
        "tf.test.gpu_device_name()"
      ],
      "id": "8b1c6cb6"
    },
    {
      "cell_type": "markdown",
      "metadata": {
        "id": "898550b2"
      },
      "source": [
        "## Fetch Data (FUNNELED FALSE)"
      ],
      "id": "898550b2"
    },
    {
      "cell_type": "code",
      "execution_count": null,
      "metadata": {
        "id": "a1c9bb8c"
      },
      "outputs": [],
      "source": [
        "data=fetch_lfw_people(resize=0.4,min_faces_per_person=40,funneled=False)"
      ],
      "id": "a1c9bb8c"
    },
    {
      "cell_type": "code",
      "execution_count": null,
      "metadata": {
        "colab": {
          "base_uri": "https://localhost:8080/"
        },
        "id": "4e58949a",
        "outputId": "a1a83ca6-53c8-4a91-80af-1a4f6b353708"
      },
      "outputs": [
        {
          "output_type": "stream",
          "name": "stdout",
          "text": [
            "['data', 'images', 'target', 'target_names', 'DESCR']\n"
          ]
        }
      ],
      "source": [
        "l=list(data.keys())\n",
        "print(l)"
      ],
      "id": "4e58949a"
    },
    {
      "cell_type": "code",
      "execution_count": null,
      "metadata": {
        "id": "f9065329"
      },
      "outputs": [],
      "source": [
        "X=data[\"data\"]\n",
        "Y=data[\"target\"]\n",
        "images=data[\"images\"]\n",
        "target_name=data[\"target_names\"]"
      ],
      "id": "f9065329"
    },
    {
      "cell_type": "code",
      "execution_count": null,
      "metadata": {
        "colab": {
          "base_uri": "https://localhost:8080/"
        },
        "id": "11e3a4d9",
        "outputId": "354027d1-7db4-4d66-c511-0034a6331976"
      },
      "outputs": [
        {
          "output_type": "execute_result",
          "data": {
            "text/plain": [
              "(array([ 0,  1,  2,  3,  4,  5,  6,  7,  8,  9, 10, 11, 12, 13, 14, 15, 16,\n",
              "        17, 18]),\n",
              " array([ 77,  42, 236, 121, 530, 109,  44,  71,  52,  55,  42,  53,  60,\n",
              "         41,  41,  48,  52, 144,  49]))"
            ]
          },
          "metadata": {},
          "execution_count": 5
        }
      ],
      "source": [
        "np.unique(Y,return_counts=True)"
      ],
      "id": "11e3a4d9"
    },
    {
      "cell_type": "code",
      "execution_count": null,
      "metadata": {
        "colab": {
          "base_uri": "https://localhost:8080/"
        },
        "id": "01d1c32f",
        "outputId": "024a8382-baf0-4164-dba8-2aec7763dc1b"
      },
      "outputs": [
        {
          "output_type": "execute_result",
          "data": {
            "text/plain": [
              "(array(['Ariel Sharon', 'Arnold Schwarzenegger', 'Colin Powell',\n",
              "        'Donald Rumsfeld', 'George W Bush', 'Gerhard Schroeder',\n",
              "        'Gloria Macapagal Arroyo', 'Hugo Chavez', 'Jacques Chirac',\n",
              "        'Jean Chretien', 'Jennifer Capriati', 'John Ashcroft',\n",
              "        'Junichiro Koizumi', 'Laura Bush', 'Lleyton Hewitt',\n",
              "        'Luiz Inacio Lula da Silva', 'Serena Williams', 'Tony Blair',\n",
              "        'Vladimir Putin'], dtype='<U25'),\n",
              " array([1, 1, 1, 1, 1, 1, 1, 1, 1, 1, 1, 1, 1, 1, 1, 1, 1, 1, 1]))"
            ]
          },
          "metadata": {},
          "execution_count": 6
        }
      ],
      "source": [
        "np.unique(target_name,return_counts=True)"
      ],
      "id": "01d1c32f"
    },
    {
      "cell_type": "code",
      "execution_count": null,
      "metadata": {
        "colab": {
          "base_uri": "https://localhost:8080/",
          "height": 449
        },
        "id": "9681d6a8",
        "outputId": "5233c53f-040b-4049-a546-70541622eee9"
      },
      "outputs": [
        {
          "output_type": "execute_result",
          "data": {
            "text/plain": [
              "<matplotlib.image.AxesImage at 0x7f4fec858400>"
            ]
          },
          "metadata": {},
          "execution_count": 7
        },
        {
          "output_type": "display_data",
          "data": {
            "text/plain": [
              "<Figure size 640x480 with 1 Axes>"
            ],
            "image/png": "[encoded data removed]"
          },
          "metadata": {}
        }
      ],
      "source": [
        "target=list(target_name).index(\"Arnold Schwarzenegger\")\n",
        "indexes=np.where(Y == target)\n",
        "plt.imshow(images[indexes[0][0],:,:],cmap=\"gray\")"
      ],
      "id": "9681d6a8"
    },
    {
      "cell_type": "code",
      "execution_count": null,
      "metadata": {
        "colab": {
          "base_uri": "https://localhost:8080/",
          "height": 430
        },
        "id": "daf68993",
        "outputId": "c15a480f-d99d-4509-f27e-64c2736f772a"
      },
      "outputs": [
        {
          "output_type": "display_data",
          "data": {
            "text/plain": [
              "<Figure size 640x480 with 1 Axes>"
            ],
            "image/png": "[encoded data removed]"
          },
          "metadata": {}
        }
      ],
      "source": [
        "_=plt.hist(images[indexes[0][0],:,:].flatten())"
      ],
      "id": "daf68993"
    },
    {
      "cell_type": "code",
      "execution_count": null,
      "metadata": {
        "colab": {
          "base_uri": "https://localhost:8080/"
        },
        "id": "5322abb8",
        "outputId": "eb753d54-33dd-4f46-cd51-2a7202630821"
      },
      "outputs": [
        {
          "output_type": "stream",
          "name": "stdout",
          "text": [
            "Samples: 1867\n",
            "Features: 1850\n",
            "Classes: 19\n",
            "Dimension per image: (50, 37)\n"
          ]
        }
      ],
      "source": [
        "_,W,H=images.shape\n",
        "features = X.shape[1]\n",
        "m = X.shape[0]\n",
        "classes = target_name.shape[0]\n",
        "\n",
        "print(\"Samples:\",m)\n",
        "print(\"Features:\",features)\n",
        "print(\"Classes:\",classes)\n",
        "print(\"Dimension per image:\",(W,H))"
      ],
      "id": "5322abb8"
    },
    {
      "cell_type": "markdown",
      "metadata": {
        "id": "64801830"
      },
      "source": [
        "## Prepare Training"
      ],
      "id": "64801830"
    },
    {
      "cell_type": "code",
      "execution_count": null,
      "metadata": {
        "id": "aacec4cc"
      },
      "outputs": [],
      "source": [
        "### Shuffling the data ###\n",
        "\n",
        "temp=list(zip(X,Y)) \n",
        "random.Random(42).shuffle(temp) \n",
        "X,Y=zip(*temp)\n",
        "\n",
        "X=np.array(X)\n",
        "Y=np.array(Y)"
      ],
      "id": "aacec4cc"
    },
    {
      "cell_type": "code",
      "execution_count": null,
      "metadata": {
        "id": "05a24f78"
      },
      "outputs": [],
      "source": [
        "####### Train and test splitting of data #######\n",
        "\n",
        "training_data_X,testing_data_X,training_data_Y,testing_data_Y=train_test_split(X,Y,test_size=0.20,random_state=42)"
      ],
      "id": "05a24f78"
    },
    {
      "cell_type": "code",
      "execution_count": null,
      "metadata": {
        "colab": {
          "base_uri": "https://localhost:8080/"
        },
        "id": "6216fe50",
        "outputId": "bd7da40e-ae0f-48f0-8fb6-545bf143b4a2"
      },
      "outputs": [
        {
          "output_type": "stream",
          "name": "stdout",
          "text": [
            "(1493, 1850)\n",
            "(1493,)\n",
            "(374, 1850)\n",
            "(374,)\n"
          ]
        }
      ],
      "source": [
        "print(training_data_X.shape)\n",
        "print(training_data_Y.shape)\n",
        "print(testing_data_X.shape)\n",
        "print(testing_data_Y.shape)"
      ],
      "id": "6216fe50"
    },
    {
      "cell_type": "markdown",
      "metadata": {
        "id": "7013cec5"
      },
      "source": [
        "## Create Model"
      ],
      "id": "7013cec5"
    },
    {
      "cell_type": "code",
      "execution_count": null,
      "metadata": {
        "id": "fb051406",
        "scrolled": false
      },
      "outputs": [],
      "source": [
        "from tensorflow.keras.utils import to_categorical\n",
        "import time\n",
        "\n",
        "####### CNN #######\n",
        "model=Sequential()\n",
        "\n",
        "model.add(Conv2D(64,kernel_size = 3,activation = 'relu',input_shape = (W,H,1)))\n",
        "model.add(MaxPooling2D((2,2),strides = (2,2)))\n",
        "model.add(Conv2D(128,kernel_size = 3,activation = 'relu'))\n",
        "model.add(MaxPooling2D((2,2),strides = (2,2)))\n",
        "model.add(Conv2D(256,kernel_size = 5,activation = 'relu'))\n",
        "model.add(MaxPooling2D((2,2),strides = (2,2)))\n",
        "model.add(Dropout(0.25))\n",
        "#model.add(Conv2D(512,kernel_size = 3,activation = 'relu'))\n",
        "#model.add(MaxPooling2D((2,2),strides = (2,2)))\n",
        "model.add(Flatten())\n",
        "model.add(Dense(classes,activation = 'softmax'))\n",
        "\n",
        "\n",
        "\n",
        "training_data_Y = to_categorical(training_data_Y)\n",
        "testing_data_Y = to_categorical(testing_data_Y)\n",
        "training_data_X = training_data_X.reshape(training_data_X.shape[0],W,H,1)\n",
        "testing_data_X = testing_data_X.reshape(testing_data_X.shape[0],W,H,1)\n",
        "\n",
        "print(training_data_X.shape)\n",
        "print(training_data_Y.shape)\n",
        "print(testing_data_X.shape)\n",
        "print(testing_data_Y.shape)\n",
        "\n",
        "# Measuring the time taken by the model to train\n",
        "start_time = time.time()\n",
        "model.compile(optimizer='Adamax',loss='categorical_crossentropy',metrics=['accuracy'])\n",
        "history = model.fit(training_data_X,training_data_Y,validation_data = (testing_data_X, testing_data_Y),batch_size = 100,epochs = 50)\n",
        "end_time = time.time()\n",
        "\n",
        "\n",
        "print(\"###### Total Time Taken: \", round((end_time - start_time)/60), 'Minutes ######')"
      ],
      "id": "fb051406"
    },
    {
      "cell_type": "code",
      "execution_count": null,
      "metadata": {
        "id": "ceefa088"
      },
      "outputs": [],
      "source": [
        "score = model.evaluate(testing_data_X,testing_data_Y,verbose=0)\n",
        "print(score[1]*100)"
      ],
      "id": "ceefa088"
    },
    {
      "cell_type": "code",
      "execution_count": null,
      "metadata": {
        "id": "bc372f81"
      },
      "outputs": [],
      "source": [
        "accuracy = history.history[\"accuracy\"]\n",
        "val_accuracy = history.history[\"val_accuracy\"]\n",
        "loss = history.history[\"loss\"]\n",
        "val_loss = history.history[\"val_loss\"]\n",
        "epochs = range(1, len(accuracy) + 1)\n",
        "plt.plot(epochs, accuracy, \"bo\", label  =\"Training accuracy\") \n",
        "plt.plot(epochs, val_accuracy, \"b\", label = \"Validation accuracy\") \n",
        "plt.title(\"Training and validation accuracy\")\n",
        "plt.legend()\n",
        "plt.figure()\n",
        "plt.plot(epochs, loss, \"bo\", label = \"Training loss\") \n",
        "plt.plot(epochs, val_loss, \"b\", label = \"Validation loss\") \n",
        "plt.title(\"Training and validation loss\")\n",
        "plt.legend()\n",
        "plt.show()"
      ],
      "id": "bc372f81"
    },
    {
      "cell_type": "markdown",
      "metadata": {
        "id": "6ed40f0a"
      },
      "source": [
        "## Fetch Data (FUNNELED TRUE)\n",
        "\n",
        "parece que es una técnica de alineamiento de imágenes que mejora el resultado del reconocimiento:\n",
        "    \n",
        "    http://vis-www.cs.umass.edu/deep_funnel.html\n",
        "    \n",
        "Deberíamos tenerlo en cuenta de cara a tu reconocedor, y si metes imágenes para entrenar tu reconocedor, deberíamos alinearlas de la misma forma que en el dataset LFW.\n",
        "\n",
        "Sin embargo, al repetir todo el proceso para imágenes FUNNELED, el resultado es mucho peor...."
      ],
      "id": "6ed40f0a"
    },
    {
      "cell_type": "code",
      "execution_count": 31,
      "metadata": {
        "id": "b01492a4"
      },
      "outputs": [],
      "source": [
        "data2=fetch_lfw_people(resize = 0.4,min_faces_per_person=40,funneled=True)"
      ],
      "id": "b01492a4"
    },
    {
      "cell_type": "code",
      "execution_count": 32,
      "metadata": {
        "id": "97ead116"
      },
      "outputs": [],
      "source": [
        "X2=data2[\"data\"]\n",
        "Y2=data2[\"target\"]\n",
        "images2=data2[\"images\"]\n",
        "target_name2=data2[\"target_names\"]"
      ],
      "id": "97ead116"
    },
    {
      "cell_type": "code",
      "execution_count": 33,
      "metadata": {
        "id": "9c875e84",
        "colab": {
          "base_uri": "https://localhost:8080/",
          "height": 454
        },
        "outputId": "94a93fe3-56e2-47a1-9266-84a4e9b30477"
      },
      "outputs": [
        {
          "output_type": "execute_result",
          "data": {
            "text/plain": [
              "<matplotlib.image.AxesImage at 0x7f0b2c6f7520>"
            ]
          },
          "metadata": {},
          "execution_count": 33
        },
        {
          "output_type": "display_data",
          "data": {
            "text/plain": [
              "<Figure size 640x480 with 1 Axes>"
            ],
            "image/png": "[encoded data removed]"
          },
          "metadata": {}
        }
      ],
      "source": [
        "target2=list(target_name2).index(\"Arnold Schwarzenegger\")\n",
        "indexes2=np.where(Y2 == target2)\n",
        "plt.imshow(images2[indexes2[0][0],:,:],cmap=\"gray\")"
      ],
      "id": "9c875e84"
    },
    {
      "cell_type": "code",
      "execution_count": 34,
      "metadata": {
        "id": "44708e44",
        "colab": {
          "base_uri": "https://localhost:8080/"
        },
        "outputId": "027fd66e-fc3f-486a-d51d-21ffc2f9624c"
      },
      "outputs": [
        {
          "output_type": "stream",
          "name": "stdout",
          "text": [
            "Samples: 1867\n",
            "Features: 1850\n",
            "Classes: 19\n",
            "Dimension per image: (50, 37)\n"
          ]
        }
      ],
      "source": [
        "_,W2,H2=images2.shape\n",
        "features2 = X2.shape[1]\n",
        "m2 = X2.shape[0]\n",
        "classes2 = target_name2.shape[0]\n",
        "\n",
        "print(\"Samples:\",m2)\n",
        "print(\"Features:\",features2)\n",
        "print(\"Classes:\",classes2)\n",
        "print(\"Dimension per image:\",(W2,H2))"
      ],
      "id": "44708e44"
    },
    {
      "cell_type": "markdown",
      "metadata": {
        "id": "7hSHWyfUIPuC"
      },
      "source": [
        "## Prepare Training"
      ],
      "id": "7hSHWyfUIPuC"
    },
    {
      "cell_type": "code",
      "execution_count": 35,
      "metadata": {
        "id": "5f1b1cde"
      },
      "outputs": [],
      "source": [
        "### Shuffling the data ###\n",
        "\n",
        "temp2=list(zip(X2,Y2)) \n",
        "random.Random(42).shuffle(temp2) \n",
        "X2,Y2=zip(*temp2)\n",
        "\n",
        "X2=np.array(X2)\n",
        "Y2=np.array(Y2)\n",
        "\n",
        "####### Train and test splitting of data #######\n",
        "\n",
        "training_data_X2,remaining_data_X2,training_data_Y2,remaining_data_Y2=train_test_split(X2,Y2,test_size=0.3,random_state=42)\n",
        "validation_data_X2,testing_data_X2,validation_data_Y2,testing_data_Y2=train_test_split(remaining_data_X2,remaining_data_Y2,test_size=0.5,random_state=42)"
      ],
      "id": "5f1b1cde"
    },
    {
      "cell_type": "code",
      "execution_count": 36,
      "metadata": {
        "id": "09c9acfd",
        "colab": {
          "base_uri": "https://localhost:8080/"
        },
        "outputId": "238f56b2-6d5c-4836-ca34-1d8c6174b67b"
      },
      "outputs": [
        {
          "output_type": "stream",
          "name": "stdout",
          "text": [
            "(1306, 1850)\n",
            "(1306,)\n",
            "(280, 1850)\n",
            "(280,)\n",
            "(281, 1850)\n",
            "(281,)\n"
          ]
        }
      ],
      "source": [
        "print(training_data_X2.shape)\n",
        "print(training_data_Y2.shape)\n",
        "print(validation_data_X2.shape)\n",
        "print(validation_data_Y2.shape)\n",
        "print(testing_data_X2.shape)\n",
        "print(testing_data_Y2.shape)"
      ],
      "id": "09c9acfd"
    },
    {
      "cell_type": "markdown",
      "metadata": {
        "id": "ecWTK7vQITwm"
      },
      "source": [
        "## Create Model"
      ],
      "id": "ecWTK7vQITwm"
    },
    {
      "cell_type": "code",
      "execution_count": 37,
      "metadata": {
        "id": "81c2b3cc"
      },
      "outputs": [],
      "source": [
        "from tensorflow.keras.utils import to_categorical\n",
        "import time\n",
        "\n",
        "####### CNN #######\n",
        "model2=Sequential()\n",
        "\n",
        "model2.add(Conv2D(64,kernel_size = 3,activation = 'relu',input_shape = (W2,H2,1)))\n",
        "model2.add(MaxPooling2D((2,2),strides = (2,2)))\n",
        "model2.add(Conv2D(128,kernel_size = 3,activation = 'relu'))\n",
        "model2.add(MaxPooling2D((2,2),strides = (2,2)))\n",
        "model2.add(Conv2D(256,kernel_size = 5,activation = 'relu'))\n",
        "model2.add(MaxPooling2D((2,2),strides = (2,2)))\n",
        "model2.add(Dropout(0.25))\n",
        "#model2.add(Conv2D(512,kernel_size = 3,activation = 'relu'))\n",
        "#model2.add(MaxPooling2D((2,2),strides = (2,2)))\n",
        "model2.add(Flatten())\n",
        "model2.add(Dense(classes2,activation = 'softmax'))\n",
        "\n",
        "\n",
        "\n",
        "training_data_Y2 = to_categorical(training_data_Y2)\n",
        "validation_data_Y2 = to_categorical(validation_data_Y2)\n",
        "training_data_X2 = training_data_X2.reshape(training_data_X2.shape[0],W2,H2,1)\n",
        "validation_data_X2 = validation_data_X2.reshape(validation_data_X2.shape[0],W2,H2,1)"
      ],
      "id": "81c2b3cc"
    },
    {
      "cell_type": "code",
      "execution_count": 27,
      "metadata": {
        "id": "686aa00f",
        "colab": {
          "base_uri": "https://localhost:8080/"
        },
        "outputId": "68636497-32a0-4b51-e428-8c4ce6ec7d36"
      },
      "outputs": [
        {
          "output_type": "stream",
          "name": "stdout",
          "text": [
            "(1306, 50, 37, 1)\n",
            "(1306, 19)\n",
            "(280, 50, 37, 1)\n",
            "(280, 19)\n"
          ]
        }
      ],
      "source": [
        "print(training_data_X2.shape)\n",
        "print(training_data_Y2.shape)\n",
        "print(validation_data_X2.shape)\n",
        "print(validation_data_Y2.shape)"
      ],
      "id": "686aa00f"
    },
    {
      "cell_type": "code",
      "source": [
        "print(validation_data_X2.shape)\n",
        "print(validation_data_Y2.shape)"
      ],
      "metadata": {
        "id": "JyQEvSF0-pAD"
      },
      "id": "JyQEvSF0-pAD",
      "execution_count": null,
      "outputs": []
    },
    {
      "cell_type": "code",
      "execution_count": 38,
      "metadata": {
        "id": "bcd11864",
        "scrolled": false,
        "colab": {
          "base_uri": "https://localhost:8080/"
        },
        "outputId": "ad5338a4-759e-4015-e0ea-2d5e47a5c31a"
      },
      "outputs": [
        {
          "output_type": "stream",
          "name": "stdout",
          "text": [
            "Epoch 1/100\n",
            "9/9 [==============================] - 14s 1s/step - loss: 2.6591 - accuracy: 0.2596 - val_loss: 2.5687 - val_accuracy: 0.2750\n",
            "Epoch 2/100\n",
            "9/9 [==============================] - 13s 1s/step - loss: 2.5431 - accuracy: 0.2902 - val_loss: 2.5701 - val_accuracy: 0.2750\n",
            "Epoch 3/100\n",
            "9/9 [==============================] - 13s 1s/step - loss: 2.5291 - accuracy: 0.2902 - val_loss: 2.5648 - val_accuracy: 0.2750\n",
            "Epoch 4/100\n",
            "9/9 [==============================] - 12s 1s/step - loss: 2.5298 - accuracy: 0.2910 - val_loss: 2.5509 - val_accuracy: 0.2750\n",
            "Epoch 5/100\n",
            "9/9 [==============================] - 12s 1s/step - loss: 2.5101 - accuracy: 0.2902 - val_loss: 2.5468 - val_accuracy: 0.2750\n",
            "Epoch 6/100\n",
            "9/9 [==============================] - 12s 1s/step - loss: 2.4947 - accuracy: 0.2902 - val_loss: 2.5245 - val_accuracy: 0.2750\n",
            "Epoch 7/100\n",
            "9/9 [==============================] - 13s 1s/step - loss: 2.4745 - accuracy: 0.2902 - val_loss: 2.4953 - val_accuracy: 0.2750\n",
            "Epoch 8/100\n",
            "9/9 [==============================] - 13s 1s/step - loss: 2.4405 - accuracy: 0.2902 - val_loss: 2.4710 - val_accuracy: 0.2786\n",
            "Epoch 9/100\n",
            "9/9 [==============================] - 13s 1s/step - loss: 2.4020 - accuracy: 0.2933 - val_loss: 2.4385 - val_accuracy: 0.2893\n",
            "Epoch 10/100\n",
            "9/9 [==============================] - 13s 1s/step - loss: 2.3528 - accuracy: 0.3055 - val_loss: 2.3930 - val_accuracy: 0.3000\n",
            "Epoch 11/100\n",
            "9/9 [==============================] - 13s 1s/step - loss: 2.2974 - accuracy: 0.3178 - val_loss: 2.3397 - val_accuracy: 0.3000\n",
            "Epoch 12/100\n",
            "9/9 [==============================] - 14s 2s/step - loss: 2.2541 - accuracy: 0.3331 - val_loss: 2.2887 - val_accuracy: 0.3214\n",
            "Epoch 13/100\n",
            "9/9 [==============================] - 13s 1s/step - loss: 2.1915 - accuracy: 0.3461 - val_loss: 2.2212 - val_accuracy: 0.3393\n",
            "Epoch 14/100\n",
            "9/9 [==============================] - 13s 1s/step - loss: 2.1176 - accuracy: 0.3706 - val_loss: 2.1916 - val_accuracy: 0.3429\n",
            "Epoch 15/100\n",
            "9/9 [==============================] - 13s 1s/step - loss: 2.0704 - accuracy: 0.3806 - val_loss: 2.1019 - val_accuracy: 0.3643\n",
            "Epoch 16/100\n",
            "9/9 [==============================] - 13s 1s/step - loss: 2.0053 - accuracy: 0.3890 - val_loss: 2.0613 - val_accuracy: 0.4000\n",
            "Epoch 17/100\n",
            "9/9 [==============================] - 13s 1s/step - loss: 1.9418 - accuracy: 0.4280 - val_loss: 2.0159 - val_accuracy: 0.4071\n",
            "Epoch 18/100\n",
            "9/9 [==============================] - 13s 1s/step - loss: 1.9003 - accuracy: 0.4326 - val_loss: 1.9759 - val_accuracy: 0.4179\n",
            "Epoch 19/100\n",
            "9/9 [==============================] - 13s 1s/step - loss: 1.8351 - accuracy: 0.4464 - val_loss: 1.8743 - val_accuracy: 0.4393\n",
            "Epoch 20/100\n",
            "9/9 [==============================] - 13s 1s/step - loss: 1.7827 - accuracy: 0.4625 - val_loss: 1.8591 - val_accuracy: 0.4357\n",
            "Epoch 21/100\n",
            "9/9 [==============================] - 13s 1s/step - loss: 1.7305 - accuracy: 0.4839 - val_loss: 1.7765 - val_accuracy: 0.4964\n",
            "Epoch 22/100\n",
            "9/9 [==============================] - 13s 1s/step - loss: 1.6863 - accuracy: 0.4954 - val_loss: 1.7188 - val_accuracy: 0.4964\n",
            "Epoch 23/100\n",
            "9/9 [==============================] - 13s 1s/step - loss: 1.6167 - accuracy: 0.5230 - val_loss: 1.6527 - val_accuracy: 0.5179\n",
            "Epoch 24/100\n",
            "9/9 [==============================] - 13s 1s/step - loss: 1.5708 - accuracy: 0.5368 - val_loss: 1.6096 - val_accuracy: 0.5393\n",
            "Epoch 25/100\n",
            "9/9 [==============================] - 13s 1s/step - loss: 1.5407 - accuracy: 0.5283 - val_loss: 1.5750 - val_accuracy: 0.5357\n",
            "Epoch 26/100\n",
            "9/9 [==============================] - 13s 1s/step - loss: 1.4825 - accuracy: 0.5727 - val_loss: 1.5087 - val_accuracy: 0.5821\n",
            "Epoch 27/100\n",
            "9/9 [==============================] - 13s 1s/step - loss: 1.4455 - accuracy: 0.5704 - val_loss: 1.5031 - val_accuracy: 0.5786\n",
            "Epoch 28/100\n",
            "9/9 [==============================] - 13s 1s/step - loss: 1.3779 - accuracy: 0.5988 - val_loss: 1.4296 - val_accuracy: 0.6036\n",
            "Epoch 29/100\n",
            "9/9 [==============================] - 13s 1s/step - loss: 1.3216 - accuracy: 0.6087 - val_loss: 1.4106 - val_accuracy: 0.6143\n",
            "Epoch 30/100\n",
            "9/9 [==============================] - 13s 1s/step - loss: 1.3172 - accuracy: 0.6202 - val_loss: 1.3659 - val_accuracy: 0.6179\n",
            "Epoch 31/100\n",
            "9/9 [==============================] - 14s 2s/step - loss: 1.2334 - accuracy: 0.6447 - val_loss: 1.3544 - val_accuracy: 0.6250\n",
            "Epoch 32/100\n",
            "9/9 [==============================] - 12s 1s/step - loss: 1.2105 - accuracy: 0.6455 - val_loss: 1.3057 - val_accuracy: 0.6286\n",
            "Epoch 33/100\n",
            "9/9 [==============================] - 12s 1s/step - loss: 1.1927 - accuracy: 0.6600 - val_loss: 1.2839 - val_accuracy: 0.6321\n",
            "Epoch 34/100\n",
            "9/9 [==============================] - 13s 1s/step - loss: 1.1331 - accuracy: 0.6692 - val_loss: 1.2495 - val_accuracy: 0.6464\n",
            "Epoch 35/100\n",
            "9/9 [==============================] - 13s 1s/step - loss: 1.1024 - accuracy: 0.6738 - val_loss: 1.1904 - val_accuracy: 0.6750\n",
            "Epoch 36/100\n",
            "9/9 [==============================] - 13s 1s/step - loss: 1.0941 - accuracy: 0.6838 - val_loss: 1.1707 - val_accuracy: 0.6821\n",
            "Epoch 37/100\n",
            "9/9 [==============================] - 13s 1s/step - loss: 1.0522 - accuracy: 0.6937 - val_loss: 1.1655 - val_accuracy: 0.6714\n",
            "Epoch 38/100\n",
            "9/9 [==============================] - 13s 1s/step - loss: 1.0320 - accuracy: 0.7021 - val_loss: 1.1310 - val_accuracy: 0.6929\n",
            "Epoch 39/100\n",
            "9/9 [==============================] - 13s 1s/step - loss: 0.9720 - accuracy: 0.7335 - val_loss: 1.1231 - val_accuracy: 0.6714\n",
            "Epoch 40/100\n",
            "9/9 [==============================] - 13s 1s/step - loss: 0.9793 - accuracy: 0.7221 - val_loss: 1.1045 - val_accuracy: 0.6929\n",
            "Epoch 41/100\n",
            "9/9 [==============================] - 13s 1s/step - loss: 0.9457 - accuracy: 0.7236 - val_loss: 1.0799 - val_accuracy: 0.7036\n",
            "Epoch 42/100\n",
            "9/9 [==============================] - 13s 1s/step - loss: 0.9164 - accuracy: 0.7358 - val_loss: 1.0374 - val_accuracy: 0.7071\n",
            "Epoch 43/100\n",
            "9/9 [==============================] - 13s 1s/step - loss: 0.8822 - accuracy: 0.7412 - val_loss: 1.0427 - val_accuracy: 0.7000\n",
            "Epoch 44/100\n",
            "9/9 [==============================] - 13s 1s/step - loss: 0.8589 - accuracy: 0.7557 - val_loss: 1.0074 - val_accuracy: 0.7000\n",
            "Epoch 45/100\n",
            "9/9 [==============================] - 13s 1s/step - loss: 0.8420 - accuracy: 0.7573 - val_loss: 1.0267 - val_accuracy: 0.6893\n",
            "Epoch 46/100\n",
            "9/9 [==============================] - 13s 1s/step - loss: 0.7964 - accuracy: 0.7626 - val_loss: 0.9840 - val_accuracy: 0.7214\n",
            "Epoch 47/100\n",
            "9/9 [==============================] - 13s 1s/step - loss: 0.7891 - accuracy: 0.7764 - val_loss: 0.9448 - val_accuracy: 0.7143\n",
            "Epoch 48/100\n",
            "9/9 [==============================] - 13s 1s/step - loss: 0.7647 - accuracy: 0.7779 - val_loss: 0.9877 - val_accuracy: 0.7286\n",
            "Epoch 49/100\n",
            "9/9 [==============================] - 13s 1s/step - loss: 0.7737 - accuracy: 0.7779 - val_loss: 0.9263 - val_accuracy: 0.7214\n",
            "Epoch 50/100\n",
            "9/9 [==============================] - 14s 2s/step - loss: 0.7335 - accuracy: 0.7956 - val_loss: 0.9383 - val_accuracy: 0.7321\n",
            "Epoch 51/100\n",
            "9/9 [==============================] - 13s 1s/step - loss: 0.7359 - accuracy: 0.7779 - val_loss: 0.9383 - val_accuracy: 0.7214\n",
            "Epoch 52/100\n",
            "9/9 [==============================] - 13s 1s/step - loss: 0.7187 - accuracy: 0.7871 - val_loss: 0.9479 - val_accuracy: 0.7179\n",
            "Epoch 53/100\n",
            "9/9 [==============================] - 13s 1s/step - loss: 0.6916 - accuracy: 0.7917 - val_loss: 0.9181 - val_accuracy: 0.7571\n",
            "Epoch 54/100\n",
            "9/9 [==============================] - 13s 2s/step - loss: 0.6830 - accuracy: 0.8101 - val_loss: 0.8913 - val_accuracy: 0.7429\n",
            "Epoch 55/100\n",
            "9/9 [==============================] - 13s 1s/step - loss: 0.6856 - accuracy: 0.8124 - val_loss: 0.8861 - val_accuracy: 0.7536\n",
            "Epoch 56/100\n",
            "9/9 [==============================] - 13s 1s/step - loss: 0.6326 - accuracy: 0.8254 - val_loss: 0.8387 - val_accuracy: 0.7607\n",
            "Epoch 57/100\n",
            "9/9 [==============================] - 13s 1s/step - loss: 0.6287 - accuracy: 0.8231 - val_loss: 0.8393 - val_accuracy: 0.7643\n",
            "Epoch 58/100\n",
            "9/9 [==============================] - 13s 1s/step - loss: 0.5702 - accuracy: 0.8377 - val_loss: 0.8367 - val_accuracy: 0.7536\n",
            "Epoch 59/100\n",
            "9/9 [==============================] - 12s 1s/step - loss: 0.5949 - accuracy: 0.8224 - val_loss: 0.8479 - val_accuracy: 0.7750\n",
            "Epoch 60/100\n",
            "9/9 [==============================] - 12s 1s/step - loss: 0.5762 - accuracy: 0.8262 - val_loss: 0.8182 - val_accuracy: 0.7643\n",
            "Epoch 61/100\n",
            "9/9 [==============================] - 12s 1s/step - loss: 0.5356 - accuracy: 0.8545 - val_loss: 0.8220 - val_accuracy: 0.7679\n",
            "Epoch 62/100\n",
            "9/9 [==============================] - 13s 1s/step - loss: 0.5367 - accuracy: 0.8407 - val_loss: 0.8103 - val_accuracy: 0.7750\n",
            "Epoch 63/100\n",
            "9/9 [==============================] - 13s 1s/step - loss: 0.5313 - accuracy: 0.8407 - val_loss: 0.7814 - val_accuracy: 0.7964\n",
            "Epoch 64/100\n",
            "9/9 [==============================] - 13s 1s/step - loss: 0.5256 - accuracy: 0.8492 - val_loss: 0.7849 - val_accuracy: 0.7857\n",
            "Epoch 65/100\n",
            "9/9 [==============================] - 13s 1s/step - loss: 0.4871 - accuracy: 0.8637 - val_loss: 0.7626 - val_accuracy: 0.7893\n",
            "Epoch 66/100\n",
            "9/9 [==============================] - 13s 1s/step - loss: 0.4698 - accuracy: 0.8576 - val_loss: 0.7810 - val_accuracy: 0.7893\n",
            "Epoch 67/100\n",
            "9/9 [==============================] - 13s 1s/step - loss: 0.4453 - accuracy: 0.8744 - val_loss: 0.7450 - val_accuracy: 0.7893\n",
            "Epoch 68/100\n",
            "9/9 [==============================] - 13s 1s/step - loss: 0.4498 - accuracy: 0.8767 - val_loss: 0.7590 - val_accuracy: 0.7929\n",
            "Epoch 69/100\n",
            "9/9 [==============================] - 14s 2s/step - loss: 0.4652 - accuracy: 0.8629 - val_loss: 0.7360 - val_accuracy: 0.7929\n",
            "Epoch 70/100\n",
            "9/9 [==============================] - 13s 1s/step - loss: 0.4164 - accuracy: 0.8844 - val_loss: 0.7629 - val_accuracy: 0.7786\n",
            "Epoch 71/100\n",
            "9/9 [==============================] - 13s 1s/step - loss: 0.4062 - accuracy: 0.8974 - val_loss: 0.7257 - val_accuracy: 0.8000\n",
            "Epoch 72/100\n",
            "9/9 [==============================] - 13s 1s/step - loss: 0.4005 - accuracy: 0.8836 - val_loss: 0.7496 - val_accuracy: 0.7857\n",
            "Epoch 73/100\n",
            "9/9 [==============================] - 13s 1s/step - loss: 0.3891 - accuracy: 0.8913 - val_loss: 0.7260 - val_accuracy: 0.7964\n",
            "Epoch 74/100\n",
            "9/9 [==============================] - 13s 1s/step - loss: 0.3637 - accuracy: 0.9081 - val_loss: 0.7283 - val_accuracy: 0.8000\n",
            "Epoch 75/100\n",
            "9/9 [==============================] - 13s 1s/step - loss: 0.3903 - accuracy: 0.8874 - val_loss: 0.7317 - val_accuracy: 0.8036\n",
            "Epoch 76/100\n",
            "9/9 [==============================] - 13s 1s/step - loss: 0.3847 - accuracy: 0.8928 - val_loss: 0.7224 - val_accuracy: 0.8036\n",
            "Epoch 77/100\n",
            "9/9 [==============================] - 13s 1s/step - loss: 0.3477 - accuracy: 0.9104 - val_loss: 0.6845 - val_accuracy: 0.8143\n",
            "Epoch 78/100\n",
            "9/9 [==============================] - 13s 1s/step - loss: 0.3404 - accuracy: 0.9066 - val_loss: 0.7085 - val_accuracy: 0.8071\n",
            "Epoch 79/100\n",
            "9/9 [==============================] - 13s 1s/step - loss: 0.3300 - accuracy: 0.9135 - val_loss: 0.7180 - val_accuracy: 0.7929\n",
            "Epoch 80/100\n",
            "9/9 [==============================] - 13s 1s/step - loss: 0.3278 - accuracy: 0.9096 - val_loss: 0.7190 - val_accuracy: 0.7964\n",
            "Epoch 81/100\n",
            "9/9 [==============================] - 13s 1s/step - loss: 0.3178 - accuracy: 0.9181 - val_loss: 0.6833 - val_accuracy: 0.8143\n",
            "Epoch 82/100\n",
            "9/9 [==============================] - 13s 1s/step - loss: 0.3249 - accuracy: 0.9081 - val_loss: 0.6908 - val_accuracy: 0.8107\n",
            "Epoch 83/100\n",
            "9/9 [==============================] - 13s 1s/step - loss: 0.2852 - accuracy: 0.9181 - val_loss: 0.6770 - val_accuracy: 0.8250\n",
            "Epoch 84/100\n",
            "9/9 [==============================] - 13s 1s/step - loss: 0.2844 - accuracy: 0.9227 - val_loss: 0.6832 - val_accuracy: 0.8179\n",
            "Epoch 85/100\n",
            "9/9 [==============================] - 13s 1s/step - loss: 0.2791 - accuracy: 0.9257 - val_loss: 0.6894 - val_accuracy: 0.8250\n",
            "Epoch 86/100\n",
            "9/9 [==============================] - 13s 1s/step - loss: 0.2919 - accuracy: 0.9250 - val_loss: 0.6716 - val_accuracy: 0.8214\n",
            "Epoch 87/100\n",
            "9/9 [==============================] - 13s 1s/step - loss: 0.2595 - accuracy: 0.9395 - val_loss: 0.6947 - val_accuracy: 0.8143\n",
            "Epoch 88/100\n",
            "9/9 [==============================] - 15s 2s/step - loss: 0.2545 - accuracy: 0.9303 - val_loss: 0.6838 - val_accuracy: 0.8107\n",
            "Epoch 89/100\n",
            "9/9 [==============================] - 13s 1s/step - loss: 0.2489 - accuracy: 0.9349 - val_loss: 0.6746 - val_accuracy: 0.8286\n",
            "Epoch 90/100\n",
            "9/9 [==============================] - 13s 1s/step - loss: 0.2471 - accuracy: 0.9357 - val_loss: 0.6822 - val_accuracy: 0.8179\n",
            "Epoch 91/100\n",
            "9/9 [==============================] - 12s 1s/step - loss: 0.2290 - accuracy: 0.9449 - val_loss: 0.6785 - val_accuracy: 0.8071\n",
            "Epoch 92/100\n",
            "9/9 [==============================] - 12s 1s/step - loss: 0.2207 - accuracy: 0.9472 - val_loss: 0.6865 - val_accuracy: 0.8214\n",
            "Epoch 93/100\n",
            "9/9 [==============================] - 12s 1s/step - loss: 0.2204 - accuracy: 0.9518 - val_loss: 0.6788 - val_accuracy: 0.8036\n",
            "Epoch 94/100\n",
            "9/9 [==============================] - 13s 1s/step - loss: 0.1975 - accuracy: 0.9602 - val_loss: 0.7139 - val_accuracy: 0.8107\n",
            "Epoch 95/100\n",
            "9/9 [==============================] - 13s 1s/step - loss: 0.2205 - accuracy: 0.9426 - val_loss: 0.6764 - val_accuracy: 0.8143\n",
            "Epoch 96/100\n",
            "9/9 [==============================] - 13s 1s/step - loss: 0.2103 - accuracy: 0.9487 - val_loss: 0.6815 - val_accuracy: 0.8107\n",
            "Epoch 97/100\n",
            "9/9 [==============================] - 13s 1s/step - loss: 0.1954 - accuracy: 0.9479 - val_loss: 0.6610 - val_accuracy: 0.8286\n",
            "Epoch 98/100\n",
            "9/9 [==============================] - 13s 1s/step - loss: 0.1958 - accuracy: 0.9502 - val_loss: 0.6706 - val_accuracy: 0.8321\n",
            "Epoch 99/100\n",
            "9/9 [==============================] - 13s 1s/step - loss: 0.1888 - accuracy: 0.9525 - val_loss: 0.6369 - val_accuracy: 0.8321\n",
            "Epoch 100/100\n",
            "9/9 [==============================] - 13s 1s/step - loss: 0.1893 - accuracy: 0.9502 - val_loss: 0.6718 - val_accuracy: 0.8143\n",
            "###### Total Time Taken:  22 Minutes ######\n"
          ]
        }
      ],
      "source": [
        "# Measuring the time taken by the model to train\n",
        "start_time2 = time.time()\n",
        "model2.compile(optimizer='Adamax',loss='categorical_crossentropy',metrics=['accuracy'])\n",
        "history2 = model2.fit(training_data_X2,training_data_Y2,validation_data = (validation_data_X2, validation_data_Y2),batch_size = 150,epochs = 100)\n",
        "end_time2 = time.time()\n",
        "\n",
        "\n",
        "print(\"###### Total Time Taken: \", round((end_time2 - start_time2)/60), 'Minutes ######')"
      ],
      "id": "bcd11864"
    },
    {
      "cell_type": "code",
      "execution_count": 39,
      "metadata": {
        "id": "4bae6869",
        "colab": {
          "base_uri": "https://localhost:8080/"
        },
        "outputId": "348912cb-bac8-4ad6-ac4b-a3bece5c072f"
      },
      "outputs": [
        {
          "output_type": "stream",
          "name": "stdout",
          "text": [
            "81.42856955528259\n"
          ]
        }
      ],
      "source": [
        "score2 = model2.evaluate(validation_data_X2,validation_data_Y2,verbose=0)\n",
        "print(score2[1]*100)"
      ],
      "id": "4bae6869"
    },
    {
      "cell_type": "code",
      "execution_count": 47,
      "metadata": {
        "id": "eDK0B0MDId7A",
        "colab": {
          "base_uri": "https://localhost:8080/",
          "height": 960
        },
        "outputId": "00db2623-136d-4d19-efee-5189b15d76a8"
      },
      "outputs": [
        {
          "output_type": "execute_result",
          "data": {
            "text/plain": [
              "[]"
            ]
          },
          "metadata": {},
          "execution_count": 47
        },
        {
          "output_type": "display_data",
          "data": {
            "text/plain": [
              "<Figure size 640x480 with 1 Axes>"
            ],
            "image/png": "[encoded data removed]"
          },
          "metadata": {}
        },
        {
          "output_type": "display_data",
          "data": {
            "text/plain": [
              "<Figure size 640x480 with 1 Axes>"
            ],
            "image/png": "[encoded data removed]"
          },
          "metadata": {}
        }
      ],
      "source": [
        "import matplotlib.pyplot as plt\n",
        "import seaborn as sns\n",
        "sns.set()\n",
        "\n",
        "acc = history2.history['accuracy']\n",
        "val_acc = history2.history['val_accuracy']\n",
        "loss = history2.history[\"loss\"]\n",
        "val_loss = history2.history[\"val_loss\"]\n",
        "epochs = range(1, len(acc) + 1)\n",
        "plt.plot(epochs, acc, '-', label = 'Training Accuracy')\n",
        "plt.plot(epochs, val_acc, ':', label = 'Validation Accuracy')\n",
        "plt.title('Training and Validation Accuracy')\n",
        "plt.xlabel('Epoch')\n",
        "plt.ylabel('Accuracy')\n",
        "plt.legend(loc = 'lower right')\n",
        "plt.plot()\n",
        "plt.figure()\n",
        "plt.plot(epochs, loss, '-', label = 'Training Loss')\n",
        "plt.plot(epochs, val_loss, ':', label = 'Validation Loss')\n",
        "plt.title('Training and Validation Loss')\n",
        "plt.xlabel('Epoch')\n",
        "plt.ylabel('Loss')\n",
        "plt.legend(loc = 'lower right')\n",
        "plt.plot()"
      ],
      "id": "eDK0B0MDId7A"
    },
    {
      "cell_type": "code",
      "source": [
        "testing_data_Y2 = to_categorical(testing_data_Y2)\n",
        "testing_data_X2 = testing_data_X2.reshape(testing_data_X2.shape[0],W2,H2,1)"
      ],
      "metadata": {
        "id": "GLNB7d6H-rsa"
      },
      "id": "GLNB7d6H-rsa",
      "execution_count": 49,
      "outputs": []
    },
    {
      "cell_type": "code",
      "source": [
        "# Measuring the time taken by the model to train\n",
        "start_time2 = time.time()\n",
        "history2 = model2.fit(training_data_X2,training_data_Y2,validation_data = (testing_data_X2, testing_data_Y2),batch_size = 150,epochs = 100)\n",
        "end_time2 = time.time()\n",
        "\n",
        "\n",
        "print(\"###### Total Time Taken: \", round((end_time2 - start_time2)/60), 'Minutes ######')"
      ],
      "metadata": {
        "colab": {
          "base_uri": "https://localhost:8080/"
        },
        "id": "cjjM6QZCArTZ",
        "outputId": "7f4c57a8-00d5-4b9f-f498-61e3c89a771a"
      },
      "id": "cjjM6QZCArTZ",
      "execution_count": 52,
      "outputs": [
        {
          "output_type": "stream",
          "name": "stdout",
          "text": [
            "Epoch 1/100\n",
            "9/9 [==============================] - 23s 2s/step - loss: 0.1612 - accuracy: 0.9640 - val_loss: 0.6110 - val_accuracy: 0.8256\n",
            "Epoch 2/100\n",
            "9/9 [==============================] - 19s 2s/step - loss: 0.1489 - accuracy: 0.9694 - val_loss: 0.5970 - val_accuracy: 0.8399\n",
            "Epoch 3/100\n",
            "9/9 [==============================] - 16s 2s/step - loss: 0.1290 - accuracy: 0.9732 - val_loss: 0.6138 - val_accuracy: 0.8505\n",
            "Epoch 4/100\n",
            "9/9 [==============================] - 13s 1s/step - loss: 0.1377 - accuracy: 0.9709 - val_loss: 0.6567 - val_accuracy: 0.8256\n",
            "Epoch 5/100\n",
            "9/9 [==============================] - 13s 1s/step - loss: 0.1230 - accuracy: 0.9732 - val_loss: 0.6108 - val_accuracy: 0.8221\n",
            "Epoch 6/100\n",
            "9/9 [==============================] - 13s 1s/step - loss: 0.1350 - accuracy: 0.9686 - val_loss: 0.6254 - val_accuracy: 0.8221\n",
            "Epoch 7/100\n",
            "9/9 [==============================] - 12s 1s/step - loss: 0.1250 - accuracy: 0.9709 - val_loss: 0.6019 - val_accuracy: 0.8505\n",
            "Epoch 8/100\n",
            "9/9 [==============================] - 14s 1s/step - loss: 0.1273 - accuracy: 0.9740 - val_loss: 0.5941 - val_accuracy: 0.8434\n",
            "Epoch 9/100\n",
            "9/9 [==============================] - 13s 1s/step - loss: 0.1301 - accuracy: 0.9671 - val_loss: 0.5787 - val_accuracy: 0.8541\n",
            "Epoch 10/100\n",
            "9/9 [==============================] - 12s 1s/step - loss: 0.1013 - accuracy: 0.9816 - val_loss: 0.5926 - val_accuracy: 0.8363\n",
            "Epoch 11/100\n",
            "9/9 [==============================] - 13s 1s/step - loss: 0.1028 - accuracy: 0.9801 - val_loss: 0.5920 - val_accuracy: 0.8470\n",
            "Epoch 12/100\n",
            "9/9 [==============================] - 13s 1s/step - loss: 0.1078 - accuracy: 0.9801 - val_loss: 0.6168 - val_accuracy: 0.8256\n",
            "Epoch 13/100\n",
            "9/9 [==============================] - 13s 1s/step - loss: 0.1078 - accuracy: 0.9763 - val_loss: 0.5938 - val_accuracy: 0.8327\n",
            "Epoch 14/100\n",
            "9/9 [==============================] - 13s 1s/step - loss: 0.1129 - accuracy: 0.9740 - val_loss: 0.5747 - val_accuracy: 0.8292\n",
            "Epoch 15/100\n",
            "9/9 [==============================] - 14s 2s/step - loss: 0.0993 - accuracy: 0.9816 - val_loss: 0.6197 - val_accuracy: 0.8185\n",
            "Epoch 16/100\n",
            "9/9 [==============================] - 19s 2s/step - loss: 0.1053 - accuracy: 0.9778 - val_loss: 0.6129 - val_accuracy: 0.8292\n",
            "Epoch 17/100\n",
            "9/9 [==============================] - 16s 2s/step - loss: 0.1051 - accuracy: 0.9763 - val_loss: 0.5879 - val_accuracy: 0.8470\n",
            "Epoch 18/100\n",
            "9/9 [==============================] - 13s 1s/step - loss: 0.0910 - accuracy: 0.9870 - val_loss: 0.5821 - val_accuracy: 0.8470\n",
            "Epoch 19/100\n",
            "9/9 [==============================] - 13s 1s/step - loss: 0.0887 - accuracy: 0.9801 - val_loss: 0.5925 - val_accuracy: 0.8470\n",
            "Epoch 20/100\n",
            "9/9 [==============================] - 13s 1s/step - loss: 0.0917 - accuracy: 0.9778 - val_loss: 0.6020 - val_accuracy: 0.8256\n",
            "Epoch 21/100\n",
            "9/9 [==============================] - 13s 1s/step - loss: 0.0967 - accuracy: 0.9793 - val_loss: 0.6265 - val_accuracy: 0.8256\n",
            "Epoch 22/100\n",
            "9/9 [==============================] - 13s 1s/step - loss: 0.0852 - accuracy: 0.9885 - val_loss: 0.5737 - val_accuracy: 0.8399\n",
            "Epoch 23/100\n",
            "9/9 [==============================] - 13s 1s/step - loss: 0.0871 - accuracy: 0.9824 - val_loss: 0.5532 - val_accuracy: 0.8719\n",
            "Epoch 24/100\n",
            "9/9 [==============================] - 14s 2s/step - loss: 0.0798 - accuracy: 0.9847 - val_loss: 0.5697 - val_accuracy: 0.8470\n",
            "Epoch 25/100\n",
            "9/9 [==============================] - 13s 1s/step - loss: 0.0759 - accuracy: 0.9832 - val_loss: 0.6002 - val_accuracy: 0.8363\n",
            "Epoch 26/100\n",
            "9/9 [==============================] - 13s 1s/step - loss: 0.0778 - accuracy: 0.9870 - val_loss: 0.6148 - val_accuracy: 0.8363\n",
            "Epoch 27/100\n",
            "9/9 [==============================] - 13s 1s/step - loss: 0.0709 - accuracy: 0.9877 - val_loss: 0.5686 - val_accuracy: 0.8648\n",
            "Epoch 28/100\n",
            "9/9 [==============================] - 13s 1s/step - loss: 0.0638 - accuracy: 0.9893 - val_loss: 0.5951 - val_accuracy: 0.8399\n",
            "Epoch 29/100\n",
            "9/9 [==============================] - 13s 1s/step - loss: 0.0737 - accuracy: 0.9877 - val_loss: 0.5867 - val_accuracy: 0.8470\n",
            "Epoch 30/100\n",
            "9/9 [==============================] - 13s 1s/step - loss: 0.0696 - accuracy: 0.9885 - val_loss: 0.6094 - val_accuracy: 0.8470\n",
            "Epoch 31/100\n",
            "9/9 [==============================] - 13s 1s/step - loss: 0.0671 - accuracy: 0.9877 - val_loss: 0.5856 - val_accuracy: 0.8505\n",
            "Epoch 32/100\n",
            "9/9 [==============================] - 12s 1s/step - loss: 0.0668 - accuracy: 0.9877 - val_loss: 0.5728 - val_accuracy: 0.8577\n",
            "Epoch 33/100\n",
            "9/9 [==============================] - 15s 2s/step - loss: 0.0625 - accuracy: 0.9893 - val_loss: 0.5699 - val_accuracy: 0.8577\n",
            "Epoch 34/100\n",
            "9/9 [==============================] - 13s 1s/step - loss: 0.0621 - accuracy: 0.9908 - val_loss: 0.5969 - val_accuracy: 0.8434\n",
            "Epoch 35/100\n",
            "9/9 [==============================] - 12s 1s/step - loss: 0.0584 - accuracy: 0.9885 - val_loss: 0.5949 - val_accuracy: 0.8434\n",
            "Epoch 36/100\n",
            "9/9 [==============================] - 13s 1s/step - loss: 0.0538 - accuracy: 0.9923 - val_loss: 0.6001 - val_accuracy: 0.8541\n",
            "Epoch 37/100\n",
            "9/9 [==============================] - 13s 1s/step - loss: 0.0554 - accuracy: 0.9877 - val_loss: 0.5929 - val_accuracy: 0.8577\n",
            "Epoch 38/100\n",
            "9/9 [==============================] - 13s 1s/step - loss: 0.0517 - accuracy: 0.9893 - val_loss: 0.5816 - val_accuracy: 0.8327\n",
            "Epoch 39/100\n",
            "9/9 [==============================] - 13s 1s/step - loss: 0.0516 - accuracy: 0.9923 - val_loss: 0.5852 - val_accuracy: 0.8505\n",
            "Epoch 40/100\n",
            "9/9 [==============================] - 13s 1s/step - loss: 0.0528 - accuracy: 0.9931 - val_loss: 0.5968 - val_accuracy: 0.8541\n",
            "Epoch 41/100\n",
            "9/9 [==============================] - 13s 1s/step - loss: 0.0530 - accuracy: 0.9923 - val_loss: 0.6368 - val_accuracy: 0.8363\n",
            "Epoch 42/100\n",
            "9/9 [==============================] - 13s 1s/step - loss: 0.0535 - accuracy: 0.9916 - val_loss: 0.5919 - val_accuracy: 0.8363\n",
            "Epoch 43/100\n",
            "9/9 [==============================] - 13s 1s/step - loss: 0.0522 - accuracy: 0.9877 - val_loss: 0.6274 - val_accuracy: 0.8327\n",
            "Epoch 44/100\n",
            "9/9 [==============================] - 13s 1s/step - loss: 0.0609 - accuracy: 0.9862 - val_loss: 0.5646 - val_accuracy: 0.8719\n",
            "Epoch 45/100\n",
            "9/9 [==============================] - 13s 1s/step - loss: 0.0518 - accuracy: 0.9931 - val_loss: 0.5578 - val_accuracy: 0.8719\n",
            "Epoch 46/100\n",
            "9/9 [==============================] - 13s 1s/step - loss: 0.0431 - accuracy: 0.9931 - val_loss: 0.6037 - val_accuracy: 0.8505\n",
            "Epoch 47/100\n",
            "9/9 [==============================] - 13s 1s/step - loss: 0.0401 - accuracy: 0.9954 - val_loss: 0.5787 - val_accuracy: 0.8612\n",
            "Epoch 48/100\n",
            "9/9 [==============================] - 13s 1s/step - loss: 0.0449 - accuracy: 0.9946 - val_loss: 0.6173 - val_accuracy: 0.8434\n",
            "Epoch 49/100\n",
            "9/9 [==============================] - 13s 1s/step - loss: 0.0423 - accuracy: 0.9931 - val_loss: 0.5970 - val_accuracy: 0.8505\n",
            "Epoch 50/100\n",
            "9/9 [==============================] - 13s 1s/step - loss: 0.0494 - accuracy: 0.9900 - val_loss: 0.6182 - val_accuracy: 0.8434\n",
            "Epoch 51/100\n",
            "9/9 [==============================] - 14s 2s/step - loss: 0.0385 - accuracy: 0.9977 - val_loss: 0.6005 - val_accuracy: 0.8541\n",
            "Epoch 52/100\n",
            "9/9 [==============================] - 13s 1s/step - loss: 0.0409 - accuracy: 0.9931 - val_loss: 0.6024 - val_accuracy: 0.8505\n",
            "Epoch 53/100\n",
            "9/9 [==============================] - 13s 1s/step - loss: 0.0313 - accuracy: 0.9977 - val_loss: 0.5910 - val_accuracy: 0.8683\n",
            "Epoch 54/100\n",
            "9/9 [==============================] - 13s 1s/step - loss: 0.0451 - accuracy: 0.9923 - val_loss: 0.5690 - val_accuracy: 0.8754\n",
            "Epoch 55/100\n",
            "9/9 [==============================] - 13s 1s/step - loss: 0.0392 - accuracy: 0.9954 - val_loss: 0.6042 - val_accuracy: 0.8683\n",
            "Epoch 56/100\n",
            "9/9 [==============================] - 12s 1s/step - loss: 0.0445 - accuracy: 0.9916 - val_loss: 0.5815 - val_accuracy: 0.8683\n",
            "Epoch 57/100\n",
            "9/9 [==============================] - 12s 1s/step - loss: 0.0383 - accuracy: 0.9916 - val_loss: 0.6109 - val_accuracy: 0.8648\n",
            "Epoch 58/100\n",
            "9/9 [==============================] - 12s 1s/step - loss: 0.0310 - accuracy: 0.9977 - val_loss: 0.5832 - val_accuracy: 0.8683\n",
            "Epoch 59/100\n",
            "9/9 [==============================] - 13s 1s/step - loss: 0.0372 - accuracy: 0.9939 - val_loss: 0.6325 - val_accuracy: 0.8399\n",
            "Epoch 60/100\n",
            "9/9 [==============================] - 13s 1s/step - loss: 0.0359 - accuracy: 0.9923 - val_loss: 0.6277 - val_accuracy: 0.8399\n",
            "Epoch 61/100\n",
            "9/9 [==============================] - 13s 1s/step - loss: 0.0462 - accuracy: 0.9893 - val_loss: 0.6187 - val_accuracy: 0.8470\n",
            "Epoch 62/100\n",
            "9/9 [==============================] - 13s 1s/step - loss: 0.0418 - accuracy: 0.9916 - val_loss: 0.6058 - val_accuracy: 0.8505\n",
            "Epoch 63/100\n",
            "9/9 [==============================] - 13s 1s/step - loss: 0.0401 - accuracy: 0.9923 - val_loss: 0.6421 - val_accuracy: 0.8434\n",
            "Epoch 64/100\n",
            "9/9 [==============================] - 13s 1s/step - loss: 0.0393 - accuracy: 0.9923 - val_loss: 0.5679 - val_accuracy: 0.8612\n",
            "Epoch 65/100\n",
            "9/9 [==============================] - 13s 1s/step - loss: 0.0351 - accuracy: 0.9931 - val_loss: 0.6728 - val_accuracy: 0.8292\n",
            "Epoch 66/100\n",
            "9/9 [==============================] - 13s 1s/step - loss: 0.0404 - accuracy: 0.9916 - val_loss: 0.6024 - val_accuracy: 0.8612\n",
            "Epoch 67/100\n",
            "9/9 [==============================] - 13s 1s/step - loss: 0.0311 - accuracy: 0.9946 - val_loss: 0.6172 - val_accuracy: 0.8470\n",
            "Epoch 68/100\n",
            "9/9 [==============================] - 13s 1s/step - loss: 0.0422 - accuracy: 0.9885 - val_loss: 0.6664 - val_accuracy: 0.8434\n",
            "Epoch 69/100\n",
            "9/9 [==============================] - 13s 1s/step - loss: 0.0308 - accuracy: 0.9954 - val_loss: 0.6157 - val_accuracy: 0.8612\n",
            "Epoch 70/100\n",
            "9/9 [==============================] - 14s 2s/step - loss: 0.0322 - accuracy: 0.9946 - val_loss: 0.6068 - val_accuracy: 0.8612\n",
            "Epoch 71/100\n",
            "9/9 [==============================] - 13s 1s/step - loss: 0.0309 - accuracy: 0.9946 - val_loss: 0.5901 - val_accuracy: 0.8683\n",
            "Epoch 72/100\n",
            "9/9 [==============================] - 13s 1s/step - loss: 0.0348 - accuracy: 0.9916 - val_loss: 0.5555 - val_accuracy: 0.8719\n",
            "Epoch 73/100\n",
            "9/9 [==============================] - 13s 1s/step - loss: 0.0337 - accuracy: 0.9954 - val_loss: 0.6387 - val_accuracy: 0.8612\n",
            "Epoch 74/100\n",
            "9/9 [==============================] - 13s 1s/step - loss: 0.0288 - accuracy: 0.9954 - val_loss: 0.6380 - val_accuracy: 0.8434\n",
            "Epoch 75/100\n",
            "9/9 [==============================] - 13s 1s/step - loss: 0.0250 - accuracy: 0.9962 - val_loss: 0.5792 - val_accuracy: 0.8470\n",
            "Epoch 76/100\n",
            "9/9 [==============================] - 13s 1s/step - loss: 0.0304 - accuracy: 0.9954 - val_loss: 0.6209 - val_accuracy: 0.8541\n",
            "Epoch 77/100\n",
            "9/9 [==============================] - 13s 1s/step - loss: 0.0297 - accuracy: 0.9923 - val_loss: 0.6460 - val_accuracy: 0.8648\n",
            "Epoch 78/100\n",
            "9/9 [==============================] - 13s 1s/step - loss: 0.0310 - accuracy: 0.9939 - val_loss: 0.6216 - val_accuracy: 0.8648\n",
            "Epoch 79/100\n",
            "9/9 [==============================] - 13s 1s/step - loss: 0.0296 - accuracy: 0.9954 - val_loss: 0.6247 - val_accuracy: 0.8577\n",
            "Epoch 80/100\n",
            "9/9 [==============================] - 12s 1s/step - loss: 0.0248 - accuracy: 0.9985 - val_loss: 0.6431 - val_accuracy: 0.8577\n",
            "Epoch 81/100\n",
            "9/9 [==============================] - 12s 1s/step - loss: 0.0288 - accuracy: 0.9954 - val_loss: 0.6114 - val_accuracy: 0.8648\n",
            "Epoch 82/100\n",
            "9/9 [==============================] - 12s 1s/step - loss: 0.0284 - accuracy: 0.9954 - val_loss: 0.5877 - val_accuracy: 0.8648\n",
            "Epoch 83/100\n",
            "9/9 [==============================] - 13s 1s/step - loss: 0.0316 - accuracy: 0.9946 - val_loss: 0.6217 - val_accuracy: 0.8505\n",
            "Epoch 84/100\n",
            "9/9 [==============================] - 13s 1s/step - loss: 0.0256 - accuracy: 0.9962 - val_loss: 0.6354 - val_accuracy: 0.8577\n",
            "Epoch 85/100\n",
            "9/9 [==============================] - 13s 1s/step - loss: 0.0289 - accuracy: 0.9954 - val_loss: 0.6118 - val_accuracy: 0.8648\n",
            "Epoch 86/100\n",
            "9/9 [==============================] - 13s 1s/step - loss: 0.0271 - accuracy: 0.9969 - val_loss: 0.6223 - val_accuracy: 0.8541\n",
            "Epoch 87/100\n",
            "9/9 [==============================] - 13s 1s/step - loss: 0.0275 - accuracy: 0.9931 - val_loss: 0.6019 - val_accuracy: 0.8612\n",
            "Epoch 88/100\n",
            "9/9 [==============================] - 14s 2s/step - loss: 0.0256 - accuracy: 0.9954 - val_loss: 0.5895 - val_accuracy: 0.8719\n",
            "Epoch 89/100\n",
            "9/9 [==============================] - 13s 1s/step - loss: 0.0245 - accuracy: 0.9962 - val_loss: 0.6078 - val_accuracy: 0.8648\n",
            "Epoch 90/100\n",
            "9/9 [==============================] - 13s 1s/step - loss: 0.0228 - accuracy: 0.9969 - val_loss: 0.5958 - val_accuracy: 0.8612\n",
            "Epoch 91/100\n",
            "9/9 [==============================] - 13s 1s/step - loss: 0.0232 - accuracy: 0.9946 - val_loss: 0.6345 - val_accuracy: 0.8577\n",
            "Epoch 92/100\n",
            "9/9 [==============================] - 13s 1s/step - loss: 0.0223 - accuracy: 0.9977 - val_loss: 0.6255 - val_accuracy: 0.8612\n",
            "Epoch 93/100\n",
            "9/9 [==============================] - 13s 1s/step - loss: 0.0213 - accuracy: 0.9962 - val_loss: 0.6383 - val_accuracy: 0.8541\n",
            "Epoch 94/100\n",
            "9/9 [==============================] - 13s 1s/step - loss: 0.0213 - accuracy: 0.9969 - val_loss: 0.6358 - val_accuracy: 0.8434\n",
            "Epoch 95/100\n",
            "9/9 [==============================] - 13s 1s/step - loss: 0.0244 - accuracy: 0.9939 - val_loss: 0.6038 - val_accuracy: 0.8754\n",
            "Epoch 96/100\n",
            "9/9 [==============================] - 13s 1s/step - loss: 0.0195 - accuracy: 0.9969 - val_loss: 0.6270 - val_accuracy: 0.8505\n",
            "Epoch 97/100\n",
            "9/9 [==============================] - 13s 1s/step - loss: 0.0172 - accuracy: 0.9977 - val_loss: 0.6784 - val_accuracy: 0.8327\n",
            "Epoch 98/100\n",
            "9/9 [==============================] - 13s 1s/step - loss: 0.0213 - accuracy: 0.9969 - val_loss: 0.6755 - val_accuracy: 0.8327\n",
            "Epoch 99/100\n",
            "9/9 [==============================] - 12s 1s/step - loss: 0.0202 - accuracy: 0.9977 - val_loss: 0.6193 - val_accuracy: 0.8612\n",
            "Epoch 100/100\n",
            "9/9 [==============================] - 12s 1s/step - loss: 0.0207 - accuracy: 0.9977 - val_loss: 0.6980 - val_accuracy: 0.8470\n",
            "###### Total Time Taken:  22 Minutes ######\n"
          ]
        }
      ]
    },
    {
      "cell_type": "code",
      "source": [
        "import matplotlib.pyplot as plt\n",
        "import seaborn as sns\n",
        "sns.set()\n",
        "\n",
        "val_acc = history2.history['val_accuracy']\n",
        "val_loss = history2.history[\"val_loss\"]\n",
        "epochs = range(1, len(acc) + 1)\n",
        "plt.plot(epochs, val_acc, ':', label = 'Testing Accuracy')\n",
        "plt.title('Testing Accuracy')\n",
        "plt.xlabel('Epoch')\n",
        "plt.ylabel('Accuracy')\n",
        "plt.legend(loc = 'lower right')\n",
        "plt.ylim([0, 1])\n",
        "plt.plot()\n",
        "plt.figure()\n",
        "plt.plot(epochs, val_loss, ':', label = 'Testing Loss')\n",
        "plt.title('Testing Loss')\n",
        "plt.xlabel('Epoch')\n",
        "plt.ylabel('Loss')\n",
        "plt.legend(loc = 'lower right')\n",
        "plt.ylim([3, 0])\n",
        "plt.plot()"
      ],
      "metadata": {
        "colab": {
          "base_uri": "https://localhost:8080/",
          "height": 960
        },
        "id": "gq9IyARzBI_w",
        "outputId": "08d0c0ee-afda-4167-a3d1-54a500b072a3"
      },
      "id": "gq9IyARzBI_w",
      "execution_count": 54,
      "outputs": [
        {
          "output_type": "execute_result",
          "data": {
            "text/plain": [
              "[]"
            ]
          },
          "metadata": {},
          "execution_count": 54
        },
        {
          "output_type": "display_data",
          "data": {
            "text/plain": [
              "<Figure size 640x480 with 1 Axes>"
            ],
            "image/png": "[encoded data removed]"
          },
          "metadata": {}
        },
        {
          "output_type": "display_data",
          "data": {
            "text/plain": [
              "<Figure size 640x480 with 1 Axes>"
            ],
            "image/png": "[encoded data removed]"
          },
          "metadata": {}
        }
      ]
    }
  ],
  "metadata": {
    "colab": {
      "provenance": []
    },
    "kernelspec": {
      "display_name": "Python 3.9 (tensorflow)",
      "language": "python",
      "name": "tensorflow"
    },
    "language_info": {
      "codemirror_mode": {
        "name": "ipython",
        "version": 3
      },
      "file_extension": ".py",
      "mimetype": "text/x-python",
      "name": "python",
      "nbconvert_exporter": "python",
      "pygments_lexer": "ipython3",
      "version": "3.9.13 | packaged by conda-forge | (main, May 27 2022, 17:00:33) \n[Clang 13.0.1 ]"
    }
  },
  "nbformat": 4,
  "nbformat_minor": 5
}