{
  "cells": [
    {
      "cell_type": "markdown",
      "metadata": {
        "id": "e03c7b5e"
      },
      "source": [
        "# Face recognition"
      ],
      "id": "e03c7b5e"
    },
    {
      "cell_type": "code",
      "execution_count": 1,
      "metadata": {
        "colab": {
          "base_uri": "https://localhost:8080/",
          "height": 324
        },
        "id": "8b1c6cb6",
        "outputId": "e1a4258e-dcd3-4caa-868b-6da2d9671098"
      },
      "outputs": [
        {
          "output_type": "stream",
          "name": "stdout",
          "text": [
            "Looking in indexes: https://pypi.org/simple, https://us-python.pkg.dev/colab-wheels/public/simple/\n",
            "Requirement already satisfied: scikit-plot in /usr/local/lib/python3.10/dist-packages (0.3.7)\n",
            "Requirement already satisfied: matplotlib>=1.4.0 in /usr/local/lib/python3.10/dist-packages (from scikit-plot) (3.7.1)\n",
            "Requirement already satisfied: scikit-learn>=0.18 in /usr/local/lib/python3.10/dist-packages (from scikit-plot) (1.2.2)\n",
            "Requirement already satisfied: scipy>=0.9 in /usr/local/lib/python3.10/dist-packages (from scikit-plot) (1.10.1)\n",
            "Requirement already satisfied: joblib>=0.10 in /usr/local/lib/python3.10/dist-packages (from scikit-plot) (1.2.0)\n",
            "Requirement already satisfied: contourpy>=1.0.1 in /usr/local/lib/python3.10/dist-packages (from matplotlib>=1.4.0->scikit-plot) (1.0.7)\n",
            "Requirement already satisfied: cycler>=0.10 in /usr/local/lib/python3.10/dist-packages (from matplotlib>=1.4.0->scikit-plot) (0.11.0)\n",
            "Requirement already satisfied: fonttools>=4.22.0 in /usr/local/lib/python3.10/dist-packages (from matplotlib>=1.4.0->scikit-plot) (4.39.3)\n",
            "Requirement already satisfied: kiwisolver>=1.0.1 in /usr/local/lib/python3.10/dist-packages (from matplotlib>=1.4.0->scikit-plot) (1.4.4)\n",
            "Requirement already satisfied: numpy>=1.20 in /usr/local/lib/python3.10/dist-packages (from matplotlib>=1.4.0->scikit-plot) (1.22.4)\n",
            "Requirement already satisfied: packaging>=20.0 in /usr/local/lib/python3.10/dist-packages (from matplotlib>=1.4.0->scikit-plot) (23.1)\n",
            "Requirement already satisfied: pillow>=6.2.0 in /usr/local/lib/python3.10/dist-packages (from matplotlib>=1.4.0->scikit-plot) (8.4.0)\n",
            "Requirement already satisfied: pyparsing>=2.3.1 in /usr/local/lib/python3.10/dist-packages (from matplotlib>=1.4.0->scikit-plot) (3.0.9)\n",
            "Requirement already satisfied: python-dateutil>=2.7 in /usr/local/lib/python3.10/dist-packages (from matplotlib>=1.4.0->scikit-plot) (2.8.2)\n",
            "Requirement already satisfied: threadpoolctl>=2.0.0 in /usr/local/lib/python3.10/dist-packages (from scikit-learn>=0.18->scikit-plot) (3.1.0)\n",
            "Requirement already satisfied: six>=1.5 in /usr/local/lib/python3.10/dist-packages (from python-dateutil>=2.7->matplotlib>=1.4.0->scikit-plot) (1.16.0)\n"
          ]
        },
        {
          "output_type": "execute_result",
          "data": {
            "text/plain": [
              "''"
            ],
            "application/vnd.google.colaboratory.intrinsic+json": {
              "type": "string"
            }
          },
          "metadata": {},
          "execution_count": 1
        }
      ],
      "source": [
        "from tensorflow.python.keras.layers import Dense,Conv2D,Flatten,MaxPooling2D,ZeroPadding2D,Dropout,Softmax\n",
        "from sklearn.model_selection import train_test_split\n",
        "from sklearn.metrics import classification_report\n",
        "from tensorflow.python.keras import Sequential\n",
        "from sklearn.datasets import fetch_lfw_people\n",
        "from sklearn.datasets import fetch_lfw_pairs\n",
        "from matplotlib import pyplot as plt\n",
        "import matplotlib.pyplot as plt\n",
        "!pip install scikit-plot\n",
        "import scikitplot as skplt\n",
        "import numpy as np\n",
        "import random\n",
        "\n",
        "# Commented out IPython magic to ensure Python compatibility.\n",
        "from __future__ import absolute_import, division, print_function, unicode_literals\n",
        "import tensorflow_datasets as tfds\n",
        "import tensorflow as tf\n",
        "tf.test.gpu_device_name()"
      ],
      "id": "8b1c6cb6"
    },
    {
      "cell_type": "markdown",
      "metadata": {
        "id": "898550b2"
      },
      "source": [
        "## Fetch Data (FUNNELED FALSE)"
      ],
      "id": "898550b2"
    },
    {
      "cell_type": "code",
      "execution_count": null,
      "metadata": {
        "id": "a1c9bb8c"
      },
      "outputs": [],
      "source": [
        "data=fetch_lfw_people(resize=0.4,min_faces_per_person=40,funneled=False)"
      ],
      "id": "a1c9bb8c"
    },
    {
      "cell_type": "code",
      "execution_count": null,
      "metadata": {
        "colab": {
          "base_uri": "https://localhost:8080/"
        },
        "id": "4e58949a",
        "outputId": "a1a83ca6-53c8-4a91-80af-1a4f6b353708"
      },
      "outputs": [
        {
          "output_type": "stream",
          "name": "stdout",
          "text": [
            "['data', 'images', 'target', 'target_names', 'DESCR']\n"
          ]
        }
      ],
      "source": [
        "l=list(data.keys())\n",
        "print(l)"
      ],
      "id": "4e58949a"
    },
    {
      "cell_type": "code",
      "execution_count": null,
      "metadata": {
        "id": "f9065329"
      },
      "outputs": [],
      "source": [
        "X=data[\"data\"]\n",
        "Y=data[\"target\"]\n",
        "images=data[\"images\"]\n",
        "target_name=data[\"target_names\"]"
      ],
      "id": "f9065329"
    },
    {
      "cell_type": "code",
      "execution_count": null,
      "metadata": {
        "colab": {
          "base_uri": "https://localhost:8080/"
        },
        "id": "11e3a4d9",
        "outputId": "354027d1-7db4-4d66-c511-0034a6331976"
      },
      "outputs": [
        {
          "output_type": "execute_result",
          "data": {
            "text/plain": [
              "(array([ 0,  1,  2,  3,  4,  5,  6,  7,  8,  9, 10, 11, 12, 13, 14, 15, 16,\n",
              "        17, 18]),\n",
              " array([ 77,  42, 236, 121, 530, 109,  44,  71,  52,  55,  42,  53,  60,\n",
              "         41,  41,  48,  52, 144,  49]))"
            ]
          },
          "metadata": {},
          "execution_count": 5
        }
      ],
      "source": [
        "np.unique(Y,return_counts=True)"
      ],
      "id": "11e3a4d9"
    },
    {
      "cell_type": "code",
      "execution_count": null,
      "metadata": {
        "colab": {
          "base_uri": "https://localhost:8080/"
        },
        "id": "01d1c32f",
        "outputId": "024a8382-baf0-4164-dba8-2aec7763dc1b"
      },
      "outputs": [
        {
          "output_type": "execute_result",
          "data": {
            "text/plain": [
              "(array(['Ariel Sharon', 'Arnold Schwarzenegger', 'Colin Powell',\n",
              "        'Donald Rumsfeld', 'George W Bush', 'Gerhard Schroeder',\n",
              "        'Gloria Macapagal Arroyo', 'Hugo Chavez', 'Jacques Chirac',\n",
              "        'Jean Chretien', 'Jennifer Capriati', 'John Ashcroft',\n",
              "        'Junichiro Koizumi', 'Laura Bush', 'Lleyton Hewitt',\n",
              "        'Luiz Inacio Lula da Silva', 'Serena Williams', 'Tony Blair',\n",
              "        'Vladimir Putin'], dtype='<U25'),\n",
              " array([1, 1, 1, 1, 1, 1, 1, 1, 1, 1, 1, 1, 1, 1, 1, 1, 1, 1, 1]))"
            ]
          },
          "metadata": {},
          "execution_count": 6
        }
      ],
      "source": [
        "np.unique(target_name,return_counts=True)"
      ],
      "id": "01d1c32f"
    },
    {
      "cell_type": "code",
      "execution_count": null,
      "metadata": {
        "colab": {
          "base_uri": "https://localhost:8080/",
          "height": 449
        },
        "id": "9681d6a8",
        "outputId": "5233c53f-040b-4049-a546-70541622eee9"
      },
      "outputs": [
        {
          "output_type": "execute_result",
          "data": {
            "text/plain": [
              "<matplotlib.image.AxesImage at 0x7f4fec858400>"
            ]
          },
          "metadata": {},
          "execution_count": 7
        },
        {
          "output_type": "display_data",
          "data": {
            "text/plain": [
              "<Figure size 640x480 with 1 Axes>"
            ],
            "image/png": "[encoded data removed]"
          },
          "metadata": {}
        }
      ],
      "source": [
        "target=list(target_name).index(\"Arnold Schwarzenegger\")\n",
        "indexes=np.where(Y == target)\n",
        "plt.imshow(images[indexes[0][0],:,:],cmap=\"gray\")"
      ],
      "id": "9681d6a8"
    },
    {
      "cell_type": "code",
      "execution_count": null,
      "metadata": {
        "colab": {
          "base_uri": "https://localhost:8080/",
          "height": 430
        },
        "id": "daf68993",
        "outputId": "c15a480f-d99d-4509-f27e-64c2736f772a"
      },
      "outputs": [
        {
          "output_type": "display_data",
          "data": {
            "text/plain": [
              "<Figure size 640x480 with 1 Axes>"
            ],
            "image/png": "[encoded data removed]"
          },
          "metadata": {}
        }
      ],
      "source": [
        "_=plt.hist(images[indexes[0][0],:,:].flatten())"
      ],
      "id": "daf68993"
    },
    {
      "cell_type": "code",
      "execution_count": null,
      "metadata": {
        "colab": {
          "base_uri": "https://localhost:8080/"
        },
        "id": "5322abb8",
        "outputId": "eb753d54-33dd-4f46-cd51-2a7202630821"
      },
      "outputs": [
        {
          "output_type": "stream",
          "name": "stdout",
          "text": [
            "Samples: 1867\n",
            "Features: 1850\n",
            "Classes: 19\n",
            "Dimension per image: (50, 37)\n"
          ]
        }
      ],
      "source": [
        "_,W,H=images.shape\n",
        "features = X.shape[1]\n",
        "m = X.shape[0]\n",
        "classes = target_name.shape[0]\n",
        "\n",
        "print(\"Samples:\",m)\n",
        "print(\"Features:\",features)\n",
        "print(\"Classes:\",classes)\n",
        "print(\"Dimension per image:\",(W,H))"
      ],
      "id": "5322abb8"
    },
    {
      "cell_type": "markdown",
      "metadata": {
        "id": "64801830"
      },
      "source": [
        "## Prepare Training"
      ],
      "id": "64801830"
    },
    {
      "cell_type": "code",
      "execution_count": null,
      "metadata": {
        "id": "aacec4cc"
      },
      "outputs": [],
      "source": [
        "### Shuffling the data ###\n",
        "\n",
        "temp=list(zip(X,Y)) \n",
        "random.Random(42).shuffle(temp) \n",
        "X,Y=zip(*temp)\n",
        "\n",
        "X=np.array(X)\n",
        "Y=np.array(Y)"
      ],
      "id": "aacec4cc"
    },
    {
      "cell_type": "code",
      "execution_count": null,
      "metadata": {
        "id": "05a24f78"
      },
      "outputs": [],
      "source": [
        "####### Train and test splitting of data #######\n",
        "\n",
        "training_data_X,testing_data_X,training_data_Y,testing_data_Y=train_test_split(X,Y,test_size=0.20,random_state=42)"
      ],
      "id": "05a24f78"
    },
    {
      "cell_type": "code",
      "execution_count": null,
      "metadata": {
        "colab": {
          "base_uri": "https://localhost:8080/"
        },
        "id": "6216fe50",
        "outputId": "bd7da40e-ae0f-48f0-8fb6-545bf143b4a2"
      },
      "outputs": [
        {
          "output_type": "stream",
          "name": "stdout",
          "text": [
            "(1493, 1850)\n",
            "(1493,)\n",
            "(374, 1850)\n",
            "(374,)\n"
          ]
        }
      ],
      "source": [
        "print(training_data_X.shape)\n",
        "print(training_data_Y.shape)\n",
        "print(testing_data_X.shape)\n",
        "print(testing_data_Y.shape)"
      ],
      "id": "6216fe50"
    },
    {
      "cell_type": "markdown",
      "metadata": {
        "id": "7013cec5"
      },
      "source": [
        "## Create Model"
      ],
      "id": "7013cec5"
    },
    {
      "cell_type": "code",
      "execution_count": null,
      "metadata": {
        "colab": {
          "base_uri": "https://localhost:8080/",
          "height": 1000
        },
        "id": "fb051406",
        "outputId": "e77131c1-ac83-4483-d8ec-ca3e9c743d6a",
        "scrolled": false
      },
      "outputs": [
        {
          "output_type": "stream",
          "name": "stdout",
          "text": [
            "(1493, 50, 37, 1)\n",
            "(1493, 19)\n",
            "(374, 50, 37, 1)\n",
            "(374, 19)\n",
            "Epoch 1/50\n",
            "15/15 [==============================] - 29s 2s/step - loss: 2.6605 - accuracy: 0.2605 - val_loss: 2.5284 - val_accuracy: 0.2807\n",
            "Epoch 2/50\n",
            "15/15 [==============================] - 27s 2s/step - loss: 2.5647 - accuracy: 0.2847 - val_loss: 2.5412 - val_accuracy: 0.2807\n",
            "Epoch 3/50\n",
            "15/15 [==============================] - 15s 1s/step - loss: 2.5472 - accuracy: 0.2847 - val_loss: 2.5153 - val_accuracy: 0.2807\n",
            "Epoch 4/50\n",
            "15/15 [==============================] - 15s 1s/step - loss: 2.5360 - accuracy: 0.2847 - val_loss: 2.5085 - val_accuracy: 0.2807\n",
            "Epoch 5/50\n",
            "15/15 [==============================] - 16s 1s/step - loss: 2.5013 - accuracy: 0.2847 - val_loss: 2.4789 - val_accuracy: 0.2807\n",
            "Epoch 6/50\n",
            "15/15 [==============================] - 16s 1s/step - loss: 2.4575 - accuracy: 0.2847 - val_loss: 2.4417 - val_accuracy: 0.2807\n",
            "Epoch 7/50\n",
            "15/15 [==============================] - 15s 1s/step - loss: 2.4029 - accuracy: 0.2920 - val_loss: 2.3747 - val_accuracy: 0.2807\n",
            "Epoch 8/50\n",
            "15/15 [==============================] - 16s 1s/step - loss: 2.3353 - accuracy: 0.2994 - val_loss: 2.2916 - val_accuracy: 0.3262\n",
            "Epoch 9/50\n",
            "15/15 [==============================] - 17s 1s/step - loss: 2.2383 - accuracy: 0.3362 - val_loss: 2.2027 - val_accuracy: 0.3476\n",
            "Epoch 10/50\n",
            "15/15 [==============================] - 17s 1s/step - loss: 2.1533 - accuracy: 0.3630 - val_loss: 2.1100 - val_accuracy: 0.3663\n",
            "Epoch 11/50\n",
            "15/15 [==============================] - 15s 1s/step - loss: 2.0517 - accuracy: 0.4052 - val_loss: 2.0029 - val_accuracy: 0.4064\n",
            "Epoch 12/50\n",
            "15/15 [==============================] - 15s 1s/step - loss: 1.9609 - accuracy: 0.4347 - val_loss: 1.9050 - val_accuracy: 0.4332\n",
            "Epoch 13/50\n",
            "15/15 [==============================] - 15s 1s/step - loss: 1.8609 - accuracy: 0.4561 - val_loss: 1.8251 - val_accuracy: 0.4733\n",
            "Epoch 14/50\n",
            "15/15 [==============================] - 17s 1s/step - loss: 1.7512 - accuracy: 0.5010 - val_loss: 1.7046 - val_accuracy: 0.5241\n",
            "Epoch 15/50\n",
            "15/15 [==============================] - 17s 1s/step - loss: 1.6805 - accuracy: 0.5144 - val_loss: 1.6301 - val_accuracy: 0.5294\n",
            "Epoch 16/50\n",
            "15/15 [==============================] - 16s 1s/step - loss: 1.5856 - accuracy: 0.5445 - val_loss: 1.5443 - val_accuracy: 0.5455\n",
            "Epoch 17/50\n",
            "15/15 [==============================] - 15s 1s/step - loss: 1.5207 - accuracy: 0.5479 - val_loss: 1.4571 - val_accuracy: 0.6016\n",
            "Epoch 18/50\n",
            "15/15 [==============================] - 15s 1s/step - loss: 1.4266 - accuracy: 0.5841 - val_loss: 1.3961 - val_accuracy: 0.6203\n",
            "Epoch 19/50\n",
            "15/15 [==============================] - 15s 1s/step - loss: 1.4097 - accuracy: 0.5841 - val_loss: 1.3490 - val_accuracy: 0.6150\n",
            "Epoch 20/50\n",
            "15/15 [==============================] - 15s 1s/step - loss: 1.3061 - accuracy: 0.6242 - val_loss: 1.2686 - val_accuracy: 0.6578\n",
            "Epoch 21/50\n",
            "15/15 [==============================] - 16s 1s/step - loss: 1.2588 - accuracy: 0.6336 - val_loss: 1.2112 - val_accuracy: 0.6390\n",
            "Epoch 22/50\n",
            "15/15 [==============================] - 16s 1s/step - loss: 1.1620 - accuracy: 0.6551 - val_loss: 1.1878 - val_accuracy: 0.6684\n",
            "Epoch 23/50\n",
            "15/15 [==============================] - 15s 1s/step - loss: 1.1315 - accuracy: 0.6718 - val_loss: 1.0836 - val_accuracy: 0.6738\n",
            "Epoch 24/50\n",
            "15/15 [==============================] - 15s 1s/step - loss: 1.0743 - accuracy: 0.6865 - val_loss: 1.0541 - val_accuracy: 0.7166\n",
            "Epoch 25/50\n",
            " 9/15 [=================>............] - ETA: 6s - loss: 1.0212 - accuracy: 0.6967"
          ]
        },
        {
          "output_type": "error",
          "ename": "KeyboardInterrupt",
          "evalue": "ignored",
          "traceback": [
            "\u001b[0;31m---------------------------------------------------------------------------\u001b[0m",
            "\u001b[0;31mKeyboardInterrupt\u001b[0m                         Traceback (most recent call last)",
            "\u001b[0;32m<ipython-input-13-cf22a9a153bc>\u001b[0m in \u001b[0;36m<cell line: 34>\u001b[0;34m()\u001b[0m\n\u001b[1;32m     32\u001b[0m \u001b[0mstart_time\u001b[0m \u001b[0;34m=\u001b[0m \u001b[0mtime\u001b[0m\u001b[0;34m.\u001b[0m\u001b[0mtime\u001b[0m\u001b[0;34m(\u001b[0m\u001b[0;34m)\u001b[0m\u001b[0;34m\u001b[0m\u001b[0;34m\u001b[0m\u001b[0m\n\u001b[1;32m     33\u001b[0m \u001b[0mmodel\u001b[0m\u001b[0;34m.\u001b[0m\u001b[0mcompile\u001b[0m\u001b[0;34m(\u001b[0m\u001b[0moptimizer\u001b[0m\u001b[0;34m=\u001b[0m\u001b[0;34m'Adamax'\u001b[0m\u001b[0;34m,\u001b[0m\u001b[0mloss\u001b[0m\u001b[0;34m=\u001b[0m\u001b[0;34m'categorical_crossentropy'\u001b[0m\u001b[0;34m,\u001b[0m\u001b[0mmetrics\u001b[0m\u001b[0;34m=\u001b[0m\u001b[0;34m[\u001b[0m\u001b[0;34m'accuracy'\u001b[0m\u001b[0;34m]\u001b[0m\u001b[0;34m)\u001b[0m\u001b[0;34m\u001b[0m\u001b[0;34m\u001b[0m\u001b[0m\n\u001b[0;32m---> 34\u001b[0;31m \u001b[0mhistory\u001b[0m \u001b[0;34m=\u001b[0m \u001b[0mmodel\u001b[0m\u001b[0;34m.\u001b[0m\u001b[0mfit\u001b[0m\u001b[0;34m(\u001b[0m\u001b[0mtraining_data_X\u001b[0m\u001b[0;34m,\u001b[0m\u001b[0mtraining_data_Y\u001b[0m\u001b[0;34m,\u001b[0m\u001b[0mvalidation_data\u001b[0m \u001b[0;34m=\u001b[0m \u001b[0;34m(\u001b[0m\u001b[0mtesting_data_X\u001b[0m\u001b[0;34m,\u001b[0m \u001b[0mtesting_data_Y\u001b[0m\u001b[0;34m)\u001b[0m\u001b[0;34m,\u001b[0m\u001b[0mbatch_size\u001b[0m \u001b[0;34m=\u001b[0m \u001b[0;36m100\u001b[0m\u001b[0;34m,\u001b[0m\u001b[0mepochs\u001b[0m \u001b[0;34m=\u001b[0m \u001b[0;36m50\u001b[0m\u001b[0;34m)\u001b[0m\u001b[0;34m\u001b[0m\u001b[0;34m\u001b[0m\u001b[0m\n\u001b[0m\u001b[1;32m     35\u001b[0m \u001b[0mend_time\u001b[0m \u001b[0;34m=\u001b[0m \u001b[0mtime\u001b[0m\u001b[0;34m.\u001b[0m\u001b[0mtime\u001b[0m\u001b[0;34m(\u001b[0m\u001b[0;34m)\u001b[0m\u001b[0;34m\u001b[0m\u001b[0;34m\u001b[0m\u001b[0m\n\u001b[1;32m     36\u001b[0m \u001b[0;34m\u001b[0m\u001b[0m\n",
            "\u001b[0;32m/usr/local/lib/python3.10/dist-packages/tensorflow/python/keras/engine/training.py\u001b[0m in \u001b[0;36mfit\u001b[0;34m(self, x, y, batch_size, epochs, verbose, callbacks, validation_split, validation_data, shuffle, class_weight, sample_weight, initial_epoch, steps_per_epoch, validation_steps, validation_batch_size, validation_freq, max_queue_size, workers, use_multiprocessing)\u001b[0m\n\u001b[1;32m   1185\u001b[0m                 _r=1):\n\u001b[1;32m   1186\u001b[0m               \u001b[0mcallbacks\u001b[0m\u001b[0;34m.\u001b[0m\u001b[0mon_train_batch_begin\u001b[0m\u001b[0;34m(\u001b[0m\u001b[0mstep\u001b[0m\u001b[0;34m)\u001b[0m\u001b[0;34m\u001b[0m\u001b[0;34m\u001b[0m\u001b[0m\n\u001b[0;32m-> 1187\u001b[0;31m               \u001b[0mtmp_logs\u001b[0m \u001b[0;34m=\u001b[0m \u001b[0mself\u001b[0m\u001b[0;34m.\u001b[0m\u001b[0mtrain_function\u001b[0m\u001b[0;34m(\u001b[0m\u001b[0miterator\u001b[0m\u001b[0;34m)\u001b[0m\u001b[0;34m\u001b[0m\u001b[0;34m\u001b[0m\u001b[0m\n\u001b[0m\u001b[1;32m   1188\u001b[0m               \u001b[0;32mif\u001b[0m \u001b[0mdata_handler\u001b[0m\u001b[0;34m.\u001b[0m\u001b[0mshould_sync\u001b[0m\u001b[0;34m:\u001b[0m\u001b[0;34m\u001b[0m\u001b[0;34m\u001b[0m\u001b[0m\n\u001b[1;32m   1189\u001b[0m                 \u001b[0mcontext\u001b[0m\u001b[0;34m.\u001b[0m\u001b[0masync_wait\u001b[0m\u001b[0;34m(\u001b[0m\u001b[0;34m)\u001b[0m\u001b[0;34m\u001b[0m\u001b[0;34m\u001b[0m\u001b[0m\n",
            "\u001b[0;32m/usr/local/lib/python3.10/dist-packages/tensorflow/python/util/traceback_utils.py\u001b[0m in \u001b[0;36merror_handler\u001b[0;34m(*args, **kwargs)\u001b[0m\n\u001b[1;32m    148\u001b[0m     \u001b[0mfiltered_tb\u001b[0m \u001b[0;34m=\u001b[0m \u001b[0;32mNone\u001b[0m\u001b[0;34m\u001b[0m\u001b[0;34m\u001b[0m\u001b[0m\n\u001b[1;32m    149\u001b[0m     \u001b[0;32mtry\u001b[0m\u001b[0;34m:\u001b[0m\u001b[0;34m\u001b[0m\u001b[0;34m\u001b[0m\u001b[0m\n\u001b[0;32m--> 150\u001b[0;31m       \u001b[0;32mreturn\u001b[0m \u001b[0mfn\u001b[0m\u001b[0;34m(\u001b[0m\u001b[0;34m*\u001b[0m\u001b[0margs\u001b[0m\u001b[0;34m,\u001b[0m \u001b[0;34m**\u001b[0m\u001b[0mkwargs\u001b[0m\u001b[0;34m)\u001b[0m\u001b[0;34m\u001b[0m\u001b[0;34m\u001b[0m\u001b[0m\n\u001b[0m\u001b[1;32m    151\u001b[0m     \u001b[0;32mexcept\u001b[0m \u001b[0mException\u001b[0m \u001b[0;32mas\u001b[0m \u001b[0me\u001b[0m\u001b[0;34m:\u001b[0m\u001b[0;34m\u001b[0m\u001b[0;34m\u001b[0m\u001b[0m\n\u001b[1;32m    152\u001b[0m       \u001b[0mfiltered_tb\u001b[0m \u001b[0;34m=\u001b[0m \u001b[0m_process_traceback_frames\u001b[0m\u001b[0;34m(\u001b[0m\u001b[0me\u001b[0m\u001b[0;34m.\u001b[0m\u001b[0m__traceback__\u001b[0m\u001b[0;34m)\u001b[0m\u001b[0;34m\u001b[0m\u001b[0;34m\u001b[0m\u001b[0m\n",
            "\u001b[0;32m/usr/local/lib/python3.10/dist-packages/tensorflow/python/eager/polymorphic_function/polymorphic_function.py\u001b[0m in \u001b[0;36m__call__\u001b[0;34m(self, *args, **kwds)\u001b[0m\n\u001b[1;32m    892\u001b[0m \u001b[0;34m\u001b[0m\u001b[0m\n\u001b[1;32m    893\u001b[0m       \u001b[0;32mwith\u001b[0m \u001b[0mOptionalXlaContext\u001b[0m\u001b[0;34m(\u001b[0m\u001b[0mself\u001b[0m\u001b[0;34m.\u001b[0m\u001b[0m_jit_compile\u001b[0m\u001b[0;34m)\u001b[0m\u001b[0;34m:\u001b[0m\u001b[0;34m\u001b[0m\u001b[0;34m\u001b[0m\u001b[0m\n\u001b[0;32m--> 894\u001b[0;31m         \u001b[0mresult\u001b[0m \u001b[0;34m=\u001b[0m \u001b[0mself\u001b[0m\u001b[0;34m.\u001b[0m\u001b[0m_call\u001b[0m\u001b[0;34m(\u001b[0m\u001b[0;34m*\u001b[0m\u001b[0margs\u001b[0m\u001b[0;34m,\u001b[0m \u001b[0;34m**\u001b[0m\u001b[0mkwds\u001b[0m\u001b[0;34m)\u001b[0m\u001b[0;34m\u001b[0m\u001b[0;34m\u001b[0m\u001b[0m\n\u001b[0m\u001b[1;32m    895\u001b[0m \u001b[0;34m\u001b[0m\u001b[0m\n\u001b[1;32m    896\u001b[0m       \u001b[0mnew_tracing_count\u001b[0m \u001b[0;34m=\u001b[0m \u001b[0mself\u001b[0m\u001b[0;34m.\u001b[0m\u001b[0mexperimental_get_tracing_count\u001b[0m\u001b[0;34m(\u001b[0m\u001b[0;34m)\u001b[0m\u001b[0;34m\u001b[0m\u001b[0;34m\u001b[0m\u001b[0m\n",
            "\u001b[0;32m/usr/local/lib/python3.10/dist-packages/tensorflow/python/eager/polymorphic_function/polymorphic_function.py\u001b[0m in \u001b[0;36m_call\u001b[0;34m(self, *args, **kwds)\u001b[0m\n\u001b[1;32m    924\u001b[0m       \u001b[0;31m# In this case we have created variables on the first call, so we run the\u001b[0m\u001b[0;34m\u001b[0m\u001b[0;34m\u001b[0m\u001b[0m\n\u001b[1;32m    925\u001b[0m       \u001b[0;31m# defunned version which is guaranteed to never create variables.\u001b[0m\u001b[0;34m\u001b[0m\u001b[0;34m\u001b[0m\u001b[0m\n\u001b[0;32m--> 926\u001b[0;31m       \u001b[0;32mreturn\u001b[0m \u001b[0mself\u001b[0m\u001b[0;34m.\u001b[0m\u001b[0m_no_variable_creation_fn\u001b[0m\u001b[0;34m(\u001b[0m\u001b[0;34m*\u001b[0m\u001b[0margs\u001b[0m\u001b[0;34m,\u001b[0m \u001b[0;34m**\u001b[0m\u001b[0mkwds\u001b[0m\u001b[0;34m)\u001b[0m  \u001b[0;31m# pylint: disable=not-callable\u001b[0m\u001b[0;34m\u001b[0m\u001b[0;34m\u001b[0m\u001b[0m\n\u001b[0m\u001b[1;32m    927\u001b[0m     \u001b[0;32melif\u001b[0m \u001b[0mself\u001b[0m\u001b[0;34m.\u001b[0m\u001b[0m_variable_creation_fn\u001b[0m \u001b[0;32mis\u001b[0m \u001b[0;32mnot\u001b[0m \u001b[0;32mNone\u001b[0m\u001b[0;34m:\u001b[0m\u001b[0;34m\u001b[0m\u001b[0;34m\u001b[0m\u001b[0m\n\u001b[1;32m    928\u001b[0m       \u001b[0;31m# Release the lock early so that multiple threads can perform the call\u001b[0m\u001b[0;34m\u001b[0m\u001b[0;34m\u001b[0m\u001b[0m\n",
            "\u001b[0;32m/usr/local/lib/python3.10/dist-packages/tensorflow/python/eager/polymorphic_function/tracing_compiler.py\u001b[0m in \u001b[0;36m__call__\u001b[0;34m(self, *args, **kwargs)\u001b[0m\n\u001b[1;32m    141\u001b[0m       (concrete_function,\n\u001b[1;32m    142\u001b[0m        filtered_flat_args) = self._maybe_define_function(args, kwargs)\n\u001b[0;32m--> 143\u001b[0;31m     return concrete_function._call_flat(\n\u001b[0m\u001b[1;32m    144\u001b[0m         filtered_flat_args, captured_inputs=concrete_function.captured_inputs)  # pylint: disable=protected-access\n\u001b[1;32m    145\u001b[0m \u001b[0;34m\u001b[0m\u001b[0m\n",
            "\u001b[0;32m/usr/local/lib/python3.10/dist-packages/tensorflow/python/eager/polymorphic_function/monomorphic_function.py\u001b[0m in \u001b[0;36m_call_flat\u001b[0;34m(self, args, captured_inputs, cancellation_manager)\u001b[0m\n\u001b[1;32m   1755\u001b[0m         and executing_eagerly):\n\u001b[1;32m   1756\u001b[0m       \u001b[0;31m# No tape is watching; skip to running the function.\u001b[0m\u001b[0;34m\u001b[0m\u001b[0;34m\u001b[0m\u001b[0m\n\u001b[0;32m-> 1757\u001b[0;31m       return self._build_call_outputs(self._inference_function.call(\n\u001b[0m\u001b[1;32m   1758\u001b[0m           ctx, args, cancellation_manager=cancellation_manager))\n\u001b[1;32m   1759\u001b[0m     forward_backward = self._select_forward_and_backward_functions(\n",
            "\u001b[0;32m/usr/local/lib/python3.10/dist-packages/tensorflow/python/eager/polymorphic_function/monomorphic_function.py\u001b[0m in \u001b[0;36mcall\u001b[0;34m(self, ctx, args, cancellation_manager)\u001b[0m\n\u001b[1;32m    379\u001b[0m       \u001b[0;32mwith\u001b[0m \u001b[0m_InterpolateFunctionError\u001b[0m\u001b[0;34m(\u001b[0m\u001b[0mself\u001b[0m\u001b[0;34m)\u001b[0m\u001b[0;34m:\u001b[0m\u001b[0;34m\u001b[0m\u001b[0;34m\u001b[0m\u001b[0m\n\u001b[1;32m    380\u001b[0m         \u001b[0;32mif\u001b[0m \u001b[0mcancellation_manager\u001b[0m \u001b[0;32mis\u001b[0m \u001b[0;32mNone\u001b[0m\u001b[0;34m:\u001b[0m\u001b[0;34m\u001b[0m\u001b[0;34m\u001b[0m\u001b[0m\n\u001b[0;32m--> 381\u001b[0;31m           outputs = execute.execute(\n\u001b[0m\u001b[1;32m    382\u001b[0m               \u001b[0mstr\u001b[0m\u001b[0;34m(\u001b[0m\u001b[0mself\u001b[0m\u001b[0;34m.\u001b[0m\u001b[0msignature\u001b[0m\u001b[0;34m.\u001b[0m\u001b[0mname\u001b[0m\u001b[0;34m)\u001b[0m\u001b[0;34m,\u001b[0m\u001b[0;34m\u001b[0m\u001b[0;34m\u001b[0m\u001b[0m\n\u001b[1;32m    383\u001b[0m               \u001b[0mnum_outputs\u001b[0m\u001b[0;34m=\u001b[0m\u001b[0mself\u001b[0m\u001b[0;34m.\u001b[0m\u001b[0m_num_outputs\u001b[0m\u001b[0;34m,\u001b[0m\u001b[0;34m\u001b[0m\u001b[0;34m\u001b[0m\u001b[0m\n",
            "\u001b[0;32m/usr/local/lib/python3.10/dist-packages/tensorflow/python/eager/execute.py\u001b[0m in \u001b[0;36mquick_execute\u001b[0;34m(op_name, num_outputs, inputs, attrs, ctx, name)\u001b[0m\n\u001b[1;32m     50\u001b[0m   \u001b[0;32mtry\u001b[0m\u001b[0;34m:\u001b[0m\u001b[0;34m\u001b[0m\u001b[0;34m\u001b[0m\u001b[0m\n\u001b[1;32m     51\u001b[0m     \u001b[0mctx\u001b[0m\u001b[0;34m.\u001b[0m\u001b[0mensure_initialized\u001b[0m\u001b[0;34m(\u001b[0m\u001b[0;34m)\u001b[0m\u001b[0;34m\u001b[0m\u001b[0;34m\u001b[0m\u001b[0m\n\u001b[0;32m---> 52\u001b[0;31m     tensors = pywrap_tfe.TFE_Py_Execute(ctx._handle, device_name, op_name,\n\u001b[0m\u001b[1;32m     53\u001b[0m                                         inputs, attrs, num_outputs)\n\u001b[1;32m     54\u001b[0m   \u001b[0;32mexcept\u001b[0m \u001b[0mcore\u001b[0m\u001b[0;34m.\u001b[0m\u001b[0m_NotOkStatusException\u001b[0m \u001b[0;32mas\u001b[0m \u001b[0me\u001b[0m\u001b[0;34m:\u001b[0m\u001b[0;34m\u001b[0m\u001b[0;34m\u001b[0m\u001b[0m\n",
            "\u001b[0;31mKeyboardInterrupt\u001b[0m: "
          ]
        }
      ],
      "source": [
        "from tensorflow.keras.utils import to_categorical\n",
        "import time\n",
        "\n",
        "####### CNN #######\n",
        "model=Sequential()\n",
        "\n",
        "model.add(Conv2D(64,kernel_size = 3,activation = 'relu',input_shape = (W,H,1)))\n",
        "model.add(MaxPooling2D((2,2),strides = (2,2)))\n",
        "model.add(Conv2D(128,kernel_size = 3,activation = 'relu'))\n",
        "model.add(MaxPooling2D((2,2),strides = (2,2)))\n",
        "model.add(Conv2D(256,kernel_size = 5,activation = 'relu'))\n",
        "model.add(MaxPooling2D((2,2),strides = (2,2)))\n",
        "model.add(Dropout(0.25))\n",
        "#model.add(Conv2D(512,kernel_size = 3,activation = 'relu'))\n",
        "#model.add(MaxPooling2D((2,2),strides = (2,2)))\n",
        "model.add(Flatten())\n",
        "model.add(Dense(classes,activation = 'softmax'))\n",
        "\n",
        "\n",
        "\n",
        "training_data_Y = to_categorical(training_data_Y)\n",
        "testing_data_Y = to_categorical(testing_data_Y)\n",
        "training_data_X = training_data_X.reshape(training_data_X.shape[0],W,H,1)\n",
        "testing_data_X = testing_data_X.reshape(testing_data_X.shape[0],W,H,1)\n",
        "\n",
        "print(training_data_X.shape)\n",
        "print(training_data_Y.shape)\n",
        "print(testing_data_X.shape)\n",
        "print(testing_data_Y.shape)\n",
        "\n",
        "# Measuring the time taken by the model to train\n",
        "start_time = time.time()\n",
        "model.compile(optimizer='Adamax',loss='categorical_crossentropy',metrics=['accuracy'])\n",
        "history = model.fit(training_data_X,training_data_Y,validation_data = (testing_data_X, testing_data_Y),batch_size = 100,epochs = 50)\n",
        "end_time = time.time()\n",
        "\n",
        "\n",
        "print(\"###### Total Time Taken: \", round((end_time - start_time)/60), 'Minutes ######')"
      ],
      "id": "fb051406"
    },
    {
      "cell_type": "code",
      "execution_count": null,
      "metadata": {
        "id": "ceefa088"
      },
      "outputs": [],
      "source": [
        "score = model.evaluate(testing_data_X,testing_data_Y,verbose=0)\n",
        "print(score[1]*100)"
      ],
      "id": "ceefa088"
    },
    {
      "cell_type": "code",
      "execution_count": null,
      "metadata": {
        "id": "bc372f81"
      },
      "outputs": [],
      "source": [
        "accuracy = history.history[\"accuracy\"]\n",
        "val_accuracy = history.history[\"val_accuracy\"]\n",
        "loss = history.history[\"loss\"]\n",
        "val_loss = history.history[\"val_loss\"]\n",
        "epochs = range(1, len(accuracy) + 1)\n",
        "plt.plot(epochs, accuracy, \"bo\", label  =\"Training accuracy\") \n",
        "plt.plot(epochs, val_accuracy, \"b\", label = \"Validation accuracy\") \n",
        "plt.title(\"Training and validation accuracy\")\n",
        "plt.legend()\n",
        "plt.figure()\n",
        "plt.plot(epochs, loss, \"bo\", label = \"Training loss\") \n",
        "plt.plot(epochs, val_loss, \"b\", label = \"Validation loss\") \n",
        "plt.title(\"Training and validation loss\")\n",
        "plt.legend()\n",
        "plt.show()"
      ],
      "id": "bc372f81"
    },
    {
      "cell_type": "markdown",
      "metadata": {
        "id": "6ed40f0a"
      },
      "source": [
        "## Fetch Data (FUNNELED TRUE)\n",
        "\n",
        "parece que es una técnica de alineamiento de imágenes que mejora el resultado del reconocimiento:\n",
        "    \n",
        "    http://vis-www.cs.umass.edu/deep_funnel.html\n",
        "    \n",
        "Deberíamos tenerlo en cuenta de cara a tu reconocedor, y si metes imágenes para entrenar tu reconocedor, deberíamos alinearlas de la misma forma que en el dataset LFW.\n",
        "\n",
        "Sin embargo, al repetir todo el proceso para imágenes FUNNELED, el resultado es mucho peor...."
      ],
      "id": "6ed40f0a"
    },
    {
      "cell_type": "code",
      "execution_count": 2,
      "metadata": {
        "id": "b01492a4"
      },
      "outputs": [],
      "source": [
        "data2=fetch_lfw_people(resize=0.4,min_faces_per_person=40,funneled=True)"
      ],
      "id": "b01492a4"
    },
    {
      "cell_type": "code",
      "execution_count": 3,
      "metadata": {
        "id": "97ead116"
      },
      "outputs": [],
      "source": [
        "X2=data2[\"data\"]\n",
        "Y2=data2[\"target\"]\n",
        "images2=data2[\"images\"]\n",
        "target_name2=data2[\"target_names\"]"
      ],
      "id": "97ead116"
    },
    {
      "cell_type": "code",
      "execution_count": 4,
      "metadata": {
        "id": "9c875e84",
        "colab": {
          "base_uri": "https://localhost:8080/",
          "height": 449
        },
        "outputId": "5296a734-2041-438b-e932-7a96758732f9"
      },
      "outputs": [
        {
          "output_type": "execute_result",
          "data": {
            "text/plain": [
              "<matplotlib.image.AxesImage at 0x7f3fe3453e50>"
            ]
          },
          "metadata": {},
          "execution_count": 4
        },
        {
          "output_type": "display_data",
          "data": {
            "text/plain": [
              "<Figure size 640x480 with 1 Axes>"
            ],
            "image/png": "[encoded data removed]"
          },
          "metadata": {}
        }
      ],
      "source": [
        "target2=list(target_name2).index(\"Arnold Schwarzenegger\")\n",
        "indexes2=np.where(Y2 == target2)\n",
        "plt.imshow(images2[indexes2[0][0],:,:],cmap=\"gray\")"
      ],
      "id": "9c875e84"
    },
    {
      "cell_type": "code",
      "execution_count": 5,
      "metadata": {
        "id": "44708e44",
        "colab": {
          "base_uri": "https://localhost:8080/"
        },
        "outputId": "8595c82d-6bcb-4a71-d069-65d90d652199"
      },
      "outputs": [
        {
          "output_type": "stream",
          "name": "stdout",
          "text": [
            "Samples: 1867\n",
            "Features: 1850\n",
            "Classes: 19\n",
            "Dimension per image: (50, 37)\n"
          ]
        }
      ],
      "source": [
        "_,W2,H2=images2.shape\n",
        "features2 = X2.shape[1]\n",
        "m2 = X2.shape[0]\n",
        "classes2 = target_name2.shape[0]\n",
        "\n",
        "print(\"Samples:\",m2)\n",
        "print(\"Features:\",features2)\n",
        "print(\"Classes:\",classes2)\n",
        "print(\"Dimension per image:\",(W2,H2))"
      ],
      "id": "44708e44"
    },
    {
      "cell_type": "markdown",
      "metadata": {
        "id": "7hSHWyfUIPuC"
      },
      "source": [
        "## Prepare Training"
      ],
      "id": "7hSHWyfUIPuC"
    },
    {
      "cell_type": "code",
      "execution_count": 6,
      "metadata": {
        "id": "5f1b1cde"
      },
      "outputs": [],
      "source": [
        "### Shuffling the data ###\n",
        "\n",
        "temp2=list(zip(X2,Y2)) \n",
        "random.Random(42).shuffle(temp2) \n",
        "X2,Y2=zip(*temp2)\n",
        "\n",
        "X2=np.array(X2)\n",
        "Y2=np.array(Y2)\n",
        "\n",
        "####### Train and test splitting of data #######\n",
        "\n",
        "training_data_X2,testing_data_X2,training_data_Y2,testing_data_Y2=train_test_split(X2,Y2,test_size=0.20,random_state=42)"
      ],
      "id": "5f1b1cde"
    },
    {
      "cell_type": "code",
      "execution_count": 7,
      "metadata": {
        "id": "09c9acfd",
        "colab": {
          "base_uri": "https://localhost:8080/"
        },
        "outputId": "f8cc4be8-edf8-4626-f66d-6eeb6cd8e313"
      },
      "outputs": [
        {
          "output_type": "stream",
          "name": "stdout",
          "text": [
            "(1493, 1850)\n",
            "(1493,)\n",
            "(374, 1850)\n",
            "(374,)\n"
          ]
        }
      ],
      "source": [
        "print(training_data_X2.shape)\n",
        "print(training_data_Y2.shape)\n",
        "print(testing_data_X2.shape)\n",
        "print(testing_data_Y2.shape)"
      ],
      "id": "09c9acfd"
    },
    {
      "cell_type": "markdown",
      "metadata": {
        "id": "ecWTK7vQITwm"
      },
      "source": [
        "## Create Model"
      ],
      "id": "ecWTK7vQITwm"
    },
    {
      "cell_type": "code",
      "execution_count": 8,
      "metadata": {
        "id": "81c2b3cc"
      },
      "outputs": [],
      "source": [
        "from tensorflow.keras.utils import to_categorical\n",
        "import time\n",
        "\n",
        "####### CNN #######\n",
        "model2=Sequential()\n",
        "\n",
        "model2.add(Conv2D(64,kernel_size = 3,activation = 'relu',input_shape = (W2,H2,1)))\n",
        "model2.add(MaxPooling2D((2,2),strides = (2,2)))\n",
        "model2.add(Conv2D(128,kernel_size = 3,activation = 'relu'))\n",
        "model2.add(MaxPooling2D((2,2),strides = (2,2)))\n",
        "model2.add(Conv2D(256,kernel_size = 5,activation = 'relu'))\n",
        "model2.add(MaxPooling2D((2,2),strides = (2,2)))\n",
        "model2.add(Dropout(0.25))\n",
        "#model2.add(Conv2D(512,kernel_size = 3,activation = 'relu'))\n",
        "#model2.add(MaxPooling2D((2,2),strides = (2,2)))\n",
        "model2.add(Flatten())\n",
        "model2.add(Dense(classes2,activation = 'softmax'))\n",
        "\n",
        "\n",
        "\n",
        "training_data_Y2 = to_categorical(training_data_Y2)\n",
        "testing_data_Y2 = to_categorical(testing_data_Y2)\n",
        "training_data_X2 = training_data_X2.reshape(training_data_X2.shape[0],W2,H2,1)\n",
        "testing_data_X2 = testing_data_X2.reshape(testing_data_X2.shape[0],W2,H2,1)"
      ],
      "id": "81c2b3cc"
    },
    {
      "cell_type": "code",
      "execution_count": 9,
      "metadata": {
        "id": "686aa00f",
        "colab": {
          "base_uri": "https://localhost:8080/"
        },
        "outputId": "34fcce6d-0d22-4208-b552-28e76fdb4f68"
      },
      "outputs": [
        {
          "output_type": "stream",
          "name": "stdout",
          "text": [
            "(1493, 50, 37, 1)\n",
            "(1493, 19)\n",
            "(374, 50, 37, 1)\n",
            "(374, 19)\n"
          ]
        }
      ],
      "source": [
        "print(training_data_X2.shape)\n",
        "print(training_data_Y2.shape)\n",
        "print(testing_data_X2.shape)\n",
        "print(testing_data_Y2.shape)"
      ],
      "id": "686aa00f"
    },
    {
      "cell_type": "code",
      "execution_count": 10,
      "metadata": {
        "id": "bcd11864",
        "scrolled": false,
        "colab": {
          "base_uri": "https://localhost:8080/"
        },
        "outputId": "9dd6d8e4-7102-4854-859b-81bda41d4542"
      },
      "outputs": [
        {
          "output_type": "stream",
          "name": "stdout",
          "text": [
            "Epoch 1/100\n",
            "10/10 [==============================] - 28s 3s/step - loss: 2.6675 - accuracy: 0.2592 - val_loss: 2.5455 - val_accuracy: 0.2807\n",
            "Epoch 2/100\n",
            "10/10 [==============================] - 26s 2s/step - loss: 2.5612 - accuracy: 0.2840 - val_loss: 2.5359 - val_accuracy: 0.2807\n",
            "Epoch 3/100\n",
            "10/10 [==============================] - 15s 2s/step - loss: 2.5386 - accuracy: 0.2847 - val_loss: 2.5246 - val_accuracy: 0.2807\n",
            "Epoch 4/100\n",
            "10/10 [==============================] - 15s 2s/step - loss: 2.5220 - accuracy: 0.2847 - val_loss: 2.5037 - val_accuracy: 0.2807\n",
            "Epoch 5/100\n",
            "10/10 [==============================] - 16s 2s/step - loss: 2.4974 - accuracy: 0.2853 - val_loss: 2.4693 - val_accuracy: 0.2807\n",
            "Epoch 6/100\n",
            "10/10 [==============================] - 15s 2s/step - loss: 2.4630 - accuracy: 0.2860 - val_loss: 2.4338 - val_accuracy: 0.2807\n",
            "Epoch 7/100\n",
            "10/10 [==============================] - 15s 2s/step - loss: 2.4165 - accuracy: 0.2920 - val_loss: 2.3822 - val_accuracy: 0.3048\n",
            "Epoch 8/100\n",
            "10/10 [==============================] - 17s 2s/step - loss: 2.3503 - accuracy: 0.3054 - val_loss: 2.3206 - val_accuracy: 0.3102\n",
            "Epoch 9/100\n",
            "10/10 [==============================] - 16s 2s/step - loss: 2.2881 - accuracy: 0.3188 - val_loss: 2.2432 - val_accuracy: 0.3182\n",
            "Epoch 10/100\n",
            "10/10 [==============================] - 17s 2s/step - loss: 2.2082 - accuracy: 0.3376 - val_loss: 2.1612 - val_accuracy: 0.3610\n",
            "Epoch 11/100\n",
            "10/10 [==============================] - 17s 2s/step - loss: 2.1324 - accuracy: 0.3644 - val_loss: 2.0968 - val_accuracy: 0.3717\n",
            "Epoch 12/100\n",
            "10/10 [==============================] - 15s 2s/step - loss: 2.0424 - accuracy: 0.3838 - val_loss: 1.9903 - val_accuracy: 0.3850\n",
            "Epoch 13/100\n",
            "10/10 [==============================] - 15s 2s/step - loss: 1.9673 - accuracy: 0.4092 - val_loss: 1.8994 - val_accuracy: 0.4251\n",
            "Epoch 14/100\n",
            "10/10 [==============================] - 15s 2s/step - loss: 1.8776 - accuracy: 0.4360 - val_loss: 1.8210 - val_accuracy: 0.4759\n",
            "Epoch 15/100\n",
            "10/10 [==============================] - 16s 2s/step - loss: 1.7951 - accuracy: 0.4642 - val_loss: 1.7556 - val_accuracy: 0.4920\n",
            "Epoch 16/100\n",
            "10/10 [==============================] - 16s 2s/step - loss: 1.7359 - accuracy: 0.4776 - val_loss: 1.6638 - val_accuracy: 0.5160\n",
            "Epoch 17/100\n",
            "10/10 [==============================] - 15s 2s/step - loss: 1.6624 - accuracy: 0.5037 - val_loss: 1.6110 - val_accuracy: 0.5294\n",
            "Epoch 18/100\n",
            "10/10 [==============================] - 15s 2s/step - loss: 1.5690 - accuracy: 0.5452 - val_loss: 1.5505 - val_accuracy: 0.5401\n",
            "Epoch 19/100\n",
            "10/10 [==============================] - 15s 2s/step - loss: 1.5214 - accuracy: 0.5479 - val_loss: 1.4724 - val_accuracy: 0.5775\n",
            "Epoch 20/100\n",
            "10/10 [==============================] - 15s 2s/step - loss: 1.4689 - accuracy: 0.5640 - val_loss: 1.4213 - val_accuracy: 0.6096\n",
            "Epoch 21/100\n",
            "10/10 [==============================] - 15s 2s/step - loss: 1.4088 - accuracy: 0.5914 - val_loss: 1.3598 - val_accuracy: 0.6176\n",
            "Epoch 22/100\n",
            "10/10 [==============================] - 17s 2s/step - loss: 1.3712 - accuracy: 0.5921 - val_loss: 1.3559 - val_accuracy: 0.6043\n",
            "Epoch 23/100\n",
            "10/10 [==============================] - 17s 2s/step - loss: 1.3316 - accuracy: 0.6075 - val_loss: 1.2832 - val_accuracy: 0.6791\n",
            "Epoch 24/100\n",
            "10/10 [==============================] - 15s 2s/step - loss: 1.2667 - accuracy: 0.6370 - val_loss: 1.2346 - val_accuracy: 0.6845\n",
            "Epoch 25/100\n",
            "10/10 [==============================] - 15s 2s/step - loss: 1.2185 - accuracy: 0.6397 - val_loss: 1.1792 - val_accuracy: 0.6952\n",
            "Epoch 26/100\n",
            "10/10 [==============================] - 15s 2s/step - loss: 1.1531 - accuracy: 0.6577 - val_loss: 1.1433 - val_accuracy: 0.6925\n",
            "Epoch 27/100\n",
            "10/10 [==============================] - 15s 2s/step - loss: 1.1401 - accuracy: 0.6711 - val_loss: 1.1576 - val_accuracy: 0.7032\n",
            "Epoch 28/100\n",
            "10/10 [==============================] - 15s 2s/step - loss: 1.1296 - accuracy: 0.6651 - val_loss: 1.0925 - val_accuracy: 0.7246\n",
            "Epoch 29/100\n",
            "10/10 [==============================] - 16s 2s/step - loss: 1.0786 - accuracy: 0.6892 - val_loss: 1.0424 - val_accuracy: 0.7513\n",
            "Epoch 30/100\n",
            "10/10 [==============================] - 16s 2s/step - loss: 1.0500 - accuracy: 0.6939 - val_loss: 1.0717 - val_accuracy: 0.7219\n",
            "Epoch 31/100\n",
            "10/10 [==============================] - 15s 2s/step - loss: 0.9934 - accuracy: 0.7060 - val_loss: 0.9931 - val_accuracy: 0.7513\n",
            "Epoch 32/100\n",
            "10/10 [==============================] - 15s 2s/step - loss: 0.9602 - accuracy: 0.7294 - val_loss: 0.9738 - val_accuracy: 0.7567\n",
            "Epoch 33/100\n",
            "10/10 [==============================] - 15s 2s/step - loss: 0.9390 - accuracy: 0.7314 - val_loss: 0.9549 - val_accuracy: 0.7487\n",
            "Epoch 34/100\n",
            "10/10 [==============================] - 15s 2s/step - loss: 0.9243 - accuracy: 0.7247 - val_loss: 0.9695 - val_accuracy: 0.7460\n",
            "Epoch 35/100\n",
            "10/10 [==============================] - 17s 2s/step - loss: 0.9433 - accuracy: 0.7187 - val_loss: 0.9535 - val_accuracy: 0.7487\n",
            "Epoch 36/100\n",
            "10/10 [==============================] - 15s 2s/step - loss: 0.8863 - accuracy: 0.7455 - val_loss: 0.8857 - val_accuracy: 0.7754\n",
            "Epoch 37/100\n",
            "10/10 [==============================] - 17s 2s/step - loss: 0.8389 - accuracy: 0.7676 - val_loss: 0.8470 - val_accuracy: 0.7995\n",
            "Epoch 38/100\n",
            "10/10 [==============================] - 15s 2s/step - loss: 0.8004 - accuracy: 0.7569 - val_loss: 0.8491 - val_accuracy: 0.7754\n",
            "Epoch 39/100\n",
            "10/10 [==============================] - 15s 2s/step - loss: 0.7919 - accuracy: 0.7676 - val_loss: 0.8314 - val_accuracy: 0.7754\n",
            "Epoch 40/100\n",
            "10/10 [==============================] - 15s 2s/step - loss: 0.7605 - accuracy: 0.7770 - val_loss: 0.7986 - val_accuracy: 0.7995\n",
            "Epoch 41/100\n",
            "10/10 [==============================] - 15s 2s/step - loss: 0.7391 - accuracy: 0.7870 - val_loss: 0.7895 - val_accuracy: 0.7995\n",
            "Epoch 42/100\n",
            "10/10 [==============================] - 15s 2s/step - loss: 0.7120 - accuracy: 0.8031 - val_loss: 0.8067 - val_accuracy: 0.8021\n",
            "Epoch 43/100\n",
            "10/10 [==============================] - 16s 2s/step - loss: 0.7151 - accuracy: 0.7910 - val_loss: 0.7497 - val_accuracy: 0.8209\n",
            "Epoch 44/100\n",
            "10/10 [==============================] - 16s 2s/step - loss: 0.6814 - accuracy: 0.8111 - val_loss: 0.7452 - val_accuracy: 0.8128\n",
            "Epoch 45/100\n",
            "10/10 [==============================] - 15s 2s/step - loss: 0.6518 - accuracy: 0.8158 - val_loss: 0.7250 - val_accuracy: 0.8209\n",
            "Epoch 46/100\n",
            "10/10 [==============================] - 15s 2s/step - loss: 0.6386 - accuracy: 0.8279 - val_loss: 0.7207 - val_accuracy: 0.8182\n",
            "Epoch 47/100\n",
            "10/10 [==============================] - 15s 2s/step - loss: 0.6276 - accuracy: 0.8218 - val_loss: 0.7316 - val_accuracy: 0.8048\n",
            "Epoch 48/100\n",
            "10/10 [==============================] - 17s 2s/step - loss: 0.6139 - accuracy: 0.8245 - val_loss: 0.7413 - val_accuracy: 0.8155\n",
            "Epoch 49/100\n",
            "10/10 [==============================] - 15s 2s/step - loss: 0.5988 - accuracy: 0.8232 - val_loss: 0.6896 - val_accuracy: 0.8262\n",
            "Epoch 50/100\n",
            "10/10 [==============================] - 16s 2s/step - loss: 0.5897 - accuracy: 0.8346 - val_loss: 0.6668 - val_accuracy: 0.8396\n",
            "Epoch 51/100\n",
            "10/10 [==============================] - 15s 2s/step - loss: 0.5423 - accuracy: 0.8560 - val_loss: 0.6516 - val_accuracy: 0.8342\n",
            "Epoch 52/100\n",
            "10/10 [==============================] - 15s 2s/step - loss: 0.5156 - accuracy: 0.8520 - val_loss: 0.6780 - val_accuracy: 0.8262\n",
            "Epoch 53/100\n",
            "10/10 [==============================] - 15s 2s/step - loss: 0.5453 - accuracy: 0.8399 - val_loss: 0.6373 - val_accuracy: 0.8449\n",
            "Epoch 54/100\n",
            "10/10 [==============================] - 15s 2s/step - loss: 0.5219 - accuracy: 0.8526 - val_loss: 0.6522 - val_accuracy: 0.8342\n",
            "Epoch 55/100\n",
            "10/10 [==============================] - 15s 2s/step - loss: 0.5049 - accuracy: 0.8513 - val_loss: 0.6248 - val_accuracy: 0.8369\n",
            "Epoch 56/100\n",
            "10/10 [==============================] - 16s 2s/step - loss: 0.4835 - accuracy: 0.8647 - val_loss: 0.6122 - val_accuracy: 0.8369\n",
            "Epoch 57/100\n",
            "10/10 [==============================] - 16s 2s/step - loss: 0.4751 - accuracy: 0.8587 - val_loss: 0.6124 - val_accuracy: 0.8396\n",
            "Epoch 58/100\n",
            "10/10 [==============================] - 15s 2s/step - loss: 0.4412 - accuracy: 0.8828 - val_loss: 0.5891 - val_accuracy: 0.8529\n",
            "Epoch 59/100\n",
            "10/10 [==============================] - 15s 2s/step - loss: 0.4648 - accuracy: 0.8714 - val_loss: 0.6174 - val_accuracy: 0.8289\n",
            "Epoch 60/100\n",
            "10/10 [==============================] - 15s 2s/step - loss: 0.4302 - accuracy: 0.8734 - val_loss: 0.6142 - val_accuracy: 0.8396\n",
            "Epoch 61/100\n",
            "10/10 [==============================] - 17s 2s/step - loss: 0.4328 - accuracy: 0.8768 - val_loss: 0.5979 - val_accuracy: 0.8369\n",
            "Epoch 62/100\n",
            "10/10 [==============================] - 16s 2s/step - loss: 0.3850 - accuracy: 0.8969 - val_loss: 0.5989 - val_accuracy: 0.8422\n",
            "Epoch 63/100\n",
            "10/10 [==============================] - 16s 2s/step - loss: 0.4081 - accuracy: 0.8875 - val_loss: 0.5792 - val_accuracy: 0.8583\n",
            "Epoch 64/100\n",
            "10/10 [==============================] - 15s 2s/step - loss: 0.3929 - accuracy: 0.8922 - val_loss: 0.5660 - val_accuracy: 0.8583\n",
            "Epoch 65/100\n",
            "10/10 [==============================] - 15s 2s/step - loss: 0.3725 - accuracy: 0.9002 - val_loss: 0.5799 - val_accuracy: 0.8476\n",
            "Epoch 66/100\n",
            "10/10 [==============================] - 15s 2s/step - loss: 0.3520 - accuracy: 0.9049 - val_loss: 0.5621 - val_accuracy: 0.8636\n",
            "Epoch 67/100\n",
            "10/10 [==============================] - 15s 2s/step - loss: 0.3437 - accuracy: 0.9143 - val_loss: 0.5344 - val_accuracy: 0.8583\n",
            "Epoch 68/100\n",
            "10/10 [==============================] - 15s 2s/step - loss: 0.3445 - accuracy: 0.9015 - val_loss: 0.5388 - val_accuracy: 0.8583\n",
            "Epoch 69/100\n",
            "10/10 [==============================] - 17s 2s/step - loss: 0.3147 - accuracy: 0.9143 - val_loss: 0.5438 - val_accuracy: 0.8583\n",
            "Epoch 70/100\n",
            "10/10 [==============================] - 15s 2s/step - loss: 0.3134 - accuracy: 0.9116 - val_loss: 0.5634 - val_accuracy: 0.8556\n",
            "Epoch 71/100\n",
            "10/10 [==============================] - 15s 2s/step - loss: 0.3080 - accuracy: 0.9183 - val_loss: 0.5294 - val_accuracy: 0.8636\n",
            "Epoch 72/100\n",
            "10/10 [==============================] - 15s 2s/step - loss: 0.3050 - accuracy: 0.9156 - val_loss: 0.5541 - val_accuracy: 0.8529\n",
            "Epoch 73/100\n",
            "10/10 [==============================] - 15s 2s/step - loss: 0.2962 - accuracy: 0.9210 - val_loss: 0.5273 - val_accuracy: 0.8717\n",
            "Epoch 74/100\n",
            "10/10 [==============================] - 17s 2s/step - loss: 0.2764 - accuracy: 0.9263 - val_loss: 0.5394 - val_accuracy: 0.8663\n",
            "Epoch 75/100\n",
            "10/10 [==============================] - 17s 2s/step - loss: 0.2692 - accuracy: 0.9250 - val_loss: 0.5286 - val_accuracy: 0.8556\n",
            "Epoch 76/100\n",
            "10/10 [==============================] - 15s 2s/step - loss: 0.2775 - accuracy: 0.9257 - val_loss: 0.5086 - val_accuracy: 0.8556\n",
            "Epoch 77/100\n",
            "10/10 [==============================] - 15s 2s/step - loss: 0.2587 - accuracy: 0.9357 - val_loss: 0.5009 - val_accuracy: 0.8663\n",
            "Epoch 78/100\n",
            "10/10 [==============================] - 15s 2s/step - loss: 0.2467 - accuracy: 0.9377 - val_loss: 0.5178 - val_accuracy: 0.8717\n",
            "Epoch 79/100\n",
            "10/10 [==============================] - 15s 2s/step - loss: 0.2340 - accuracy: 0.9397 - val_loss: 0.4862 - val_accuracy: 0.8610\n",
            "Epoch 80/100\n",
            "10/10 [==============================] - 15s 2s/step - loss: 0.2275 - accuracy: 0.9397 - val_loss: 0.5241 - val_accuracy: 0.8770\n",
            "Epoch 81/100\n",
            "10/10 [==============================] - 16s 2s/step - loss: 0.2201 - accuracy: 0.9437 - val_loss: 0.5255 - val_accuracy: 0.8690\n",
            "Epoch 82/100\n",
            "10/10 [==============================] - 16s 2s/step - loss: 0.2102 - accuracy: 0.9484 - val_loss: 0.5151 - val_accuracy: 0.8743\n",
            "Epoch 83/100\n",
            "10/10 [==============================] - 15s 2s/step - loss: 0.2122 - accuracy: 0.9511 - val_loss: 0.5105 - val_accuracy: 0.8717\n",
            "Epoch 84/100\n",
            "10/10 [==============================] - 15s 2s/step - loss: 0.1922 - accuracy: 0.9518 - val_loss: 0.4893 - val_accuracy: 0.8743\n",
            "Epoch 85/100\n",
            "10/10 [==============================] - 15s 2s/step - loss: 0.2148 - accuracy: 0.9390 - val_loss: 0.5097 - val_accuracy: 0.8717\n",
            "Epoch 86/100\n",
            "10/10 [==============================] - 15s 2s/step - loss: 0.1989 - accuracy: 0.9565 - val_loss: 0.5137 - val_accuracy: 0.8610\n",
            "Epoch 87/100\n",
            "10/10 [==============================] - 17s 2s/step - loss: 0.2033 - accuracy: 0.9524 - val_loss: 0.5101 - val_accuracy: 0.8690\n",
            "Epoch 88/100\n",
            "10/10 [==============================] - 16s 2s/step - loss: 0.1765 - accuracy: 0.9598 - val_loss: 0.4968 - val_accuracy: 0.8797\n",
            "Epoch 89/100\n",
            "10/10 [==============================] - 15s 2s/step - loss: 0.1796 - accuracy: 0.9565 - val_loss: 0.5697 - val_accuracy: 0.8396\n",
            "Epoch 90/100\n",
            "10/10 [==============================] - 15s 2s/step - loss: 0.1726 - accuracy: 0.9591 - val_loss: 0.4818 - val_accuracy: 0.8690\n",
            "Epoch 91/100\n",
            "10/10 [==============================] - 15s 2s/step - loss: 0.1541 - accuracy: 0.9585 - val_loss: 0.4850 - val_accuracy: 0.8770\n",
            "Epoch 92/100\n",
            "10/10 [==============================] - 15s 2s/step - loss: 0.1660 - accuracy: 0.9545 - val_loss: 0.4894 - val_accuracy: 0.8797\n",
            "Epoch 93/100\n",
            "10/10 [==============================] - 15s 2s/step - loss: 0.1505 - accuracy: 0.9658 - val_loss: 0.4653 - val_accuracy: 0.8770\n",
            "Epoch 94/100\n",
            "10/10 [==============================] - 16s 2s/step - loss: 0.1375 - accuracy: 0.9772 - val_loss: 0.4981 - val_accuracy: 0.8850\n",
            "Epoch 95/100\n",
            "10/10 [==============================] - 16s 2s/step - loss: 0.1322 - accuracy: 0.9712 - val_loss: 0.4697 - val_accuracy: 0.8770\n",
            "Epoch 96/100\n",
            "10/10 [==============================] - 15s 2s/step - loss: 0.1441 - accuracy: 0.9652 - val_loss: 0.4909 - val_accuracy: 0.8717\n",
            "Epoch 97/100\n",
            "10/10 [==============================] - 15s 2s/step - loss: 0.1536 - accuracy: 0.9645 - val_loss: 0.4766 - val_accuracy: 0.8824\n",
            "Epoch 98/100\n",
            "10/10 [==============================] - 15s 2s/step - loss: 0.1377 - accuracy: 0.9712 - val_loss: 0.4565 - val_accuracy: 0.8797\n",
            "Epoch 99/100\n",
            "10/10 [==============================] - 15s 2s/step - loss: 0.1313 - accuracy: 0.9672 - val_loss: 0.4841 - val_accuracy: 0.8877\n",
            "Epoch 100/100\n",
            "10/10 [==============================] - 18s 2s/step - loss: 0.1332 - accuracy: 0.9632 - val_loss: 0.4948 - val_accuracy: 0.8663\n",
            "###### Total Time Taken:  27 Minutes ######\n"
          ]
        }
      ],
      "source": [
        "# Measuring the time taken by the model to train\n",
        "start_time2 = time.time()\n",
        "model2.compile(optimizer='Adamax',loss='categorical_crossentropy',metrics=['accuracy'])\n",
        "history2 = model2.fit(training_data_X2,training_data_Y2,validation_data = (testing_data_X2, testing_data_Y2),batch_size = 150,epochs = 100)\n",
        "end_time2 = time.time()\n",
        "\n",
        "\n",
        "print(\"###### Total Time Taken: \", round((end_time2 - start_time2)/60), 'Minutes ######')"
      ],
      "id": "bcd11864"
    },
    {
      "cell_type": "code",
      "execution_count": 11,
      "metadata": {
        "id": "4bae6869",
        "colab": {
          "base_uri": "https://localhost:8080/"
        },
        "outputId": "588a29b0-4e76-4362-f6b1-6b741895910c"
      },
      "outputs": [
        {
          "output_type": "stream",
          "name": "stdout",
          "text": [
            "86.6310179233551\n"
          ]
        }
      ],
      "source": [
        "score2 = model2.evaluate(testing_data_X2,testing_data_Y2,verbose=0)\n",
        "print(score2[1]*100)"
      ],
      "id": "4bae6869"
    },
    {
      "cell_type": "markdown",
      "metadata": {
        "id": "6723b4a0"
      },
      "source": [
        "Compruebo que con el modelo 1 (entrenado sin datos alineados) la precisión es similar, lo que me lleva a la conclusión de que probablemente, en este API, los datos con el funneled puesto a True y a False sean los mismos. Pero habrá que tenerlo en cuenta para tu aplicación."
      ],
      "id": "6723b4a0"
    },
    {
      "cell_type": "code",
      "execution_count": 12,
      "metadata": {
        "id": "d5d42d0f",
        "colab": {
          "base_uri": "https://localhost:8080/",
          "height": 181
        },
        "outputId": "61dbbd43-fce1-4238-8257-77e47a7260c7"
      },
      "outputs": [
        {
          "output_type": "error",
          "ename": "NameError",
          "evalue": "ignored",
          "traceback": [
            "\u001b[0;31m---------------------------------------------------------------------------\u001b[0m",
            "\u001b[0;31mNameError\u001b[0m                                 Traceback (most recent call last)",
            "\u001b[0;32m<ipython-input-12-78596f1874f3>\u001b[0m in \u001b[0;36m<cell line: 1>\u001b[0;34m()\u001b[0m\n\u001b[0;32m----> 1\u001b[0;31m \u001b[0mscore\u001b[0m \u001b[0;34m=\u001b[0m \u001b[0mmodel\u001b[0m\u001b[0;34m.\u001b[0m\u001b[0mevaluate\u001b[0m\u001b[0;34m(\u001b[0m\u001b[0mtesting_data_X\u001b[0m\u001b[0;34m,\u001b[0m\u001b[0mtesting_data_Y\u001b[0m\u001b[0;34m,\u001b[0m\u001b[0mverbose\u001b[0m\u001b[0;34m=\u001b[0m\u001b[0;36m0\u001b[0m\u001b[0;34m)\u001b[0m\u001b[0;34m\u001b[0m\u001b[0;34m\u001b[0m\u001b[0m\n\u001b[0m\u001b[1;32m      2\u001b[0m \u001b[0mprint\u001b[0m\u001b[0;34m(\u001b[0m\u001b[0mscore\u001b[0m\u001b[0;34m[\u001b[0m\u001b[0;36m1\u001b[0m\u001b[0;34m]\u001b[0m\u001b[0;34m*\u001b[0m\u001b[0;36m100\u001b[0m\u001b[0;34m)\u001b[0m\u001b[0;34m\u001b[0m\u001b[0;34m\u001b[0m\u001b[0m\n",
            "\u001b[0;31mNameError\u001b[0m: name 'model' is not defined"
          ]
        }
      ],
      "source": [
        "score = model.evaluate(testing_data_X,testing_data_Y,verbose=0)\n",
        "print(score[1]*100)"
      ],
      "id": "d5d42d0f"
    },
    {
      "cell_type": "code",
      "execution_count": 13,
      "metadata": {
        "id": "eDK0B0MDId7A",
        "colab": {
          "base_uri": "https://localhost:8080/",
          "height": 960
        },
        "outputId": "3c588340-34ec-43a5-903a-d14aa7103157"
      },
      "outputs": [
        {
          "output_type": "execute_result",
          "data": {
            "text/plain": [
              "[]"
            ]
          },
          "metadata": {},
          "execution_count": 13
        },
        {
          "output_type": "display_data",
          "data": {
            "text/plain": [
              "<Figure size 640x480 with 1 Axes>"
            ],
            "image/png": "[encoded data removed]"
          },
          "metadata": {}
        },
        {
          "output_type": "display_data",
          "data": {
            "text/plain": [
              "<Figure size 640x480 with 1 Axes>"
            ],
            "image/png": "[encoded data removed]"
          },
          "metadata": {}
        }
      ],
      "source": [
        "import matplotlib.pyplot as plt\n",
        "import seaborn as sns\n",
        "sns.set()\n",
        "\n",
        "acc = history2.history['accuracy']\n",
        "val_acc = history2.history['val_accuracy']\n",
        "loss = history2.history[\"loss\"]\n",
        "val_loss = history2.history[\"val_loss\"]\n",
        "epochs = range(1, len(acc) + 1)\n",
        "plt.plot(epochs, acc, '-', label = 'Training Accuracy')\n",
        "plt.plot(epochs, val_acc, ':', label = 'Validation Accuracy')\n",
        "plt.title('Training and Validation Accuracy')\n",
        "plt.xlabel('Epoch')\n",
        "plt.ylabel('Accuracy')\n",
        "plt.legend(loc = 'lower right')\n",
        "plt.plot()\n",
        "plt.figure()\n",
        "plt.plot(epochs, loss, '-', label = 'Training Loss')\n",
        "plt.plot(epochs, val_loss, ':', label = 'Validation Loss')\n",
        "plt.title('Training and Validation Loss')\n",
        "plt.xlabel('Epoch')\n",
        "plt.ylabel('Loss')\n",
        "plt.legend(loc = 'lower right')\n",
        "plt.plot()"
      ],
      "id": "eDK0B0MDId7A"
    }
  ],
  "metadata": {
    "colab": {
      "provenance": []
    },
    "kernelspec": {
      "display_name": "Python 3.9 (tensorflow)",
      "language": "python",
      "name": "tensorflow"
    },
    "language_info": {
      "codemirror_mode": {
        "name": "ipython",
        "version": 3
      },
      "file_extension": ".py",
      "mimetype": "text/x-python",
      "name": "python",
      "nbconvert_exporter": "python",
      "pygments_lexer": "ipython3",
      "version": "3.9.13 | packaged by conda-forge | (main, May 27 2022, 17:00:33) \n[Clang 13.0.1 ]"
    }
  },
  "nbformat": 4,
  "nbformat_minor": 5
}