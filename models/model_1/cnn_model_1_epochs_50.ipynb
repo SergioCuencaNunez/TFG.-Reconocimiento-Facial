{
  "cells": [
    {
      "cell_type": "markdown",
      "metadata": {
        "id": "e03c7b5e"
      },
      "source": [
        "# Face recognition"
      ],
      "id": "e03c7b5e"
    },
    {
      "cell_type": "code",
      "execution_count": 1,
      "metadata": {
        "colab": {
          "base_uri": "https://localhost:8080/",
          "height": 324
        },
        "id": "8b1c6cb6",
        "outputId": "5f4eafc0-b5e8-4c69-db00-dc2b6b2f761e"
      },
      "outputs": [
        {
          "output_type": "stream",
          "name": "stdout",
          "text": [
            "Looking in indexes: https://pypi.org/simple, https://us-python.pkg.dev/colab-wheels/public/simple/\n",
            "Requirement already satisfied: scikit-plot in /usr/local/lib/python3.10/dist-packages (0.3.7)\n",
            "Requirement already satisfied: matplotlib>=1.4.0 in /usr/local/lib/python3.10/dist-packages (from scikit-plot) (3.7.1)\n",
            "Requirement already satisfied: scikit-learn>=0.18 in /usr/local/lib/python3.10/dist-packages (from scikit-plot) (1.2.2)\n",
            "Requirement already satisfied: scipy>=0.9 in /usr/local/lib/python3.10/dist-packages (from scikit-plot) (1.10.1)\n",
            "Requirement already satisfied: joblib>=0.10 in /usr/local/lib/python3.10/dist-packages (from scikit-plot) (1.2.0)\n",
            "Requirement already satisfied: contourpy>=1.0.1 in /usr/local/lib/python3.10/dist-packages (from matplotlib>=1.4.0->scikit-plot) (1.0.7)\n",
            "Requirement already satisfied: cycler>=0.10 in /usr/local/lib/python3.10/dist-packages (from matplotlib>=1.4.0->scikit-plot) (0.11.0)\n",
            "Requirement already satisfied: fonttools>=4.22.0 in /usr/local/lib/python3.10/dist-packages (from matplotlib>=1.4.0->scikit-plot) (4.39.3)\n",
            "Requirement already satisfied: kiwisolver>=1.0.1 in /usr/local/lib/python3.10/dist-packages (from matplotlib>=1.4.0->scikit-plot) (1.4.4)\n",
            "Requirement already satisfied: numpy>=1.20 in /usr/local/lib/python3.10/dist-packages (from matplotlib>=1.4.0->scikit-plot) (1.22.4)\n",
            "Requirement already satisfied: packaging>=20.0 in /usr/local/lib/python3.10/dist-packages (from matplotlib>=1.4.0->scikit-plot) (23.1)\n",
            "Requirement already satisfied: pillow>=6.2.0 in /usr/local/lib/python3.10/dist-packages (from matplotlib>=1.4.0->scikit-plot) (8.4.0)\n",
            "Requirement already satisfied: pyparsing>=2.3.1 in /usr/local/lib/python3.10/dist-packages (from matplotlib>=1.4.0->scikit-plot) (3.0.9)\n",
            "Requirement already satisfied: python-dateutil>=2.7 in /usr/local/lib/python3.10/dist-packages (from matplotlib>=1.4.0->scikit-plot) (2.8.2)\n",
            "Requirement already satisfied: threadpoolctl>=2.0.0 in /usr/local/lib/python3.10/dist-packages (from scikit-learn>=0.18->scikit-plot) (3.1.0)\n",
            "Requirement already satisfied: six>=1.5 in /usr/local/lib/python3.10/dist-packages (from python-dateutil>=2.7->matplotlib>=1.4.0->scikit-plot) (1.16.0)\n"
          ]
        },
        {
          "output_type": "execute_result",
          "data": {
            "text/plain": [
              "''"
            ],
            "application/vnd.google.colaboratory.intrinsic+json": {
              "type": "string"
            }
          },
          "metadata": {},
          "execution_count": 1
        }
      ],
      "source": [
        "from tensorflow.python.keras.layers import Dense,Conv2D,Flatten,MaxPooling2D,ZeroPadding2D,Dropout,Softmax\n",
        "from sklearn.model_selection import train_test_split\n",
        "from sklearn.metrics import classification_report\n",
        "from tensorflow.python.keras import Sequential\n",
        "from sklearn.datasets import fetch_lfw_people\n",
        "from sklearn.datasets import fetch_lfw_pairs\n",
        "from matplotlib import pyplot as plt\n",
        "import matplotlib.pyplot as plt\n",
        "!pip install scikit-plot\n",
        "import scikitplot as skplt\n",
        "import numpy as np\n",
        "import random\n",
        "\n",
        "# Commented out IPython magic to ensure Python compatibility.\n",
        "from __future__ import absolute_import, division, print_function, unicode_literals\n",
        "import tensorflow_datasets as tfds\n",
        "import tensorflow as tf\n",
        "tf.test.gpu_device_name()"
      ],
      "id": "8b1c6cb6"
    },
    {
      "cell_type": "markdown",
      "metadata": {
        "id": "898550b2"
      },
      "source": [
        "## Fetch Data (FUNNELED FALSE)"
      ],
      "id": "898550b2"
    },
    {
      "cell_type": "code",
      "execution_count": 2,
      "metadata": {
        "id": "a1c9bb8c"
      },
      "outputs": [],
      "source": [
        "data=fetch_lfw_people(resize=0.4,min_faces_per_person=40,funneled=False)"
      ],
      "id": "a1c9bb8c"
    },
    {
      "cell_type": "code",
      "execution_count": 3,
      "metadata": {
        "colab": {
          "base_uri": "https://localhost:8080/"
        },
        "id": "4e58949a",
        "outputId": "7e4763ea-ccdb-4530-cec5-1723c4a9eda5"
      },
      "outputs": [
        {
          "output_type": "stream",
          "name": "stdout",
          "text": [
            "['data', 'images', 'target', 'target_names', 'DESCR']\n"
          ]
        }
      ],
      "source": [
        "l=list(data.keys())\n",
        "print(l)"
      ],
      "id": "4e58949a"
    },
    {
      "cell_type": "code",
      "execution_count": 4,
      "metadata": {
        "id": "f9065329"
      },
      "outputs": [],
      "source": [
        "X=data[\"data\"]\n",
        "Y=data[\"target\"]\n",
        "images=data[\"images\"]\n",
        "target_name=data[\"target_names\"]"
      ],
      "id": "f9065329"
    },
    {
      "cell_type": "code",
      "execution_count": 5,
      "metadata": {
        "colab": {
          "base_uri": "https://localhost:8080/"
        },
        "id": "11e3a4d9",
        "outputId": "01063959-0644-4dbd-dc1c-2f25acd8d602"
      },
      "outputs": [
        {
          "output_type": "execute_result",
          "data": {
            "text/plain": [
              "(array([ 0,  1,  2,  3,  4,  5,  6,  7,  8,  9, 10, 11, 12, 13, 14, 15, 16,\n",
              "        17, 18]),\n",
              " array([ 77,  42, 236, 121, 530, 109,  44,  71,  52,  55,  42,  53,  60,\n",
              "         41,  41,  48,  52, 144,  49]))"
            ]
          },
          "metadata": {},
          "execution_count": 5
        }
      ],
      "source": [
        "np.unique(Y,return_counts=True)"
      ],
      "id": "11e3a4d9"
    },
    {
      "cell_type": "code",
      "execution_count": 6,
      "metadata": {
        "colab": {
          "base_uri": "https://localhost:8080/"
        },
        "id": "01d1c32f",
        "outputId": "466597a7-a585-4aa8-f75c-907405eefd7e"
      },
      "outputs": [
        {
          "output_type": "execute_result",
          "data": {
            "text/plain": [
              "(array(['Ariel Sharon', 'Arnold Schwarzenegger', 'Colin Powell',\n",
              "        'Donald Rumsfeld', 'George W Bush', 'Gerhard Schroeder',\n",
              "        'Gloria Macapagal Arroyo', 'Hugo Chavez', 'Jacques Chirac',\n",
              "        'Jean Chretien', 'Jennifer Capriati', 'John Ashcroft',\n",
              "        'Junichiro Koizumi', 'Laura Bush', 'Lleyton Hewitt',\n",
              "        'Luiz Inacio Lula da Silva', 'Serena Williams', 'Tony Blair',\n",
              "        'Vladimir Putin'], dtype='<U25'),\n",
              " array([1, 1, 1, 1, 1, 1, 1, 1, 1, 1, 1, 1, 1, 1, 1, 1, 1, 1, 1]))"
            ]
          },
          "metadata": {},
          "execution_count": 6
        }
      ],
      "source": [
        "np.unique(target_name,return_counts=True)"
      ],
      "id": "01d1c32f"
    },
    {
      "cell_type": "code",
      "execution_count": 7,
      "metadata": {
        "colab": {
          "base_uri": "https://localhost:8080/",
          "height": 449
        },
        "id": "9681d6a8",
        "outputId": "4b85d141-8c1c-4b24-fca4-6a868aae3398"
      },
      "outputs": [
        {
          "output_type": "execute_result",
          "data": {
            "text/plain": [
              "<matplotlib.image.AxesImage at 0x7fb4e181a8c0>"
            ]
          },
          "metadata": {},
          "execution_count": 7
        },
        {
          "output_type": "display_data",
          "data": {
            "text/plain": [
              "<Figure size 640x480 with 1 Axes>"
            ],
            "image/png": "[encoded data removed]"
          },
          "metadata": {}
        }
      ],
      "source": [
        "target=list(target_name).index(\"Arnold Schwarzenegger\")\n",
        "indexes=np.where(Y == target)\n",
        "plt.imshow(images[indexes[0][0],:,:],cmap=\"gray\")"
      ],
      "id": "9681d6a8"
    },
    {
      "cell_type": "code",
      "execution_count": 8,
      "metadata": {
        "colab": {
          "base_uri": "https://localhost:8080/",
          "height": 430
        },
        "id": "daf68993",
        "outputId": "7004f51f-4cba-4b3f-b77c-40020cbe6c1a"
      },
      "outputs": [
        {
          "output_type": "display_data",
          "data": {
            "text/plain": [
              "<Figure size 640x480 with 1 Axes>"
            ],
            "image/png": "[encoded data removed]"
          },
          "metadata": {}
        }
      ],
      "source": [
        "_=plt.hist(images[indexes[0][0],:,:].flatten())"
      ],
      "id": "daf68993"
    },
    {
      "cell_type": "code",
      "execution_count": 9,
      "metadata": {
        "colab": {
          "base_uri": "https://localhost:8080/"
        },
        "id": "5322abb8",
        "outputId": "b07bbcea-7190-4258-8f48-83f093579e88"
      },
      "outputs": [
        {
          "output_type": "stream",
          "name": "stdout",
          "text": [
            "Samples: 1867\n",
            "Features: 1850\n",
            "Classes: 19\n",
            "Dimension per image: (50, 37)\n"
          ]
        }
      ],
      "source": [
        "_,W,H=images.shape\n",
        "features = X.shape[1]\n",
        "m = X.shape[0]\n",
        "classes = target_name.shape[0]\n",
        "\n",
        "print(\"Samples:\",m)\n",
        "print(\"Features:\",features)\n",
        "print(\"Classes:\",classes)\n",
        "print(\"Dimension per image:\",(W,H))"
      ],
      "id": "5322abb8"
    },
    {
      "cell_type": "markdown",
      "metadata": {
        "id": "64801830"
      },
      "source": [
        "## Prepare Training"
      ],
      "id": "64801830"
    },
    {
      "cell_type": "code",
      "execution_count": 10,
      "metadata": {
        "id": "aacec4cc"
      },
      "outputs": [],
      "source": [
        "### Shuffling the data ###\n",
        "\n",
        "temp=list(zip(X,Y)) \n",
        "random.Random(42).shuffle(temp) \n",
        "X,Y=zip(*temp)\n",
        "\n",
        "X=np.array(X)\n",
        "Y=np.array(Y)"
      ],
      "id": "aacec4cc"
    },
    {
      "cell_type": "code",
      "execution_count": 11,
      "metadata": {
        "id": "05a24f78"
      },
      "outputs": [],
      "source": [
        "####### Train and test splitting of data #######\n",
        "\n",
        "training_data_X,testing_data_X,training_data_Y,testing_data_Y=train_test_split(X,Y,test_size=0.20,random_state=42)"
      ],
      "id": "05a24f78"
    },
    {
      "cell_type": "code",
      "execution_count": 12,
      "metadata": {
        "colab": {
          "base_uri": "https://localhost:8080/"
        },
        "id": "6216fe50",
        "outputId": "6476297d-2206-4e32-f143-a2f66e022639"
      },
      "outputs": [
        {
          "output_type": "stream",
          "name": "stdout",
          "text": [
            "(1493, 1850)\n",
            "(1493,)\n",
            "(374, 1850)\n",
            "(374,)\n"
          ]
        }
      ],
      "source": [
        "print(training_data_X.shape)\n",
        "print(training_data_Y.shape)\n",
        "print(testing_data_X.shape)\n",
        "print(testing_data_Y.shape)"
      ],
      "id": "6216fe50"
    },
    {
      "cell_type": "markdown",
      "metadata": {
        "id": "7013cec5"
      },
      "source": [
        "## Create Model"
      ],
      "id": "7013cec5"
    },
    {
      "cell_type": "code",
      "execution_count": null,
      "metadata": {
        "id": "fb051406",
        "scrolled": false
      },
      "outputs": [],
      "source": [
        "from tensorflow.keras.utils import to_categorical\n",
        "import time\n",
        "\n",
        "####### CNN #######\n",
        "model=Sequential()\n",
        "\n",
        "model.add(Conv2D(64,kernel_size = 3,activation = 'relu',input_shape = (W,H,1)))\n",
        "model.add(MaxPooling2D((2,2),strides = (2,2)))\n",
        "model.add(Conv2D(128,kernel_size = 3,activation = 'relu'))\n",
        "model.add(MaxPooling2D((2,2),strides = (2,2)))\n",
        "model.add(Conv2D(256,kernel_size = 5,activation = 'relu'))\n",
        "model.add(MaxPooling2D((2,2),strides = (2,2)))\n",
        "model.add(Dropout(0.25))\n",
        "#model.add(Conv2D(512,kernel_size = 3,activation = 'relu'))\n",
        "#model.add(MaxPooling2D((2,2),strides = (2,2)))\n",
        "model.add(Flatten())\n",
        "model.add(Dense(classes,activation = 'softmax'))\n",
        "\n",
        "\n",
        "\n",
        "training_data_Y = to_categorical(training_data_Y)\n",
        "testing_data_Y = to_categorical(testing_data_Y)\n",
        "training_data_X = training_data_X.reshape(training_data_X.shape[0],W,H,1)\n",
        "testing_data_X = testing_data_X.reshape(testing_data_X.shape[0],W,H,1)\n",
        "\n",
        "print(training_data_X.shape)\n",
        "print(training_data_Y.shape)\n",
        "print(testing_data_X.shape)\n",
        "print(testing_data_Y.shape)\n",
        "\n",
        "# Measuring the time taken by the model to train\n",
        "start_time = time.time()\n",
        "model.compile(optimizer='Adamax',loss='categorical_crossentropy',metrics=['accuracy'])\n",
        "history = model.fit(training_data_X,training_data_Y,validation_data = (testing_data_X, testing_data_Y),batch_size = 100,epochs = 50)\n",
        "end_time = time.time()\n",
        "\n",
        "\n",
        "print(\"###### Total Time Taken: \", round((end_time - start_time)/60), 'Minutes ######')"
      ],
      "id": "fb051406"
    },
    {
      "cell_type": "code",
      "execution_count": null,
      "metadata": {
        "id": "ceefa088"
      },
      "outputs": [],
      "source": [
        "score = model.evaluate(testing_data_X,testing_data_Y,verbose=0)\n",
        "print(score[1]*100)"
      ],
      "id": "ceefa088"
    },
    {
      "cell_type": "code",
      "execution_count": null,
      "metadata": {
        "id": "bc372f81"
      },
      "outputs": [],
      "source": [
        "accuracy = history.history[\"accuracy\"]\n",
        "val_accuracy = history.history[\"val_accuracy\"]\n",
        "loss = history.history[\"loss\"]\n",
        "val_loss = history.history[\"val_loss\"]\n",
        "epochs = range(1, len(accuracy) + 1)\n",
        "plt.plot(epochs, accuracy, \"bo\", label  =\"Training accuracy\") \n",
        "plt.plot(epochs, val_accuracy, \"b\", label = \"Validation accuracy\") \n",
        "plt.title(\"Training and validation accuracy\")\n",
        "plt.legend()\n",
        "plt.figure()\n",
        "plt.plot(epochs, loss, \"bo\", label = \"Training loss\") \n",
        "plt.plot(epochs, val_loss, \"b\", label = \"Validation loss\") \n",
        "plt.title(\"Training and validation loss\")\n",
        "plt.legend()\n",
        "plt.show()"
      ],
      "id": "bc372f81"
    },
    {
      "cell_type": "markdown",
      "metadata": {
        "id": "6ed40f0a"
      },
      "source": [
        "## Fetch Data (FUNNELED TRUE)\n",
        "\n",
        "parece que es una técnica de alineamiento de imágenes que mejora el resultado del reconocimiento:\n",
        "    \n",
        "    http://vis-www.cs.umass.edu/deep_funnel.html\n",
        "    \n",
        "Deberíamos tenerlo en cuenta de cara a tu reconocedor, y si metes imágenes para entrenar tu reconocedor, deberíamos alinearlas de la misma forma que en el dataset LFW.\n",
        "\n",
        "Sin embargo, al repetir todo el proceso para imágenes FUNNELED, el resultado es mucho peor...."
      ],
      "id": "6ed40f0a"
    },
    {
      "cell_type": "code",
      "execution_count": 2,
      "metadata": {
        "id": "b01492a4"
      },
      "outputs": [],
      "source": [
        "data2=fetch_lfw_people(resize=0.4,min_faces_per_person=40,funneled=True)"
      ],
      "id": "b01492a4"
    },
    {
      "cell_type": "code",
      "execution_count": 3,
      "metadata": {
        "id": "97ead116"
      },
      "outputs": [],
      "source": [
        "X2=data2[\"data\"]\n",
        "Y2=data2[\"target\"]\n",
        "images2=data2[\"images\"]\n",
        "target_name2=data2[\"target_names\"]"
      ],
      "id": "97ead116"
    },
    {
      "cell_type": "code",
      "execution_count": 4,
      "metadata": {
        "colab": {
          "base_uri": "https://localhost:8080/",
          "height": 449
        },
        "id": "9c875e84",
        "outputId": "a8b43bde-3d96-4a35-8c38-2cf66c8b9a2d"
      },
      "outputs": [
        {
          "output_type": "execute_result",
          "data": {
            "text/plain": [
              "<matplotlib.image.AxesImage at 0x7f03d8cb1e40>"
            ]
          },
          "metadata": {},
          "execution_count": 4
        },
        {
          "output_type": "display_data",
          "data": {
            "text/plain": [
              "<Figure size 640x480 with 1 Axes>"
            ],
            "image/png": "[encoded data removed]"
          },
          "metadata": {}
        }
      ],
      "source": [
        "target2=list(target_name2).index(\"Arnold Schwarzenegger\")\n",
        "indexes2=np.where(Y2 == target2)\n",
        "plt.imshow(images2[indexes2[0][0],:,:],cmap=\"gray\")"
      ],
      "id": "9c875e84"
    },
    {
      "cell_type": "code",
      "execution_count": 5,
      "metadata": {
        "colab": {
          "base_uri": "https://localhost:8080/"
        },
        "id": "44708e44",
        "outputId": "f00c9de0-6171-4eb8-d07d-ee98b130c1d3"
      },
      "outputs": [
        {
          "output_type": "stream",
          "name": "stdout",
          "text": [
            "Samples: 1867\n",
            "Features: 1850\n",
            "Classes: 19\n",
            "Dimension per image: (50, 37)\n"
          ]
        }
      ],
      "source": [
        "_,W2,H2=images2.shape\n",
        "features2 = X2.shape[1]\n",
        "m2 = X2.shape[0]\n",
        "classes2 = target_name2.shape[0]\n",
        "\n",
        "print(\"Samples:\",m2)\n",
        "print(\"Features:\",features2)\n",
        "print(\"Classes:\",classes2)\n",
        "print(\"Dimension per image:\",(W2,H2))"
      ],
      "id": "44708e44"
    },
    {
      "cell_type": "markdown",
      "metadata": {
        "id": "7hSHWyfUIPuC"
      },
      "source": [
        "## Prepare Training"
      ],
      "id": "7hSHWyfUIPuC"
    },
    {
      "cell_type": "code",
      "execution_count": 6,
      "metadata": {
        "id": "5f1b1cde"
      },
      "outputs": [],
      "source": [
        "### Shuffling the data ###\n",
        "\n",
        "temp2=list(zip(X2,Y2)) \n",
        "random.Random(42).shuffle(temp2) \n",
        "X2,Y2=zip(*temp2)\n",
        "\n",
        "X2=np.array(X2)\n",
        "Y2=np.array(Y2)\n",
        "\n",
        "####### Train and test splitting of data #######\n",
        "\n",
        "training_data_X2,testing_data_X2,training_data_Y2,testing_data_Y2=train_test_split(X2,Y2,test_size=0.20,random_state=42)"
      ],
      "id": "5f1b1cde"
    },
    {
      "cell_type": "code",
      "execution_count": 7,
      "metadata": {
        "colab": {
          "base_uri": "https://localhost:8080/"
        },
        "id": "09c9acfd",
        "outputId": "5f9eb75d-4ee6-4ca0-c3c9-9efe310221b1"
      },
      "outputs": [
        {
          "output_type": "stream",
          "name": "stdout",
          "text": [
            "(1493, 1850)\n",
            "(1493,)\n",
            "(374, 1850)\n",
            "(374,)\n"
          ]
        }
      ],
      "source": [
        "print(training_data_X2.shape)\n",
        "print(training_data_Y2.shape)\n",
        "print(testing_data_X2.shape)\n",
        "print(testing_data_Y2.shape)"
      ],
      "id": "09c9acfd"
    },
    {
      "cell_type": "markdown",
      "metadata": {
        "id": "ecWTK7vQITwm"
      },
      "source": [
        "## Create Model"
      ],
      "id": "ecWTK7vQITwm"
    },
    {
      "cell_type": "code",
      "execution_count": 8,
      "metadata": {
        "id": "81c2b3cc"
      },
      "outputs": [],
      "source": [
        "from tensorflow.keras.utils import to_categorical\n",
        "import time\n",
        "\n",
        "####### CNN #######\n",
        "model2=Sequential()\n",
        "\n",
        "model2.add(Conv2D(64,kernel_size = 3,activation = 'relu',input_shape = (W2,H2,1)))\n",
        "model2.add(MaxPooling2D((2,2),strides = (2,2)))\n",
        "model2.add(Conv2D(128,kernel_size = 3,activation = 'relu'))\n",
        "model2.add(MaxPooling2D((2,2),strides = (2,2)))\n",
        "model2.add(Conv2D(256,kernel_size = 5,activation = 'relu'))\n",
        "model2.add(MaxPooling2D((2,2),strides = (2,2)))\n",
        "model2.add(Dropout(0.25))\n",
        "#model2.add(Conv2D(512,kernel_size = 3,activation = 'relu'))\n",
        "#model2.add(MaxPooling2D((2,2),strides = (2,2)))\n",
        "model2.add(Flatten())\n",
        "model2.add(Dense(classes2,activation = 'softmax'))\n",
        "\n",
        "\n",
        "\n",
        "training_data_Y2 = to_categorical(training_data_Y2)\n",
        "testing_data_Y2 = to_categorical(testing_data_Y2)\n",
        "training_data_X2 = training_data_X2.reshape(training_data_X2.shape[0],W2,H2,1)\n",
        "testing_data_X2 = testing_data_X2.reshape(testing_data_X2.shape[0],W2,H2,1)"
      ],
      "id": "81c2b3cc"
    },
    {
      "cell_type": "code",
      "execution_count": null,
      "metadata": {
        "id": "686aa00f"
      },
      "outputs": [],
      "source": [
        "print(training_data_X2.shape)\n",
        "print(training_data_Y2.shape)\n",
        "print(testing_data_X2.shape)\n",
        "print(testing_data_Y2.shape)"
      ],
      "id": "686aa00f"
    },
    {
      "cell_type": "code",
      "execution_count": 10,
      "metadata": {
        "id": "bcd11864",
        "scrolled": false,
        "colab": {
          "base_uri": "https://localhost:8080/"
        },
        "outputId": "a1184f7c-0de7-4856-e015-2d41e57108a9"
      },
      "outputs": [
        {
          "output_type": "stream",
          "name": "stdout",
          "text": [
            "Epoch 1/50\n",
            "15/15 [==============================] - 37s 2s/step - loss: 2.6303 - accuracy: 0.2679 - val_loss: 2.5231 - val_accuracy: 0.2807\n",
            "Epoch 2/50\n",
            "15/15 [==============================] - 19s 1s/step - loss: 2.5593 - accuracy: 0.2847 - val_loss: 2.5343 - val_accuracy: 0.2807\n",
            "Epoch 3/50\n",
            "15/15 [==============================] - 16s 1s/step - loss: 2.5379 - accuracy: 0.2847 - val_loss: 2.5198 - val_accuracy: 0.2807\n",
            "Epoch 4/50\n",
            "15/15 [==============================] - 15s 1s/step - loss: 2.5307 - accuracy: 0.2847 - val_loss: 2.5110 - val_accuracy: 0.2807\n",
            "Epoch 5/50\n",
            "15/15 [==============================] - 15s 1s/step - loss: 2.5165 - accuracy: 0.2853 - val_loss: 2.4823 - val_accuracy: 0.2807\n",
            "Epoch 6/50\n",
            "15/15 [==============================] - 16s 1s/step - loss: 2.4643 - accuracy: 0.2853 - val_loss: 2.4465 - val_accuracy: 0.2807\n",
            "Epoch 7/50\n",
            "15/15 [==============================] - 15s 1s/step - loss: 2.4211 - accuracy: 0.2940 - val_loss: 2.3893 - val_accuracy: 0.2995\n",
            "Epoch 8/50\n",
            "15/15 [==============================] - 17s 1s/step - loss: 2.3549 - accuracy: 0.3088 - val_loss: 2.3035 - val_accuracy: 0.3048\n",
            "Epoch 9/50\n",
            "15/15 [==============================] - 18s 1s/step - loss: 2.2733 - accuracy: 0.3269 - val_loss: 2.2209 - val_accuracy: 0.3235\n",
            "Epoch 10/50\n",
            "15/15 [==============================] - 17s 1s/step - loss: 2.1948 - accuracy: 0.3503 - val_loss: 2.1229 - val_accuracy: 0.3529\n",
            "Epoch 11/50\n",
            "15/15 [==============================] - 15s 995ms/step - loss: 2.1104 - accuracy: 0.3704 - val_loss: 2.0844 - val_accuracy: 0.4011\n",
            "Epoch 12/50\n",
            "15/15 [==============================] - 15s 1s/step - loss: 2.0262 - accuracy: 0.3952 - val_loss: 1.9794 - val_accuracy: 0.3770\n",
            "Epoch 13/50\n",
            "15/15 [==============================] - 15s 1s/step - loss: 1.9618 - accuracy: 0.4032 - val_loss: 1.8985 - val_accuracy: 0.4011\n",
            "Epoch 14/50\n",
            "15/15 [==============================] - 17s 1s/step - loss: 1.8897 - accuracy: 0.4367 - val_loss: 1.8062 - val_accuracy: 0.4332\n",
            "Epoch 15/50\n",
            "15/15 [==============================] - 18s 1s/step - loss: 1.8027 - accuracy: 0.4588 - val_loss: 1.7471 - val_accuracy: 0.4786\n",
            "Epoch 16/50\n",
            "15/15 [==============================] - 15s 1s/step - loss: 1.7271 - accuracy: 0.4823 - val_loss: 1.6385 - val_accuracy: 0.5615\n",
            "Epoch 17/50\n",
            "15/15 [==============================] - 15s 1s/step - loss: 1.6507 - accuracy: 0.5090 - val_loss: 1.5643 - val_accuracy: 0.5695\n",
            "Epoch 18/50\n",
            "15/15 [==============================] - 15s 1s/step - loss: 1.5943 - accuracy: 0.5405 - val_loss: 1.5153 - val_accuracy: 0.6096\n",
            "Epoch 19/50\n",
            "15/15 [==============================] - 15s 1s/step - loss: 1.5168 - accuracy: 0.5673 - val_loss: 1.4444 - val_accuracy: 0.6417\n",
            "Epoch 20/50\n",
            "15/15 [==============================] - 17s 1s/step - loss: 1.4496 - accuracy: 0.5720 - val_loss: 1.3602 - val_accuracy: 0.6497\n",
            "Epoch 21/50\n",
            "15/15 [==============================] - 15s 1s/step - loss: 1.3791 - accuracy: 0.5901 - val_loss: 1.3587 - val_accuracy: 0.6684\n",
            "Epoch 22/50\n",
            "15/15 [==============================] - 15s 1s/step - loss: 1.3056 - accuracy: 0.6169 - val_loss: 1.2556 - val_accuracy: 0.6765\n",
            "Epoch 23/50\n",
            "15/15 [==============================] - 16s 1s/step - loss: 1.2593 - accuracy: 0.6289 - val_loss: 1.2310 - val_accuracy: 0.6738\n",
            "Epoch 24/50\n",
            "15/15 [==============================] - 17s 1s/step - loss: 1.2066 - accuracy: 0.6430 - val_loss: 1.2326 - val_accuracy: 0.6791\n",
            "Epoch 25/50\n",
            "15/15 [==============================] - 15s 1s/step - loss: 1.1770 - accuracy: 0.6490 - val_loss: 1.1493 - val_accuracy: 0.6952\n",
            "Epoch 26/50\n",
            "15/15 [==============================] - 16s 1s/step - loss: 1.1510 - accuracy: 0.6644 - val_loss: 1.0798 - val_accuracy: 0.7326\n",
            "Epoch 27/50\n",
            "15/15 [==============================] - 16s 1s/step - loss: 1.1011 - accuracy: 0.6825 - val_loss: 1.0732 - val_accuracy: 0.7273\n",
            "Epoch 28/50\n",
            "15/15 [==============================] - 15s 1s/step - loss: 1.0479 - accuracy: 0.6952 - val_loss: 1.0277 - val_accuracy: 0.7380\n",
            "Epoch 29/50\n",
            "15/15 [==============================] - 15s 1s/step - loss: 0.9906 - accuracy: 0.7106 - val_loss: 1.0080 - val_accuracy: 0.7540\n",
            "Epoch 30/50\n",
            "15/15 [==============================] - 15s 1s/step - loss: 0.9583 - accuracy: 0.7307 - val_loss: 0.9718 - val_accuracy: 0.7567\n",
            "Epoch 31/50\n",
            "15/15 [==============================] - 15s 1s/step - loss: 0.9068 - accuracy: 0.7415 - val_loss: 0.9545 - val_accuracy: 0.7460\n",
            "Epoch 32/50\n",
            "15/15 [==============================] - 15s 1s/step - loss: 0.8654 - accuracy: 0.7421 - val_loss: 0.9008 - val_accuracy: 0.7674\n",
            "Epoch 33/50\n",
            "15/15 [==============================] - 17s 1s/step - loss: 0.8704 - accuracy: 0.7482 - val_loss: 0.8835 - val_accuracy: 0.7380\n",
            "Epoch 34/50\n",
            "15/15 [==============================] - 15s 1s/step - loss: 0.8681 - accuracy: 0.7495 - val_loss: 0.8740 - val_accuracy: 0.7834\n",
            "Epoch 35/50\n",
            "15/15 [==============================] - 15s 1s/step - loss: 0.8213 - accuracy: 0.7636 - val_loss: 0.8511 - val_accuracy: 0.7754\n",
            "Epoch 36/50\n",
            "15/15 [==============================] - 15s 1s/step - loss: 0.7814 - accuracy: 0.7917 - val_loss: 0.8384 - val_accuracy: 0.7888\n",
            "Epoch 37/50\n",
            "15/15 [==============================] - 16s 1s/step - loss: 0.7576 - accuracy: 0.7703 - val_loss: 0.8153 - val_accuracy: 0.7781\n",
            "Epoch 38/50\n",
            "15/15 [==============================] - 18s 1s/step - loss: 0.7267 - accuracy: 0.7917 - val_loss: 0.7631 - val_accuracy: 0.7941\n",
            "Epoch 39/50\n",
            "15/15 [==============================] - 16s 1s/step - loss: 0.6848 - accuracy: 0.8058 - val_loss: 0.7817 - val_accuracy: 0.7914\n",
            "Epoch 40/50\n",
            "15/15 [==============================] - 15s 1s/step - loss: 0.6824 - accuracy: 0.7944 - val_loss: 0.7337 - val_accuracy: 0.7968\n",
            "Epoch 41/50\n",
            "15/15 [==============================] - 15s 1s/step - loss: 0.6446 - accuracy: 0.8064 - val_loss: 0.7268 - val_accuracy: 0.8128\n",
            "Epoch 42/50\n",
            "15/15 [==============================] - 15s 1s/step - loss: 0.6497 - accuracy: 0.8071 - val_loss: 0.7055 - val_accuracy: 0.8289\n",
            "Epoch 43/50\n",
            "15/15 [==============================] - 15s 1s/step - loss: 0.5988 - accuracy: 0.8259 - val_loss: 0.7176 - val_accuracy: 0.8102\n",
            "Epoch 44/50\n",
            "15/15 [==============================] - 16s 1s/step - loss: 0.6021 - accuracy: 0.8272 - val_loss: 0.6581 - val_accuracy: 0.8369\n",
            "Epoch 45/50\n",
            "15/15 [==============================] - 16s 1s/step - loss: 0.5540 - accuracy: 0.8426 - val_loss: 0.6840 - val_accuracy: 0.8155\n",
            "Epoch 46/50\n",
            "15/15 [==============================] - 15s 1s/step - loss: 0.5445 - accuracy: 0.8480 - val_loss: 0.6957 - val_accuracy: 0.8155\n",
            "Epoch 47/50\n",
            "15/15 [==============================] - 15s 1s/step - loss: 0.5450 - accuracy: 0.8433 - val_loss: 0.6641 - val_accuracy: 0.8128\n",
            "Epoch 48/50\n",
            "15/15 [==============================] - 15s 1s/step - loss: 0.5234 - accuracy: 0.8500 - val_loss: 0.6325 - val_accuracy: 0.8449\n",
            "Epoch 49/50\n",
            "15/15 [==============================] - 15s 1s/step - loss: 0.4965 - accuracy: 0.8553 - val_loss: 0.6349 - val_accuracy: 0.8262\n",
            "Epoch 50/50\n",
            "15/15 [==============================] - 15s 1s/step - loss: 0.4743 - accuracy: 0.8727 - val_loss: 0.6207 - val_accuracy: 0.8342\n",
            "###### Total Time Taken:  14 Minutes ######\n"
          ]
        }
      ],
      "source": [
        "# Measuring the time taken by the model to train\n",
        "start_time2 = time.time()\n",
        "model2.compile(optimizer='Adamax',loss='categorical_crossentropy',metrics=['accuracy'])\n",
        "history2 = model2.fit(training_data_X2,training_data_Y2,validation_data = (testing_data_X2, testing_data_Y2),batch_size = 100,epochs = 50)\n",
        "end_time2 = time.time()\n",
        "\n",
        "\n",
        "print(\"###### Total Time Taken: \", round((end_time2 - start_time2)/60), 'Minutes ######')"
      ],
      "id": "bcd11864"
    },
    {
      "cell_type": "code",
      "execution_count": 12,
      "metadata": {
        "id": "4bae6869",
        "colab": {
          "base_uri": "https://localhost:8080/"
        },
        "outputId": "ccf96ce1-5ed0-4e53-e03f-9699db335034"
      },
      "outputs": [
        {
          "output_type": "stream",
          "name": "stdout",
          "text": [
            "83.42245817184448\n"
          ]
        }
      ],
      "source": [
        "score2 = model2.evaluate(testing_data_X2,testing_data_Y2,verbose=0)\n",
        "print(score2[1]*100)"
      ],
      "id": "4bae6869"
    },
    {
      "cell_type": "markdown",
      "metadata": {
        "id": "6723b4a0"
      },
      "source": [
        "Compruebo que con el modelo 1 (entrenado sin datos alineados) la precisión es similar, lo que me lleva a la conclusión de que probablemente, en este API, los datos con el funneled puesto a True y a False sean los mismos. Pero habrá que tenerlo en cuenta para tu aplicación."
      ],
      "id": "6723b4a0"
    },
    {
      "cell_type": "code",
      "execution_count": 13,
      "metadata": {
        "id": "d5d42d0f",
        "colab": {
          "base_uri": "https://localhost:8080/",
          "height": 181
        },
        "outputId": "7aeeca2e-b895-48d5-ce3a-740b1b0b719c"
      },
      "outputs": [
        {
          "output_type": "error",
          "ename": "NameError",
          "evalue": "ignored",
          "traceback": [
            "\u001b[0;31m---------------------------------------------------------------------------\u001b[0m",
            "\u001b[0;31mNameError\u001b[0m                                 Traceback (most recent call last)",
            "\u001b[0;32m<ipython-input-13-78596f1874f3>\u001b[0m in \u001b[0;36m<cell line: 1>\u001b[0;34m()\u001b[0m\n\u001b[0;32m----> 1\u001b[0;31m \u001b[0mscore\u001b[0m \u001b[0;34m=\u001b[0m \u001b[0mmodel\u001b[0m\u001b[0;34m.\u001b[0m\u001b[0mevaluate\u001b[0m\u001b[0;34m(\u001b[0m\u001b[0mtesting_data_X\u001b[0m\u001b[0;34m,\u001b[0m\u001b[0mtesting_data_Y\u001b[0m\u001b[0;34m,\u001b[0m\u001b[0mverbose\u001b[0m\u001b[0;34m=\u001b[0m\u001b[0;36m0\u001b[0m\u001b[0;34m)\u001b[0m\u001b[0;34m\u001b[0m\u001b[0;34m\u001b[0m\u001b[0m\n\u001b[0m\u001b[1;32m      2\u001b[0m \u001b[0mprint\u001b[0m\u001b[0;34m(\u001b[0m\u001b[0mscore\u001b[0m\u001b[0;34m[\u001b[0m\u001b[0;36m1\u001b[0m\u001b[0;34m]\u001b[0m\u001b[0;34m*\u001b[0m\u001b[0;36m100\u001b[0m\u001b[0;34m)\u001b[0m\u001b[0;34m\u001b[0m\u001b[0;34m\u001b[0m\u001b[0m\n",
            "\u001b[0;31mNameError\u001b[0m: name 'model' is not defined"
          ]
        }
      ],
      "source": [
        "score = model.evaluate(testing_data_X,testing_data_Y,verbose=0)\n",
        "print(score[1]*100)"
      ],
      "id": "d5d42d0f"
    },
    {
      "cell_type": "code",
      "execution_count": 11,
      "metadata": {
        "id": "eDK0B0MDId7A",
        "colab": {
          "base_uri": "https://localhost:8080/",
          "height": 960
        },
        "outputId": "a879960c-45a8-4d2b-e536-4af896538b31"
      },
      "outputs": [
        {
          "output_type": "execute_result",
          "data": {
            "text/plain": [
              "[]"
            ]
          },
          "metadata": {},
          "execution_count": 11
        },
        {
          "output_type": "display_data",
          "data": {
            "text/plain": [
              "<Figure size 640x480 with 1 Axes>"
            ],
            "image/png": "[encoded data removed]"
          },
          "metadata": {}
        },
        {
          "output_type": "display_data",
          "data": {
            "text/plain": [
              "<Figure size 640x480 with 1 Axes>"
            ],
            "image/png": "[encoded data removed]"
          },
          "metadata": {}
        }
      ],
      "source": [
        "import matplotlib.pyplot as plt\n",
        "import seaborn as sns\n",
        "sns.set()\n",
        "\n",
        "acc = history2.history['accuracy']\n",
        "val_acc = history2.history['val_accuracy']\n",
        "loss = history2.history[\"loss\"]\n",
        "val_loss = history2.history[\"val_loss\"]\n",
        "epochs = range(1, len(acc) + 1)\n",
        "plt.plot(epochs, acc, '-', label = 'Training Accuracy')\n",
        "plt.plot(epochs, val_acc, ':', label = 'Validation Accuracy')\n",
        "plt.title('Training and Validation Accuracy')\n",
        "plt.xlabel('Epoch')\n",
        "plt.ylabel('Accuracy')\n",
        "plt.legend(loc = 'lower right')\n",
        "plt.plot()\n",
        "plt.figure()\n",
        "plt.plot(epochs, loss, '-', label = 'Training Loss')\n",
        "plt.plot(epochs, val_loss, ':', label = 'Validation Loss')\n",
        "plt.title('Training and Validation Loss')\n",
        "plt.xlabel('Epoch')\n",
        "plt.ylabel('Loss')\n",
        "plt.legend(loc = 'lower right')\n",
        "plt.plot()"
      ],
      "id": "eDK0B0MDId7A"
    }
  ],
  "metadata": {
    "colab": {
      "provenance": []
    },
    "kernelspec": {
      "display_name": "Python 3.9 (tensorflow)",
      "language": "python",
      "name": "tensorflow"
    },
    "language_info": {
      "codemirror_mode": {
        "name": "ipython",
        "version": 3
      },
      "file_extension": ".py",
      "mimetype": "text/x-python",
      "name": "python",
      "nbconvert_exporter": "python",
      "pygments_lexer": "ipython3",
      "version": "3.9.13 | packaged by conda-forge | (main, May 27 2022, 17:00:33) \n[Clang 13.0.1 ]"
    }
  },
  "nbformat": 4,
  "nbformat_minor": 5
}